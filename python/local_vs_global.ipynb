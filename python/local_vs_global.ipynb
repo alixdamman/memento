{
 "cells": [
  {
   "cell_type": "markdown",
   "metadata": {},
   "source": [
    "# Local vs global"
   ]
  },
  {
   "cell_type": "markdown",
   "metadata": {},
   "source": [
    "## Function parameters"
   ]
  },
  {
   "cell_type": "markdown",
   "metadata": {},
   "source": [
    "Let's try to modify a parameter inside the function"
   ]
  },
  {
   "cell_type": "code",
   "execution_count": 1,
   "metadata": {},
   "outputs": [
    {
     "name": "stdout",
     "output_type": "stream",
     "text": [
      "the sum of 5 and 3 is  8 : CORRECT\n",
      "the sum of 5 and 3 is  5 : WRONG!\n"
     ]
    }
   ],
   "source": [
    "# define a function that computes and assign the result to the first parameter\n",
    "def add_wrong_way(a, b):\n",
    "    msg = \"the sum of {} and {} is \".format(a, b)\n",
    "    a = a + b\n",
    "    print(msg, a, \": CORRECT\")\n",
    "\n",
    "a, b = 5, 3\n",
    "msg = \"the sum of {} and {} is \".format(a, b)\n",
    "add_wrong_way(a, b)\n",
    "print(msg, a, \": WRONG!\")"
   ]
  },
  {
   "cell_type": "markdown",
   "metadata": {},
   "source": [
    "**WARNING**: All variable assignments in a function store the value in a local variable, i.e. that only exists inside the function."
   ]
  },
  {
   "cell_type": "code",
   "execution_count": 2,
   "metadata": {},
   "outputs": [
    {
     "name": "stdout",
     "output_type": "stream",
     "text": [
      "before calling function:             140313326737984 140313326737920\n",
      "inside function - before assignment: 140313326737984 140313326737920\n",
      "inside function - after assignment:  140313326738080 140313326737920\n",
      "after calling function:              140313326737984 140313326737920\n"
     ]
    }
   ],
   "source": [
    "def add_wrong_way(a, b):\n",
    "    print('inside function - before assignment:', id(a), id(b))\n",
    "    # during assignment, a new variable 'a' local to the function is created \n",
    "    a = a + b\n",
    "    print('inside function - after assignment: ', id(a), id(b))\n",
    "\n",
    "a, b = 5, 3\n",
    "print('before calling function:            ', id(a), id(b))\n",
    "\n",
    "add_wrong_way(a, b)\n",
    "\n",
    "print('after calling function:             ', id(a), id(b))"
   ]
  },
  {
   "cell_type": "markdown",
   "metadata": {},
   "source": [
    "Right way to do? Use the keyword **return** to return the modified value:"
   ]
  },
  {
   "cell_type": "code",
   "execution_count": 3,
   "metadata": {},
   "outputs": [
    {
     "name": "stdout",
     "output_type": "stream",
     "text": [
      "the sum of 5 and 3 is 8: CORRECT!\n"
     ]
    }
   ],
   "source": [
    "# define a function that computes and returns the sum of two numbers\n",
    "def add_right_way(a, b):\n",
    "    return a + b\n",
    "\n",
    "a, b = 5, 3\n",
    "res = add_right_way(a, b)\n",
    "print(\"the sum of {} and {} is {}: CORRECT!\".format(a, b, res))"
   ]
  },
  {
   "cell_type": "markdown",
   "metadata": {},
   "source": [
    "What about lists, dictionaries and class instances arguments? "
   ]
  },
  {
   "cell_type": "code",
   "execution_count": 4,
   "metadata": {},
   "outputs": [
    {
     "name": "stdout",
     "output_type": "stream",
     "text": [
      "[0, 1, 2, 3, 4]\n",
      "[0, 3, 2, 1, 4]\n"
     ]
    }
   ],
   "source": [
    "def swap(pos1, pos2, l):\n",
    "    l[pos2], l[pos1] = l[pos1], l[pos2]\n",
    "    \n",
    "l = [0, 1, 2, 3, 4]\n",
    "print(l)\n",
    "swap(1, 3, l)\n",
    "print(l)"
   ]
  },
  {
   "cell_type": "markdown",
   "metadata": {},
   "source": [
    "As long as you modify an element (part) of a `list`/`dict`/`class instance`, it's OK. If you try to reassign it completely, you'll get in trouble:"
   ]
  },
  {
   "cell_type": "code",
   "execution_count": 5,
   "metadata": {},
   "outputs": [
    {
     "name": "stdout",
     "output_type": "stream",
     "text": [
      "Does element 5 is at the end of list [0, 1, 2, 3, 4, 5]? YES\n",
      "Does element 5 is at the end of list [0, 1, 2, 3, 4]? NO\n"
     ]
    }
   ],
   "source": [
    "def append(elem, l):\n",
    "    l = l + [elem]\n",
    "    print(\"Does element {} is at the end of list {}? YES\".format(elem, l))\n",
    "    \n",
    "l = [0, 1, 2, 3, 4]\n",
    "append(5, l)\n",
    "print(\"Does element {} is at the end of list {}? NO\".format(5, l))"
   ]
  },
  {
   "cell_type": "markdown",
   "metadata": {},
   "source": [
    "Indeed:"
   ]
  },
  {
   "cell_type": "code",
   "execution_count": 6,
   "metadata": {},
   "outputs": [
    {
     "name": "stdout",
     "output_type": "stream",
     "text": [
      "before calling function:             140313097299976\n",
      "inside function - before assignment: 140313097299976\n",
      "inside function - after assignment:  140313097036104\n",
      "after calling function:              140313097299976\n"
     ]
    }
   ],
   "source": [
    "def append(elem, l):\n",
    "    print('inside function - before assignment:', id(l))\n",
    "    l = l + [elem]\n",
    "    # a new variable 'l' local to the function has been created\n",
    "    print('inside function - after assignment: ', id(l))\n",
    "    \n",
    "l = [0, 1, 2, 3, 4]\n",
    "print('before calling function:            ', id(l))\n",
    "append(5, l)\n",
    "\n",
    "print('after calling function:             ', id(l))"
   ]
  },
  {
   "cell_type": "markdown",
   "metadata": {},
   "source": [
    "## Global variables"
   ]
  },
  {
   "cell_type": "markdown",
   "metadata": {},
   "source": [
    "Variables defined outside a function (=global) can be accessed in it but do not reassing them. This may lead to an  error:"
   ]
  },
  {
   "cell_type": "code",
   "execution_count": 7,
   "metadata": {},
   "outputs": [
    {
     "ename": "UnboundLocalError",
     "evalue": "local variable 'var' referenced before assignment",
     "output_type": "error",
     "traceback": [
      "\u001b[0;31m---------------------------------------------------------------------------\u001b[0m",
      "\u001b[0;31mUnboundLocalError\u001b[0m                         Traceback (most recent call last)",
      "\u001b[0;32m<ipython-input-7-a0f0ae342db2>\u001b[0m in \u001b[0;36m<module>\u001b[0;34m()\u001b[0m\n\u001b[1;32m      7\u001b[0m     \u001b[0mvar\u001b[0m \u001b[0;34m=\u001b[0m \u001b[0;34m\"I'm a local variable\"\u001b[0m\u001b[0;34m\u001b[0m\u001b[0m\n\u001b[1;32m      8\u001b[0m \u001b[0;34m\u001b[0m\u001b[0m\n\u001b[0;32m----> 9\u001b[0;31m \u001b[0mplay_with_global_vars\u001b[0m\u001b[0;34m(\u001b[0m\u001b[0;34m)\u001b[0m\u001b[0;34m\u001b[0m\u001b[0m\n\u001b[0m",
      "\u001b[0;32m<ipython-input-7-a0f0ae342db2>\u001b[0m in \u001b[0;36mplay_with_global_vars\u001b[0;34m()\u001b[0m\n\u001b[1;32m      3\u001b[0m \u001b[0;32mdef\u001b[0m \u001b[0mplay_with_global_vars\u001b[0m\u001b[0;34m(\u001b[0m\u001b[0;34m)\u001b[0m\u001b[0;34m:\u001b[0m\u001b[0;34m\u001b[0m\u001b[0m\n\u001b[1;32m      4\u001b[0m     \u001b[0;31m# variables defined outside the function are accessible\u001b[0m\u001b[0;34m\u001b[0m\u001b[0;34m\u001b[0m\u001b[0m\n\u001b[0;32m----> 5\u001b[0;31m     \u001b[0mprint\u001b[0m\u001b[0;34m(\u001b[0m\u001b[0mvar\u001b[0m\u001b[0;34m)\u001b[0m\u001b[0;34m\u001b[0m\u001b[0m\n\u001b[0m\u001b[1;32m      6\u001b[0m     \u001b[0;31m# but if you try to reassign it, you actually create a new local variable with the same name\u001b[0m\u001b[0;34m\u001b[0m\u001b[0;34m\u001b[0m\u001b[0m\n\u001b[1;32m      7\u001b[0m     \u001b[0mvar\u001b[0m \u001b[0;34m=\u001b[0m \u001b[0;34m\"I'm a local variable\"\u001b[0m\u001b[0;34m\u001b[0m\u001b[0m\n",
      "\u001b[0;31mUnboundLocalError\u001b[0m: local variable 'var' referenced before assignment"
     ]
    }
   ],
   "source": [
    "var = \"I'm a global variable\"\n",
    "\n",
    "def play_with_global_vars():\n",
    "    # variables defined outside the function are accessible\n",
    "    print(var)\n",
    "    # but if you try to reassign it, you actually create a new local variable with the same name\n",
    "    var = \"I'm a local variable\"\n",
    "\n",
    "play_with_global_vars()"
   ]
  },
  {
   "cell_type": "markdown",
   "metadata": {},
   "source": [
    "or worse, you may have to face unexpected behavior:"
   ]
  },
  {
   "cell_type": "code",
   "execution_count": 8,
   "metadata": {},
   "outputs": [
    {
     "name": "stdout",
     "output_type": "stream",
     "text": [
      "I'm a local variable\n",
      "I'm a global variable\n"
     ]
    }
   ],
   "source": [
    "var = \"I'm a global variable\"\n",
    "\n",
    "def play_with_global_vars():\n",
    "    # create a new local variable which shadows the global one\n",
    "    var = \"I'm a local variable\"\n",
    "    print(var)\n",
    "\n",
    "play_with_global_vars()\n",
    "# after the function exit, the local variable 'var' has been destroyed\n",
    "# and the content of the global variable 'var' is unchanged\n",
    "print(var)"
   ]
  },
  {
   "cell_type": "markdown",
   "metadata": {},
   "source": [
    "<aside class=\"warning\">\n",
    "**WARNING**: Remember that all variable assignments in a function store the value in a local variable, i.e. that only exists inside the function. Variables defined outside the function (=global) should be used as read-only variables and not be reassigned.\n",
    "</aside>"
   ]
  },
  {
   "cell_type": "markdown",
   "metadata": {},
   "source": [
    "For global variables of simple type like `int`, `float` or `string`, do not try to modify them inside functions but use **return** instead:"
   ]
  },
  {
   "cell_type": "code",
   "execution_count": 9,
   "metadata": {},
   "outputs": [
    {
     "name": "stdout",
     "output_type": "stream",
     "text": [
      "I'm a global variable and I've been modified\n"
     ]
    }
   ],
   "source": [
    "var = \"I'm a global variable\"\n",
    "\n",
    "def play_with_global_vars():\n",
    "    return var + \" and I've been modified\"\n",
    "\n",
    "var = play_with_global_vars()\n",
    "print(var)"
   ]
  },
  {
   "cell_type": "markdown",
   "metadata": {},
   "source": [
    "For complex types like `list`, `dict` or `class instances`, it is possible to modify an element (part) of them: "
   ]
  },
  {
   "cell_type": "code",
   "execution_count": 10,
   "metadata": {},
   "outputs": [
    {
     "name": "stdout",
     "output_type": "stream",
     "text": [
      "[\"I'm\", 'a', 'global', 'variable']\n",
      "[\"I'm\", 'another', 'global', 'variable']\n",
      "========================================\n",
      "[\"I'm\", 'a', 'global', 'variable']\n",
      "[\"I'm\", 'new', 'global', 'variable']\n"
     ]
    }
   ],
   "source": [
    "list_var = \"I'm a global variable\".split()\n",
    "list_var2 = \"I'm another global variable\".split()\n",
    "\n",
    "print(list_var)\n",
    "print(list_var2)\n",
    "\n",
    "def play_with_global_vars():\n",
    "    # reassign the entire list --> WRONG!\n",
    "    list_var = \"I'm a local variable\".split()\n",
    "    # reassign an element of the list --> OK\n",
    "    list_var2[1] = \"new\"\n",
    "    \n",
    "play_with_global_vars()\n",
    "print(\"========================================\")\n",
    "print(list_var)\n",
    "print(list_var2)"
   ]
  }
 ],
 "metadata": {
  "kernelspec": {
   "display_name": "Python 3",
   "language": "python",
   "name": "python3"
  },
  "language_info": {
   "codemirror_mode": {
    "name": "ipython",
    "version": 3
   },
   "file_extension": ".py",
   "mimetype": "text/x-python",
   "name": "python",
   "nbconvert_exporter": "python",
   "pygments_lexer": "ipython3",
   "version": "3.6.1"
  }
 },
 "nbformat": 4,
 "nbformat_minor": 2
}
