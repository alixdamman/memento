{
 "cells": [
  {
   "cell_type": "markdown",
   "metadata": {
    "collapsed": true,
    "slideshow": {
     "slide_type": "slide"
    }
   },
   "source": [
    "# Functions\n",
    "\n",
    "- What is a function?\n",
    "- Why use functions?\n",
    "- How to define and call functions?\n",
    "- Keyword Arguments\n",
    "- Default Argument Values\n",
    "- Local vs global variables"
   ]
  },
  {
   "cell_type": "markdown",
   "metadata": {
    "slideshow": {
     "slide_type": "slide"
    }
   },
   "source": [
    "## What is a function?\n",
    "\n",
    "A function is a **block of organized, reusable code** that is used to **perform a single, specific task**. It performs actions on input data (arguments) and returns a result if necessary. "
   ]
  },
  {
   "cell_type": "markdown",
   "metadata": {
    "slideshow": {
     "slide_type": "slide"
    }
   },
   "source": [
    "## Why use functions?\n",
    "\n",
    "- **Reusability**: functions are reusable blocks of code and allow to avoid copy/paste which is a dangerous practice and pollutes the code.\n",
    "\n",
    "\n",
    "- **Organization**: functions help to organize your model. As a model grows in complexity, having all the code live inside a \"main\" script becomes increasingly complicated. Using functions allows to divide complicated tasks into smaller, simpler ones, and reduce the overall complexity of your model.\n",
    "\n",
    "\n",
    "- **Abstraction**: Functions can be used as \"black boxes\", you don't need to know what's inside to use them. To use a function, you just need to know its name (= what it is supposed to do), the input arguments and the optional output. "
   ]
  },
  {
   "cell_type": "markdown",
   "metadata": {
    "slideshow": {
     "slide_type": "slide"
    }
   },
   "source": [
    "## How to define and call functions?\n",
    "\n",
    "### How to define functions? \n",
    "\n",
    "- Function blocks begin with the keyword **def** followed by the **function name** and parentheses **( )**.\n",
    "- Input **arguments** are placed within these parentheses. They are optional.\n",
    "- The code block within every function starts with a colon (**:**) and is indented.\n",
    "- A function can optionally start by its **documentation**: string written between triple quotes \"\"\" (mutiple lines documentation is allowed).\n",
    "- The optional statement **return [variable(s) or expression]** exits a function and returns output result(s).\n",
    "\n",
    "Syntax:\n",
    "```python\n",
    "def function_name(arguments):\n",
    "    \"\"\"function documentation = docstring (optional)\"\"\"\n",
    "    <function code>\n",
    "    # optional\n",
    "    return [variable(s) or expression]\n",
    "```"
   ]
  },
  {
   "cell_type": "markdown",
   "metadata": {
    "slideshow": {
     "slide_type": "slide"
    }
   },
   "source": [
    "Let's begin with a simple function with no input arguments and returning nothing:"
   ]
  },
  {
   "cell_type": "code",
   "execution_count": 2,
   "metadata": {
    "slideshow": {
     "slide_type": "-"
    }
   },
   "outputs": [],
   "source": [
    "def it_helpdesk():\n",
    "    \"\"\"Print universal solution to any computer problem\"\"\"\n",
    "    print(\"Have you try to turn it off and on again?\")"
   ]
  },
  {
   "cell_type": "markdown",
   "metadata": {
    "slideshow": {
     "slide_type": "slide"
    }
   },
   "source": [
    "Function with an input argument:"
   ]
  },
  {
   "cell_type": "code",
   "execution_count": 4,
   "metadata": {
    "collapsed": true,
    "slideshow": {
     "slide_type": "-"
    }
   },
   "outputs": [],
   "source": [
    "def it_helpdesk(problem):\n",
    "    \"\"\"Print universal solution to any computer problem\"\"\"\n",
    "    print(\"Hello, IT\")\n",
    "    print(problem)\n",
    "    print(\"Have you try to turn it off and on again?\")"
   ]
  },
  {
   "cell_type": "markdown",
   "metadata": {
    "slideshow": {
     "slide_type": "slide"
    }
   },
   "source": [
    "Function returning something:"
   ]
  },
  {
   "cell_type": "code",
   "execution_count": 9,
   "metadata": {
    "collapsed": true,
    "slideshow": {
     "slide_type": "-"
    }
   },
   "outputs": [],
   "source": [
    "# (case 1) function returning an expression\n",
    "def it_helpdesk():\n",
    "    \"\"\"Return universal solution to any computer problem\"\"\"\n",
    "    return \"Have you try to turn it off and on again?\"\n",
    "\n",
    "# (case 2) function returning a variable\n",
    "def it_helpdesk():\n",
    "    \"\"\"Return universal solution to any computer problem\"\"\"\n",
    "    answer = \"Have you try to turn it off and on again?\"\n",
    "    return answer"
   ]
  },
  {
   "cell_type": "markdown",
   "metadata": {
    "slideshow": {
     "slide_type": "slide"
    }
   },
   "source": [
    "More complicated: a function with an input argument and returning something:"
   ]
  },
  {
   "cell_type": "code",
   "execution_count": 10,
   "metadata": {
    "collapsed": true,
    "slideshow": {
     "slide_type": "-"
    }
   },
   "outputs": [],
   "source": [
    "def it_helpdesk(problem):\n",
    "    \"\"\"Return universal solution to any computer problem\"\"\"\n",
    "    print(\"Hello, IT\")\n",
    "    print(problem)\n",
    "    return \"Have you try to turn it off and on again?\""
   ]
  },
  {
   "cell_type": "markdown",
   "metadata": {
    "slideshow": {
     "slide_type": "slide"
    }
   },
   "source": [
    "### How to call functions?\n",
    "\n",
    "- To call a function, simply type its name followed by parentheses ().\n",
    "- If the function defines input arguments, pass them inside the parentheses. Passed arguments can be values or variables.\n",
    "- If the function returns a result, precedes it with a new variable and the symbol =.\n",
    "\n",
    "Syntax:\n",
    "```python\n",
    "# function with no input argument and returning nothing\n",
    "function_name()\n",
    "# function with input arguments and returning nothing\n",
    "function_name(arguments)\n",
    "# function with input arguments and returning a result\n",
    "res = function_name(arguments)\n",
    "```"
   ]
  },
  {
   "cell_type": "markdown",
   "metadata": {
    "slideshow": {
     "slide_type": "slide"
    }
   },
   "source": [
    "Function with no input arguments:"
   ]
  },
  {
   "cell_type": "code",
   "execution_count": 3,
   "metadata": {
    "slideshow": {
     "slide_type": "-"
    }
   },
   "outputs": [
    {
     "name": "stdout",
     "output_type": "stream",
     "text": [
      "Have you try to turn it off and on again?\n"
     ]
    }
   ],
   "source": [
    "def it_helpdesk():\n",
    "    \"\"\"Print universal solution to any computer problem\"\"\"\n",
    "    print(\"Have you try to turn it off and on again?\")\n",
    "\n",
    "# call and execute function \"it_helpdesk()\"\n",
    "it_helpdesk()"
   ]
  },
  {
   "cell_type": "markdown",
   "metadata": {
    "slideshow": {
     "slide_type": "slide"
    }
   },
   "source": [
    "Function with an input argument:"
   ]
  },
  {
   "cell_type": "code",
   "execution_count": 12,
   "metadata": {
    "slideshow": {
     "slide_type": "-"
    }
   },
   "outputs": [
    {
     "name": "stdout",
     "output_type": "stream",
     "text": [
      "Hello, IT\n",
      "My computer smells weird and is very hot\n",
      "Have you try to turn it off and on again?\n",
      "\n",
      "10 minutes later...\n",
      "\n",
      "Hello, IT\n",
      "My computer is on fire!\n",
      "Have you try to turn it off and on again?\n"
     ]
    }
   ],
   "source": [
    "def it_helpdesk(problem):\n",
    "    \"\"\"Print universal solution to any computer problem\"\"\"\n",
    "    print(\"Hello, IT\")\n",
    "    print(problem)\n",
    "    print(\"Have you try to turn it off and on again?\")\n",
    "    \n",
    "# call function \"it_helpdesk\" and pass a string as input argument\n",
    "it_helpdesk(\"My computer smells weird and is very hot\")\n",
    "\n",
    "print(\"\\n10 minutes later...\\n\")\n",
    "\n",
    "# call function \"it_helpdesk\" and a variable \n",
    "# (!) the name of the passed variable can be different from the name of the input argument\n",
    "my_problem = \"My computer is on fire!\"\n",
    "it_helpdesk(my_problem)"
   ]
  },
  {
   "cell_type": "markdown",
   "metadata": {
    "slideshow": {
     "slide_type": "slide"
    }
   },
   "source": [
    "Function returning something:"
   ]
  },
  {
   "cell_type": "code",
   "execution_count": 16,
   "metadata": {
    "slideshow": {
     "slide_type": "-"
    }
   },
   "outputs": [
    {
     "name": "stdout",
     "output_type": "stream",
     "text": [
      "Have you try to turn it off and on again?\n"
     ]
    }
   ],
   "source": [
    "def it_helpdesk():\n",
    "    \"\"\"Return universal solution to any computer problem\"\"\"\n",
    "    return \"Have you try to turn it off and on again?\"\n",
    "\n",
    "# call function \"it_helpdesk\"\n",
    "answer = it_helpdesk()\n",
    "print(answer)"
   ]
  },
  {
   "cell_type": "markdown",
   "metadata": {
    "slideshow": {
     "slide_type": "slide"
    }
   },
   "source": [
    "More complicated: a function with an input argument and returning something:"
   ]
  },
  {
   "cell_type": "code",
   "execution_count": 17,
   "metadata": {
    "slideshow": {
     "slide_type": "-"
    }
   },
   "outputs": [
    {
     "name": "stdout",
     "output_type": "stream",
     "text": [
      "Hello, IT\n",
      "My computer smells weird and is very hot\n",
      "Have you try to turn it off and on again?\n",
      "\n",
      "10 minutes later...\n",
      "\n",
      "Hello, IT\n",
      "My computer is on fire!\n",
      "Have you try to turn it off and on again?\n"
     ]
    }
   ],
   "source": [
    "def it_helpdesk(problem):\n",
    "    \"\"\"Return universal solution to any computer problem\"\"\"\n",
    "    print(\"Hello, IT\")\n",
    "    print(problem)\n",
    "    return \"Have you try to turn it off and on again?\"\n",
    "\n",
    "# call function \"it_helpdesk\" and pass a string as input argument\n",
    "answer = it_helpdesk(\"My computer smells weird and is very hot\")\n",
    "print(answer)\n",
    "\n",
    "print(\"\\n10 minutes later...\\n\")\n",
    "\n",
    "# call function \"it_helpdesk\" and a variable \n",
    "# (!) the name of the passed variable can be different from the name of the input argument\n",
    "my_problem = \"My computer is on fire!\"\n",
    "answer = it_helpdesk(my_problem)\n",
    "print(answer)"
   ]
  },
  {
   "cell_type": "markdown",
   "metadata": {
    "slideshow": {
     "slide_type": "slide"
    }
   },
   "source": [
    "**Note**: it is allowed to return several values:"
   ]
  },
  {
   "cell_type": "code",
   "execution_count": 18,
   "metadata": {
    "slideshow": {
     "slide_type": "-"
    }
   },
   "outputs": [
    {
     "name": "stdout",
     "output_type": "stream",
     "text": [
      "8 1\n"
     ]
    }
   ],
   "source": [
    "# Note: this function already exists in Python\n",
    "def divmod(a, b):\n",
    "    \"\"\"Return the quotient and the remainder of the division of two numbers\"\"\"\n",
    "    return a // b, a % b\n",
    "\n",
    "quotient, remainder = divmod(25, 3)\n",
    "print(quotient, remainder)"
   ]
  },
  {
   "cell_type": "markdown",
   "metadata": {
    "slideshow": {
     "slide_type": "slide"
    }
   },
   "source": [
    "## Keyword Arguments"
   ]
  },
  {
   "cell_type": "markdown",
   "metadata": {
    "slideshow": {
     "slide_type": "slide"
    }
   },
   "source": [
    "## Default Argument Values"
   ]
  },
  {
   "cell_type": "markdown",
   "metadata": {
    "slideshow": {
     "slide_type": "slide"
    }
   },
   "source": [
    "## Local vs global variables\n",
    "\n",
    "In Python, you can use two kinds of variables:\n",
    "- **global variables**: defined outside functions. They are accessible everywhere inside the module (module = file with .py extension).\n",
    "- **local variables**: created inside functions. They are accessible only inside the function in which they are created.\n",
    "\n",
    "**WARNING**: a global and a local variable can have the same name! "
   ]
  },
  {
   "attachments": {
    "python_global_local_vars.png": {
     "image/png": "[encoded data removed]"
    }
   },
   "cell_type": "markdown",
   "metadata": {
    "slideshow": {
     "slide_type": "slide"
    }
   },
   "source": [
    "### Python variables\n",
    "\n",
    "![python_global_local_vars.png](attachment:python_global_local_vars.png)"
   ]
  },
  {
   "cell_type": "markdown",
   "metadata": {
    "slideshow": {
     "slide_type": "slide"
    }
   },
   "source": [
    "**Rule 1**: functions have access to global variables:"
   ]
  },
  {
   "cell_type": "code",
   "execution_count": 20,
   "metadata": {
    "slideshow": {
     "slide_type": "-"
    }
   },
   "outputs": [
    {
     "name": "stdout",
     "output_type": "stream",
     "text": [
      "I'm a global variable\n"
     ]
    }
   ],
   "source": [
    "global_var = \"I'm a global variable\"\n",
    "\n",
    "def my_function():\n",
    "    # a function can access to variables defined outside them\n",
    "    print(global_var)\n",
    "    \n",
    "my_function()"
   ]
  },
  {
   "cell_type": "markdown",
   "metadata": {
    "slideshow": {
     "slide_type": "slide"
    }
   },
   "source": [
    "**Rule 2**: variable assignments (i.e. using operator =) in a function create or act on local variables.\n",
    "\n",
    "**Rule 3**: if a local variable has the same name as a global one, Python will access the local variable (*variable shadowing*)."
   ]
  },
  {
   "cell_type": "code",
   "execution_count": 23,
   "metadata": {
    "slideshow": {
     "slide_type": "-"
    }
   },
   "outputs": [
    {
     "name": "stdout",
     "output_type": "stream",
     "text": [
      "I'm a local variable\n",
      "I'm a global variable\n"
     ]
    }
   ],
   "source": [
    "var = \"I'm a global variable\"\n",
    "\n",
    "def my_function():\n",
    "    # create a local variable named 'var' \n",
    "    var = \"I'm a local variable\"\n",
    "    # if a local variable has the same name as a global one, Python will access the local variable\n",
    "    print(var)\n",
    "    \n",
    "my_function()\n",
    "# the global variable has not been modified\n",
    "print(var)"
   ]
  },
  {
   "cell_type": "markdown",
   "metadata": {
    "slideshow": {
     "slide_type": "slide"
    }
   },
   "source": [
    "**Rule 4**: input arguments behave like global variables:"
   ]
  },
  {
   "cell_type": "code",
   "execution_count": 27,
   "metadata": {
    "slideshow": {
     "slide_type": "-"
    }
   },
   "outputs": [
    {
     "name": "stdout",
     "output_type": "stream",
     "text": [
      "I'm a global variable\n"
     ]
    }
   ],
   "source": [
    "var = \"I'm a global variable\"\n",
    "\n",
    "def my_function(var):\n",
    "    # input arguments behave like global variables\n",
    "    # remember: variable assignments (i.e. using operator =) in a function create or act on local variables\n",
    "    var = \"I'm a local variable\"\n",
    "\n",
    "# pass the global variable to function and try to modify it\n",
    "my_function(var)\n",
    "# the global variable has not been modified\n",
    "print(var)"
   ]
  },
  {
   "cell_type": "markdown",
   "metadata": {
    "slideshow": {
     "slide_type": "slide"
    }
   },
   "source": [
    "Don't want to lose your modifications? Use **return**:"
   ]
  },
  {
   "cell_type": "code",
   "execution_count": 28,
   "metadata": {
    "slideshow": {
     "slide_type": "-"
    }
   },
   "outputs": [
    {
     "name": "stdout",
     "output_type": "stream",
     "text": [
      "I'm a global variable and I have been modified\n"
     ]
    }
   ],
   "source": [
    "var = \"I'm a global variable\"\n",
    "\n",
    "def my_function(var):\n",
    "    # variable assignments (i.e. using operator =) in a function create or act on local variables\n",
    "    var = var + \" and I have been modified\"\n",
    "    # Don't want to lose your modifications? Use return\n",
    "    return var\n",
    "\n",
    "# set new content to variable 'var'\n",
    "var = my_function(var)\n",
    "# the variable 'var' has been modified\n",
    "print(var)"
   ]
  },
  {
   "cell_type": "markdown",
   "metadata": {
    "slideshow": {
     "slide_type": "slide"
    }
   },
   "source": [
    "End of story? Nope. \n",
    "\n",
    "Python is vicious as a snake...\n",
    "\n",
    "**Rule 5**: Modifying elements of a list, dictionary, array or any \"composed\" variable does not create new local variables:"
   ]
  },
  {
   "cell_type": "code",
   "execution_count": 33,
   "metadata": {
    "slideshow": {
     "slide_type": "-"
    }
   },
   "outputs": [
    {
     "name": "stdout",
     "output_type": "stream",
     "text": [
      "array_1 has not been modified:\n",
      "a  a0  a1  a2  a3  a4\n",
      "    1   2   3   4   5\n",
      "array_2 has been modified:\n",
      "b  b0  b1  b2  b3  b4\n",
      "    1   7   8   9  10\n"
     ]
    }
   ],
   "source": [
    "from larray import *\n",
    "\n",
    "array_1 = LArray([1, 2, 3, 4, 5], 'a=a0..a4')\n",
    "array_2 = LArray([1, 2, 3, 4, 5], 'b=b0..b4')\n",
    "\n",
    "def my_function():\n",
    "    # assigning the whole array creates a local array\n",
    "    array_1 = LArray([6, 7, 8, 9, 10], 'a=a0..a4')\n",
    "    # assigning subset of an array does not create local array\n",
    "    array_2['b1:b4'] = LArray([7, 8, 9, 10], 'b=b1..b4')\n",
    "\n",
    "my_function()\n",
    "print(\"array_1 has not been modified:\")\n",
    "print(array_1)\n",
    "print(\"array_2 has been modified:\")\n",
    "print(array_2)"
   ]
  },
  {
   "cell_type": "markdown",
   "metadata": {
    "slideshow": {
     "slide_type": "slide"
    }
   },
   "source": [
    "What if want to modify the whole content of an array? \n",
    "\n",
    "Simply add **[:]** next to the array you want to modify:"
   ]
  },
  {
   "cell_type": "code",
   "execution_count": 34,
   "metadata": {
    "slideshow": {
     "slide_type": "-"
    }
   },
   "outputs": [
    {
     "name": "stdout",
     "output_type": "stream",
     "text": [
      "array_1 has been modified:\n",
      "a  a0  a1  a2  a3  a4\n",
      "    6   7   8   9  10\n"
     ]
    }
   ],
   "source": [
    "from larray import *\n",
    "\n",
    "array_1 = LArray([1, 2, 3, 4, 5], 'a=a0..a4')\n",
    "\n",
    "def my_function():\n",
    "    # trick: to change to whole content of an array, add [:] next to the array\n",
    "    array_1[:] = LArray([6, 7, 8, 9, 10], 'a=a0..a4')\n",
    "\n",
    "my_function()\n",
    "print(\"array_1 has been modified:\")\n",
    "print(array_1)"
   ]
  },
  {
   "cell_type": "markdown",
   "metadata": {
    "slideshow": {
     "slide_type": "slide"
    }
   },
   "source": [
    "### What to remember?\n",
    "\n",
    "1. **Functions have access to global variables**.\n",
    "2. **Variable assignments (i.e. using operator =) in a function create or act on local variables**.\n",
    "3. **If a local variable has the same name as a global one, Python will access the local variable (variable shadowing)**.\n",
    "4. **Input arguments behave like global variables**.\n",
    "5. **Modifying elements of a list, dictionary, array or any \"composed\" variable does not create new local variables**.\n",
    "6. **To change the whole content of an array without creating a new local one, add [:] next to the array (e.g. pop[:] = 0)**.\n",
    "\n",
    "**TIPS**: \n",
    "\n",
    "Global variables may be dangerous. When it's possible, write functions as **independent** blocks of code and pass any external variables you need to work with as input arguments. \n",
    "\n",
    "When you have to deal with many external variables (arrays), passing all of them as arguments may become cumbersome. In that case, remember that modifying global variables inside functions is allowed in Python but must be done carefully."
   ]
  },
  {
   "cell_type": "markdown",
   "metadata": {
    "slideshow": {
     "slide_type": "slide"
    }
   },
   "source": [
    "## More infos on defining functions?\n",
    "\n",
    "See the [official documentation of Python (3.5)](https://docs.python.org/3.5/tutorial/controlflow.html#defining-functions)"
   ]
  }
 ],
 "metadata": {
  "celltoolbar": "Slideshow",
  "kernelspec": {
   "display_name": "Python 3",
   "language": "python",
   "name": "python3"
  },
  "language_info": {
   "codemirror_mode": {
    "name": "ipython",
    "version": 3
   },
   "file_extension": ".py",
   "mimetype": "text/x-python",
   "name": "python",
   "nbconvert_exporter": "python",
   "pygments_lexer": "ipython3",
   "version": "3.5.4"
  }
 },
 "nbformat": 4,
 "nbformat_minor": 1
}
