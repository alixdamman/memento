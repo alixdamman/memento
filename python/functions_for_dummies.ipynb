{
 "cells": [
  {
   "cell_type": "markdown",
   "metadata": {
    "collapsed": true,
    "slideshow": {
     "slide_type": "slide"
    }
   },
   "source": [
    "# Functions\n",
    "\n",
    "- What is a function?\n",
    "- Why use functions?\n",
    "- How to define and call functions?\n",
    "- Keyword Arguments\n",
    "- Default Argument Values\n",
    "- Functions vs Methods\n",
    "- Arbitrary Argument Lists"
   ]
  },
  {
   "cell_type": "markdown",
   "metadata": {
    "slideshow": {
     "slide_type": "slide"
    }
   },
   "source": [
    "## What is a function?\n",
    "\n",
    "A function is a **block of organized, reusable code** that is used to **perform a single, specific task**. It performs actions on input data (arguments) and returns a result if necessary. "
   ]
  },
  {
   "cell_type": "markdown",
   "metadata": {
    "slideshow": {
     "slide_type": "slide"
    }
   },
   "source": [
    "## Why use functions?\n",
    "\n",
    "- **Reusability**: functions are reusable blocks of code and allow to avoid copy/paste which is a dangerous practice and pollutes the code. "
   ]
  },
  {
   "cell_type": "markdown",
   "metadata": {
    "slideshow": {
     "slide_type": "subslide"
    }
   },
   "source": [
    "- **Organization**: functions help to organize your model. As a model grows in complexity, having all the code live inside a \"main\" script becomes increasingly complicated. Using functions allows to divide complicated tasks into smaller, simpler ones, and reduce the overall complexity of your model."
   ]
  },
  {
   "cell_type": "markdown",
   "metadata": {
    "slideshow": {
     "slide_type": "subslide"
    }
   },
   "source": [
    "- **Abstraction**: Functions can be used as \"black boxes\", you don't need to know what is inside to use them. To use a function, you just need to know its name (= what it is supposed to do), the input arguments and the optional output. "
   ]
  },
  {
   "cell_type": "markdown",
   "metadata": {
    "slideshow": {
     "slide_type": "subslide"
    }
   },
   "source": [
    "- **IDE-Tools**: take advantage of tools provided by most IDE software."
   ]
  },
  {
   "cell_type": "markdown",
   "metadata": {
    "slideshow": {
     "slide_type": "slide"
    }
   },
   "source": [
    "## How to define and call functions?\n",
    "\n",
    "### How to define functions? \n",
    "\n",
    "```python\n",
    "def function_name(arguments):\n",
    "    \"\"\"function documentation = docstring (optional)\"\"\"\n",
    "    <function code>\n",
    "    # optional\n",
    "    return [variable(s) or expression]\n",
    "```"
   ]
  },
  {
   "cell_type": "markdown",
   "metadata": {
    "slideshow": {
     "slide_type": "subslide"
    }
   },
   "source": [
    "- Function blocks begin with the keyword **def** followed by the **function name**, parentheses **( )** and a colon **:**\n",
    "- Input **arguments**, if any, are placed within these parentheses.\n",
    "- The code block within every function is indented.\n",
    "- A function can optionally start by its **documentation**: a string written between triple quotes \"\"\" (multiple lines documentation is allowed).\n",
    "- The optional statement **return [variable(s) or expression]** exits a function and returns output result(s)."
   ]
  },
  {
   "cell_type": "markdown",
   "metadata": {
    "slideshow": {
     "slide_type": "slide"
    }
   },
   "source": [
    "Let's begin with a simple function with no input arguments and returning nothing:"
   ]
  },
  {
   "cell_type": "code",
   "execution_count": 1,
   "metadata": {
    "collapsed": true,
    "slideshow": {
     "slide_type": "-"
    }
   },
   "outputs": [],
   "source": [
    "def it_helpdesk():\n",
    "    \"\"\"Print universal solution to any computer problem\"\"\"\n",
    "    print(\"Have you tried to turn it off and on again?\")"
   ]
  },
  {
   "cell_type": "markdown",
   "metadata": {
    "slideshow": {
     "slide_type": "slide"
    }
   },
   "source": [
    "Function with an input argument:"
   ]
  },
  {
   "cell_type": "code",
   "execution_count": 2,
   "metadata": {
    "collapsed": true,
    "slideshow": {
     "slide_type": "-"
    }
   },
   "outputs": [],
   "source": [
    "def it_helpdesk(problem):\n",
    "    print(\"Thank you for your request for support concerning:\")\n",
    "    print(problem)\n",
    "    print(\"Before we do anything, have you tried to turn it off and on again?\")"
   ]
  },
  {
   "cell_type": "markdown",
   "metadata": {
    "slideshow": {
     "slide_type": "slide"
    }
   },
   "source": [
    "Function returning something:"
   ]
  },
  {
   "cell_type": "code",
   "execution_count": 3,
   "metadata": {
    "collapsed": true,
    "slideshow": {
     "slide_type": "-"
    }
   },
   "outputs": [],
   "source": [
    "# (case 1) function returning an expression\n",
    "def it_helpdesk():\n",
    "    return \"Have you tried to turn it off and on again?\"\n",
    "\n",
    "# (case 2) function returning a variable\n",
    "def it_helpdesk():\n",
    "    answer = \"Have you tried to turn it off and on again?\"\n",
    "    return answer"
   ]
  },
  {
   "cell_type": "markdown",
   "metadata": {
    "slideshow": {
     "slide_type": "slide"
    }
   },
   "source": [
    "Function with an input argument and returning something:"
   ]
  },
  {
   "cell_type": "code",
   "execution_count": 4,
   "metadata": {
    "collapsed": true,
    "slideshow": {
     "slide_type": "-"
    }
   },
   "outputs": [],
   "source": [
    "def it_helpdesk(problem):\n",
    "    answer = \"Thank you for your request for support concerning:\\n\"\n",
    "    answer = answer + problem + \"\\n\"\n",
    "    answer = answer + \"Before we do anything, have you tried to turn it off and on again?\"\n",
    "    return answer"
   ]
  },
  {
   "cell_type": "markdown",
   "metadata": {
    "slideshow": {
     "slide_type": "slide"
    }
   },
   "source": [
    "### How to call functions?\n",
    "\n",
    "```python\n",
    "def function_name(...):\n",
    "    ...\n",
    "\n",
    "# function with no input argument and returning nothing\n",
    "function_name()\n",
    "# function with input arguments and returning nothing\n",
    "function_name(arguments)\n",
    "# function with input arguments and returning a result\n",
    "res = function_name(arguments)\n",
    "```"
   ]
  },
  {
   "cell_type": "markdown",
   "metadata": {
    "slideshow": {
     "slide_type": "subslide"
    }
   },
   "source": [
    "- To call a function, simply type its name followed by parentheses ().\n",
    "- If the function requires input arguments, you need to provide values for them inside the parentheses. \n",
    "  Theses values can be constants or expressions.\n",
    "- If the function returns a result, it can be stored in a variable by preceding the function name with a variable name."
   ]
  },
  {
   "cell_type": "markdown",
   "metadata": {
    "slideshow": {
     "slide_type": "slide"
    }
   },
   "source": [
    "Function with no input arguments:"
   ]
  },
  {
   "cell_type": "code",
   "execution_count": 5,
   "metadata": {
    "slideshow": {
     "slide_type": "-"
    }
   },
   "outputs": [
    {
     "name": "stdout",
     "output_type": "stream",
     "text": [
      "Have you tried to turn it off and on again?\n"
     ]
    }
   ],
   "source": [
    "def it_helpdesk():\n",
    "    print(\"Have you tried to turn it off and on again?\")\n",
    "\n",
    "# call and execute function \"it_helpdesk()\"\n",
    "it_helpdesk()"
   ]
  },
  {
   "cell_type": "markdown",
   "metadata": {
    "slideshow": {
     "slide_type": "slide"
    }
   },
   "source": [
    "Function with an input argument:"
   ]
  },
  {
   "cell_type": "code",
   "execution_count": 6,
   "metadata": {
    "slideshow": {
     "slide_type": "-"
    }
   },
   "outputs": [
    {
     "name": "stdout",
     "output_type": "stream",
     "text": [
      "Thank you for your request for support concerning:\n",
      "My computer smells weird and is very hot\n",
      "Before we do anything, have you tried to turn it off and on again?\n"
     ]
    }
   ],
   "source": [
    "def it_helpdesk(problem):\n",
    "    print(\"Thank you for your request for support concerning:\")\n",
    "    print(problem)\n",
    "    print(\"Before we do anything, have you tried to turn it off and on again?\")\n",
    "    \n",
    "# call function \"it_helpdesk\" and pass a string as input argument\n",
    "it_helpdesk(\"My computer smells weird and is very hot\")"
   ]
  },
  {
   "cell_type": "code",
   "execution_count": 7,
   "metadata": {
    "slideshow": {
     "slide_type": "subslide"
    }
   },
   "outputs": [
    {
     "name": "stdout",
     "output_type": "stream",
     "text": [
      "\n",
      "10 minutes later...\n",
      "\n",
      "Thank you for your request for support concerning:\n",
      "My computer is on fire!\n",
      "Before we do anything, have you tried to turn it off and on again?\n"
     ]
    }
   ],
   "source": [
    "print(\"\\n10 minutes later...\\n\")\n",
    "\n",
    "# call function \"it_helpdesk\" and a variable \n",
    "# (!) the name of the passed variable can be different from the name of the input argument\n",
    "my_problem = \"My computer is on fire!\"\n",
    "it_helpdesk(my_problem)"
   ]
  },
  {
   "cell_type": "markdown",
   "metadata": {
    "slideshow": {
     "slide_type": "slide"
    }
   },
   "source": [
    "Function returning something:"
   ]
  },
  {
   "cell_type": "code",
   "execution_count": 8,
   "metadata": {
    "slideshow": {
     "slide_type": "-"
    }
   },
   "outputs": [
    {
     "name": "stdout",
     "output_type": "stream",
     "text": [
      "Have you tried to turn it off and on again?\n"
     ]
    }
   ],
   "source": [
    "def it_helpdesk():\n",
    "    return \"Have you tried to turn it off and on again?\"\n",
    "\n",
    "# call function \"it_helpdesk\"\n",
    "it_answer = it_helpdesk()\n",
    "print(it_answer)"
   ]
  },
  {
   "cell_type": "markdown",
   "metadata": {
    "slideshow": {
     "slide_type": "slide"
    }
   },
   "source": [
    "Function with an input argument and returning something:"
   ]
  },
  {
   "cell_type": "code",
   "execution_count": 9,
   "metadata": {
    "slideshow": {
     "slide_type": "-"
    }
   },
   "outputs": [
    {
     "name": "stdout",
     "output_type": "stream",
     "text": [
      "Thank you for your request for support concerning:\n",
      "My computer smells weird and is very hot\n",
      "Before we do anything, have you tried to turn it off and on again?\n"
     ]
    }
   ],
   "source": [
    "def it_helpdesk(problem):\n",
    "    answer =  \"Thank you for your request for support concerning:\\n\"\n",
    "    answer = answer + problem + \"\\n\"\n",
    "    answer = answer + \"Before we do anything, have you tried to turn it off and on again?\"\n",
    "    return answer\n",
    "\n",
    "# call function \"it_helpdesk\" and pass a string as input argument\n",
    "it_answer = it_helpdesk(\"My computer smells weird and is very hot\")\n",
    "print(it_answer)"
   ]
  },
  {
   "cell_type": "code",
   "execution_count": 10,
   "metadata": {
    "slideshow": {
     "slide_type": "subslide"
    }
   },
   "outputs": [
    {
     "name": "stdout",
     "output_type": "stream",
     "text": [
      "\n",
      "10 minutes later...\n",
      "\n",
      "Thank you for your request for support concerning:\n",
      "My computer is on fire!\n",
      "Before we do anything, have you tried to turn it off and on again?\n"
     ]
    }
   ],
   "source": [
    "print(\"\\n10 minutes later...\\n\")\n",
    "\n",
    "# call function \"it_helpdesk\" and a variable \n",
    "# (!) the name of the passed variable can be different from the name of the input argument\n",
    "user_problem = \"My computer is on fire!\"\n",
    "it_answer = it_helpdesk(user_problem)\n",
    "print(it_answer)"
   ]
  },
  {
   "cell_type": "markdown",
   "metadata": {
    "slideshow": {
     "slide_type": "slide"
    }
   },
   "source": [
    "**Note**: a function can return several values:"
   ]
  },
  {
   "cell_type": "code",
   "execution_count": 11,
   "metadata": {
    "slideshow": {
     "slide_type": "-"
    }
   },
   "outputs": [
    {
     "name": "stdout",
     "output_type": "stream",
     "text": [
      "2 1\n"
     ]
    }
   ],
   "source": [
    "# Note: this function already exists in Python\n",
    "def divmod(a, b):\n",
    "    return a // b, a % b\n",
    "\n",
    "quotient, remainder = divmod(5, 2)\n",
    "print(quotient, remainder)"
   ]
  },
  {
   "attachments": {
    "exo_1.jpg": {
     "image/jpeg": "[encoded data removed]"
    }
   },
   "cell_type": "markdown",
   "metadata": {
    "slideshow": {
     "slide_type": "slide"
    }
   },
   "source": [
    "### Time to practice \n",
    "\n",
    "Do exercices 1, 2, 3 and 4.\n",
    "\n",
    "![exo_1.jpg](attachment:exo_1.jpg)"
   ]
  },
  {
   "cell_type": "markdown",
   "metadata": {
    "slideshow": {
     "slide_type": "slide"
    }
   },
   "source": [
    "## Keyword Arguments\n",
    "\n",
    "It is possible to pass input arguments to a function using the syntax **keyword=value**:"
   ]
  },
  {
   "cell_type": "code",
   "execution_count": 12,
   "metadata": {
    "slideshow": {
     "slide_type": "-"
    }
   },
   "outputs": [
    {
     "name": "stdout",
     "output_type": "stream",
     "text": [
      "No! It's all fake news!\n"
     ]
    }
   ],
   "source": [
    "def can_i_trust_this_website(website, country):\n",
    "    if country == 'US' and 'foxnews' in website:\n",
    "        print(\"Yes\")\n",
    "    else:\n",
    "        print(\"No! It's all fake news!\")\n",
    "\n",
    "# call function can_i_trust_this_website using \"keywords arguments\"\n",
    "can_i_trust_this_website(website=\"http://www.plan.be\", country=\"Belgium\")"
   ]
  },
  {
   "cell_type": "markdown",
   "metadata": {
    "slideshow": {
     "slide_type": "slide"
    }
   },
   "source": [
    "In that case, arguments can be passed in any order:"
   ]
  },
  {
   "cell_type": "code",
   "execution_count": 13,
   "metadata": {
    "slideshow": {
     "slide_type": "-"
    }
   },
   "outputs": [
    {
     "name": "stdout",
     "output_type": "stream",
     "text": [
      "No! It's all fake news!\n"
     ]
    }
   ],
   "source": [
    "# call function can_i_trust_this_website and pass input arguments in reverse order\n",
    "can_i_trust_this_website(country=\"Belgium\", website=\"http://www.plan.be\")"
   ]
  },
  {
   "cell_type": "markdown",
   "metadata": {
    "slideshow": {
     "slide_type": "slide"
    }
   },
   "source": [
    "It is even possible to mix positional and keyword arguments:"
   ]
  },
  {
   "cell_type": "code",
   "execution_count": 14,
   "metadata": {
    "slideshow": {
     "slide_type": "-"
    }
   },
   "outputs": [
    {
     "name": "stdout",
     "output_type": "stream",
     "text": [
      "No! It's all fake news!\n"
     ]
    }
   ],
   "source": [
    "can_i_trust_this_website(\"http://www.plan.be\", country=\"Belgium\")"
   ]
  },
  {
   "cell_type": "markdown",
   "metadata": {
    "slideshow": {
     "slide_type": "slide"
    }
   },
   "source": [
    "**WARNING**: positional arguments must always be passed first"
   ]
  },
  {
   "cell_type": "code",
   "execution_count": 15,
   "metadata": {
    "slideshow": {
     "slide_type": "-"
    }
   },
   "outputs": [
    {
     "ename": "SyntaxError",
     "evalue": "positional argument follows keyword argument (<ipython-input-15-9e159a4e5cf9>, line 1)",
     "output_type": "error",
     "traceback": [
      "\u001b[0;36m  File \u001b[0;32m\"<ipython-input-15-9e159a4e5cf9>\"\u001b[0;36m, line \u001b[0;32m1\u001b[0m\n\u001b[0;31m    can_i_trust_this_website(website=\"http://www.plan.be\", \"Belgium\")\u001b[0m\n\u001b[0m                                                          ^\u001b[0m\n\u001b[0;31mSyntaxError\u001b[0m\u001b[0;31m:\u001b[0m positional argument follows keyword argument\n"
     ]
    }
   ],
   "source": [
    "can_i_trust_this_website(website=\"http://www.plan.be\", \"Belgium\")"
   ]
  },
  {
   "attachments": {
    "exo_2.jpg": {
     "image/jpeg": "[encoded data removed]"
    }
   },
   "cell_type": "markdown",
   "metadata": {
    "slideshow": {
     "slide_type": "slide"
    }
   },
   "source": [
    "### Time to practice \n",
    "\n",
    "Do exercice 5.\n",
    "\n",
    "![exo_2.jpg](attachment:exo_2.jpg)"
   ]
  },
  {
   "cell_type": "markdown",
   "metadata": {
    "slideshow": {
     "slide_type": "slide"
    }
   },
   "source": [
    "## Default Argument Values\n",
    "\n",
    "It is possible to set a default value to some arguments of a function:"
   ]
  },
  {
   "cell_type": "code",
   "execution_count": 16,
   "metadata": {
    "slideshow": {
     "slide_type": "-"
    }
   },
   "outputs": [
    {
     "name": "stdout",
     "output_type": "stream",
     "text": [
      "No! It's all fake news!\n"
     ]
    }
   ],
   "source": [
    "def can_i_trust_this_website(website, country='Belgium'):\n",
    "    if country == 'US' and 'foxnews' in website:\n",
    "        print(\"Yes\")\n",
    "    else:\n",
    "        print(\"No! It's all fake news!\")\n",
    "\n",
    "# if no value is passed for the \"country\" argument, it will be set to \"Belgium\" by default \n",
    "can_i_trust_this_website(\"http://www.plan.be\")"
   ]
  },
  {
   "cell_type": "markdown",
   "metadata": {
    "slideshow": {
     "slide_type": "slide"
    }
   },
   "source": [
    "**WARNING**: arguments with default values must always be declared after all the others:"
   ]
  },
  {
   "cell_type": "code",
   "execution_count": 17,
   "metadata": {
    "slideshow": {
     "slide_type": "-"
    }
   },
   "outputs": [
    {
     "ename": "SyntaxError",
     "evalue": "non-default argument follows default argument (<ipython-input-17-af72b8fb7472>, line 2)",
     "output_type": "error",
     "traceback": [
      "\u001b[0;36m  File \u001b[0;32m\"<ipython-input-17-af72b8fb7472>\"\u001b[0;36m, line \u001b[0;32m2\u001b[0m\n\u001b[0;31m    def can_i_trust_this_website(website=\"http://www.foxnews.com\", country):\u001b[0m\n\u001b[0m                                ^\u001b[0m\n\u001b[0;31mSyntaxError\u001b[0m\u001b[0;31m:\u001b[0m non-default argument follows default argument\n"
     ]
    }
   ],
   "source": [
    "# Wrong function definition --> arguments with default values must always be placed at the end of the arguments list\n",
    "def can_i_trust_this_website(website=\"http://www.foxnews.com\", country):\n",
    "    if country == 'US' and 'foxnews' in website:\n",
    "        print(\"Yes\")\n",
    "    else:\n",
    "        print(\"No! It's all fake news!\")\n",
    "\n",
    "can_i_trust_this_website(\"Belgium\")"
   ]
  },
  {
   "cell_type": "markdown",
   "metadata": {
    "slideshow": {
     "slide_type": "slide"
    }
   },
   "source": [
    "What about default value of arguments of type list, dictionary or array (*mutable* objects)?"
   ]
  },
  {
   "cell_type": "code",
   "execution_count": 18,
   "metadata": {
    "slideshow": {
     "slide_type": "-"
    }
   },
   "outputs": [
    {
     "name": "stdout",
     "output_type": "stream",
     "text": [
      "Expected [1]. Got: [1]\n",
      "Expected [1]. Got: [1, 2]\n",
      "Expected [1]. Got: [1, 2, 3]\n"
     ]
    }
   ],
   "source": [
    "# Wrong function defintion --> default value for mutable input arguments should be None and \n",
    "# initialize inside the function\n",
    "def new_list_wrong_way(value, new_list=[]):\n",
    "    new_list.append(value)\n",
    "    return new_list\n",
    "\n",
    "result_1 = new_list_wrong_way(1)\n",
    "print('Expected [1]. Got:', result_1)\n",
    "result_2 = new_list_wrong_way(2)\n",
    "print('Expected [1]. Got:', result_2)\n",
    "result_3 = new_list_wrong_way(3)\n",
    "print('Expected [1]. Got:', result_3)"
   ]
  },
  {
   "cell_type": "markdown",
   "metadata": {
    "slideshow": {
     "slide_type": "slide"
    }
   },
   "source": [
    "The default value is evaluated only once. This leads to an unexpected behavior when the default value is an object of composed type such as a list or dictionary. \n",
    "\n",
    "**WARNING**: To define a function with arguments having a list, a dictionary or an array as default value, use **None** as the default value in the function definition and and **set the default value at the beginning of the function**:"
   ]
  },
  {
   "cell_type": "code",
   "execution_count": 19,
   "metadata": {
    "slideshow": {
     "slide_type": "-"
    }
   },
   "outputs": [
    {
     "name": "stdout",
     "output_type": "stream",
     "text": [
      "Expected [1]. Got: [1]\n",
      "Expected [1]. Got: [2]\n",
      "Expected [1]. Got: [3]\n"
     ]
    }
   ],
   "source": [
    "# Right way\n",
    "def new_list_right_way(a, new_list=None):\n",
    "    if new_list is None:\n",
    "        new_list = []\n",
    "    new_list.append(a)\n",
    "    return new_list\n",
    "\n",
    "result_1 = new_list_right_way(1)\n",
    "print('Expected [1]. Got:', result_1)\n",
    "result_2 = new_list_right_way(2)\n",
    "print('Expected [1]. Got:', result_2)\n",
    "result_3 = new_list_right_way(3)\n",
    "print('Expected [1]. Got:', result_3)"
   ]
  },
  {
   "cell_type": "markdown",
   "metadata": {
    "slideshow": {
     "slide_type": "slide"
    }
   },
   "source": [
    "**Note**: Keywords arguments and default argument values are two different things:\n",
    "- **Keywords arguments**: \"name=value\" in **function call**\n",
    "- **Default argument values**: \"name=value\" in **function definition**\n",
    "\n",
    "An argument without a default value can be passed as keyword argument and an argument with default value can be used like any positional argument:"
   ]
  },
  {
   "cell_type": "code",
   "execution_count": 20,
   "metadata": {
    "slideshow": {
     "slide_type": "-"
    }
   },
   "outputs": [
    {
     "name": "stdout",
     "output_type": "stream",
     "text": [
      "positional arg passed as keyword argument\n",
      "argument with a default value\n",
      "\n",
      "positional arg\n",
      "override default value\n",
      "\n"
     ]
    }
   ],
   "source": [
    "def function_with_default_argument_value(positional_arg, arg_with_default_value=\"argument with a default value\"):\n",
    "    print(positional_arg)\n",
    "    print(arg_with_default_value)\n",
    "    print()\n",
    "\n",
    "# An argument without a default value can be passed as keyword argument \n",
    "function_with_default_argument_value(positional_arg=\"positional arg passed as keyword argument\")\n",
    "\n",
    "# An argument with default value can be used like any positional argument\n",
    "function_with_default_argument_value(\"positional arg\", \"override default value\")"
   ]
  },
  {
   "attachments": {
    "exo_3.jpg": {
     "image/jpeg": "[encoded data removed]"
    }
   },
   "cell_type": "markdown",
   "metadata": {
    "slideshow": {
     "slide_type": "slide"
    }
   },
   "source": [
    "### Time to practice \n",
    "\n",
    "Do exercice 6.\n",
    "\n",
    "![exo_3.jpg](attachment:exo_3.jpg)"
   ]
  },
  {
   "cell_type": "markdown",
   "metadata": {
    "slideshow": {
     "slide_type": "slide"
    }
   },
   "source": [
    "## Functions vs Methods\n",
    "\n",
    "A method is a function called on a object using the syntax `object.method(arguments)`: "
   ]
  },
  {
   "cell_type": "code",
   "execution_count": 21,
   "metadata": {
    "slideshow": {
     "slide_type": "-"
    }
   },
   "outputs": [
    {
     "name": "stdout",
     "output_type": "stream",
     "text": [
      "age    0    1    2    3    4    5\n",
      "     1.0  1.0  1.0  1.0  1.0  1.0\n",
      "\n",
      "total population: 6.0\n"
     ]
    }
   ],
   "source": [
    "from larray import ones\n",
    "\n",
    "pop = ones('age=0..5')\n",
    "print(pop)\n",
    "\n",
    "# call method 'sum' on object 'pop'\n",
    "total_pop = pop.sum('age')\n",
    "print()\n",
    "print(\"total population:\", total_pop)"
   ]
  },
  {
   "cell_type": "markdown",
   "metadata": {
    "slideshow": {
     "slide_type": "slide"
    }
   },
   "source": [
    "## Arbitrary Argument Lists\n",
    "\n",
    "Some functions or methods have special input arguments `*args` and `**kwargs`. \n",
    "\n",
    "A function which has such arguments can have an arbitrary number of arguments:\n",
    "- `*args` for positional arguments (arguments passed without keyword)"
   ]
  },
  {
   "cell_type": "code",
   "execution_count": 22,
   "metadata": {
    "slideshow": {
     "slide_type": "-"
    }
   },
   "outputs": [
    {
     "name": "stdout",
     "output_type": "stream",
     "text": [
      "(0, 1, 2, 3, 4)\n"
     ]
    }
   ],
   "source": [
    "def function_with_arbitrary_positional_arguments(*args):\n",
    "    # passed arguments are converted to a tuple\n",
    "    print(args)\n",
    "    \n",
    "function_with_arbitrary_positional_arguments(0, 1, 2, 3, 4)"
   ]
  },
  {
   "cell_type": "markdown",
   "metadata": {
    "slideshow": {
     "slide_type": "subslide"
    }
   },
   "source": [
    "- `**kwargs` for keyword arguments"
   ]
  },
  {
   "cell_type": "code",
   "execution_count": 23,
   "metadata": {
    "slideshow": {
     "slide_type": "-"
    }
   },
   "outputs": [
    {
     "name": "stdout",
     "output_type": "stream",
     "text": [
      "{'firstname': 'Sarah', 'name': 'Connor', 'country': 'US'}\n"
     ]
    }
   ],
   "source": [
    "def function_with_arbitrary_keyword_arguments(**kwargs):\n",
    "    # passed arguments are converted to a dictionary\n",
    "    print(kwargs)\n",
    "    \n",
    "function_with_arbitrary_keyword_arguments(firstname='Sarah', name='Connor', country='US')"
   ]
  },
  {
   "cell_type": "markdown",
   "metadata": {
    "slideshow": {
     "slide_type": "slide"
    }
   },
   "source": [
    "The [builder method for Session](http://larray.readthedocs.io/en/stable/_generated/larray.Session.html#larray.Session) is a good example:"
   ]
  },
  {
   "cell_type": "code",
   "execution_count": 24,
   "metadata": {
    "slideshow": {
     "slide_type": "-"
    }
   },
   "outputs": [
    {
     "name": "stdout",
     "output_type": "stream",
     "text": [
      "Session(age, gender, country, pop_be, pop_by_age, pop_all)\n"
     ]
    }
   ],
   "source": [
    "from larray import Axis, Session, ones\n",
    "\n",
    "# define axes\n",
    "AGE = Axis('age = 0..5')\n",
    "GENDER = Axis('gender = F,M')\n",
    "COUNTRY = Axis('country = BE,FR,IT,UK')\n",
    "# define arrays\n",
    "pop_be = ones((AGE, GENDER))\n",
    "pop_by_age = ones((AGE, COUNTRY))\n",
    "pop_all = ones((AGE, GENDER, COUNTRY))\n",
    "\n",
    "# store axes and arrays in a session\n",
    "# Session builder accepts an arbitrary number of axes and arrays. \n",
    "# Axes are passed first and separated with commas (*args). \n",
    "# Arrays are then passed as keyword arguments (**kwargs).\n",
    "ses = Session(AGE, GENDER, COUNTRY, pop_be=pop_be, pop_by_age=pop_by_age, pop_all=pop_all)\n",
    "\n",
    "print(ses)"
   ]
  },
  {
   "cell_type": "markdown",
   "metadata": {
    "slideshow": {
     "slide_type": "slide"
    }
   },
   "source": [
    "## More infos on defining functions?\n",
    "\n",
    "See the [official documentation of Python (3.5)](https://docs.python.org/3.5/tutorial/controlflow.html#defining-functions)"
   ]
  }
 ],
 "metadata": {
  "celltoolbar": "Slideshow",
  "kernelspec": {
   "display_name": "Python 3",
   "language": "python",
   "name": "python3"
  },
  "language_info": {
   "codemirror_mode": {
    "name": "ipython",
    "version": 3
   },
   "file_extension": ".py",
   "mimetype": "text/x-python",
   "name": "python",
   "nbconvert_exporter": "python",
   "pygments_lexer": "ipython3",
   "version": "3.6.1"
  }
 },
 "nbformat": 4,
 "nbformat_minor": 1
}
