{
 "cells": [
  {
   "cell_type": "markdown",
   "metadata": {
    "slideshow": {
     "slide_type": "slide"
    }
   },
   "source": [
    "# Local vs global variables\n",
    "\n",
    "In Python, you can use two kinds of variables:\n",
    "- **global variables**: defined outside functions. They are accessible everywhere inside the module (module = file with .py extension).\n",
    "- **local variables**: created inside functions. They are accessible only inside the function in which they are created.\n",
    "\n",
    "**WARNING**: a local variable can have the same name than a global variable. In that case, the global variable cannot be accessed normally within that function: it is *shadowed* by the local variable.\n"
   ]
  },
  {
   "cell_type": "markdown",
   "metadata": {
    "slideshow": {
     "slide_type": "slide"
    }
   },
   "source": [
    "### Python variables\n",
    "\n",
    "![python_global_local_vars.png](attachment:python_global_local_vars.png)\n"
   ]
  },
  {
   "cell_type": "markdown",
   "metadata": {
    "slideshow": {
     "slide_type": "slide"
    }
   },
   "source": [
    "**Rule 1**: functions have access to global variables:\n"
   ]
  },
  {
   "cell_type": "code",
   "execution_count": 1,
   "metadata": {
    "slideshow": {
     "slide_type": "-"
    }
   },
   "outputs": [
    {
     "name": "stdout",
     "output_type": "stream",
     "text": [
      "I'm a global variable\n"
     ]
    }
   ],
   "source": [
    "global_var = \"I'm a global variable\"\n",
    "\n",
    "def my_function():\n",
    "    # a function can access variables defined outside of it\n",
    "    print(global_var)\n",
    "    \n",
    "my_function()"
   ]
  },
  {
   "cell_type": "markdown",
   "metadata": {
    "slideshow": {
     "slide_type": "slide"
    }
   },
   "source": [
    "**Rule 2**: variable assignments (i.e. using operator =) in a function create or act on local variables.\n",
    "\n",
    "**Rule 3**: a local and a global variable with the same name can coexist. If a local variable has the same name as a global one, using the name will access the **local** variable (*variable shadowing*).\n"
   ]
  },
  {
   "cell_type": "code",
   "execution_count": 2,
   "metadata": {
    "slideshow": {
     "slide_type": "-"
    }
   },
   "outputs": [
    {
     "name": "stdout",
     "output_type": "stream",
     "text": [
      "I'm a local variable\n",
      "I'm a global variable\n"
     ]
    }
   ],
   "source": [
    "var = \"I'm a global variable\"\n",
    "\n",
    "def my_function():\n",
    "    # create a local variable named 'var' \n",
    "    var = \"I'm a local variable\"\n",
    "    # if a local variable has the same name as a global one, Python will access the local variable\n",
    "    print(var)\n",
    "    \n",
    "my_function()\n",
    "# the global variable has not been modified\n",
    "print(var)"
   ]
  },
  {
   "cell_type": "markdown",
   "metadata": {
    "slideshow": {
     "slide_type": "slide"
    }
   },
   "source": [
    "Don't want to lose your modifications? Use the **return** statement:\n"
   ]
  },
  {
   "cell_type": "code",
   "execution_count": 3,
   "metadata": {
    "slideshow": {
     "slide_type": "-"
    }
   },
   "outputs": [
    {
     "name": "stdout",
     "output_type": "stream",
     "text": [
      "I'm a global variable and I have been modified\n"
     ]
    }
   ],
   "source": [
    "var = \"I'm a global variable\"\n",
    "\n",
    "def my_function():\n",
    "    # variable assignments (i.e. using operator =) in a function create or act on local variables\n",
    "    var = \"I'm a global variable and I have been modified\"\n",
    "    # Don't want to lose your modifications? Use the return statement\n",
    "    return var\n",
    "\n",
    "# set new content to the variable 'var'\n",
    "var = my_function()\n",
    "# the variable 'var' has been modified\n",
    "print(var)"
   ]
  },
  {
   "cell_type": "markdown",
   "metadata": {
    "slideshow": {
     "slide_type": "slide"
    }
   },
   "source": [
    "**Rule 4**: Input arguments are local variables. Use the **return** statement If you want to keep back your modifications after the call to the function:\n"
   ]
  },
  {
   "cell_type": "code",
   "execution_count": 4,
   "metadata": {
    "slideshow": {
     "slide_type": "-"
    }
   },
   "outputs": [
    {
     "name": "stdout",
     "output_type": "stream",
     "text": [
      "local variables: {'var': \"I'm a variable called 'var'\"}\n",
      "I'm an input argument and I'm local to the function\n",
      "I'm a variable called 'var'\n"
     ]
    }
   ],
   "source": [
    "var = \"I'm a variable called 'var'\"\n",
    "\n",
    "def my_function(var):\n",
    "    # input arguments are local\n",
    "    print('local variables:', locals())\n",
    "    # modifications on input arguments are not kept after function call\n",
    "    var = \"I'm an input argument and I'm local to the function\"\n",
    "    print(var)\n",
    "    \n",
    "my_function(var)\n",
    "# the global variable has not been modified\n",
    "print(var)"
   ]
  },
  {
   "cell_type": "code",
   "execution_count": 5,
   "metadata": {
    "slideshow": {
     "slide_type": "slide"
    }
   },
   "outputs": [
    {
     "name": "stdout",
     "output_type": "stream",
     "text": [
      "I'm an input argument and I'm local to the function\n"
     ]
    }
   ],
   "source": [
    "var = \"I'm a global variable\"\n",
    "\n",
    "def my_function(var):\n",
    "    # modifications on input arguments are not kept after function call\n",
    "    # input arguments are local\n",
    "    var = \"I'm an input argument and I'm local to the function\"\n",
    "    # use return statement to keep back your modifications\n",
    "    return var\n",
    "    \n",
    "# set new content to the variable 'var'\n",
    "var = my_function(var)\n",
    "# the variable 'var' has been modified\n",
    "print(var)"
   ]
  },
  {
   "cell_type": "markdown",
   "metadata": {
    "slideshow": {
     "slide_type": "slide"
    }
   },
   "source": [
    "End of story? Nope. \n",
    "\n",
    "Python can be vicious as a snake...\n",
    "\n",
    "In Python, you have to manipulate two kinds of objects:\n",
    "- **Immutable objects**: int, float, boolean, string, tuple.\n",
    "- **Mutable objects**: list, dict, Axes, LArray, Session, ...\n",
    "\n",
    "Specific rules applies to **mutable** objects.\n"
   ]
  },
  {
   "cell_type": "markdown",
   "metadata": {
    "slideshow": {
     "slide_type": "slide"
    }
   },
   "source": [
    "### Mutable objects (list, dict, Axes, LArray, Session, ...)\n",
    "\n",
    "**Rule 5**: Modifying **elements** of a **mutable** variable (list, dictionary, array, session, ...) does not create a new local variable:\n"
   ]
  },
  {
   "cell_type": "code",
   "execution_count": 6,
   "metadata": {
    "slideshow": {
     "slide_type": "-"
    }
   },
   "outputs": [
    {
     "name": "stdout",
     "output_type": "stream",
     "text": [
      "array_1:\n",
      "sex    F    M\n",
      "     0.0  0.0\n",
      "\n",
      "array_2:\n",
      "country   be   fr   de\n",
      "         1.0  1.0  1.0\n",
      "\n",
      "let's call 'my_function' and try to modify array_1 and array_2\n",
      "\n",
      "array_1 has not been modified:\n",
      "sex    F    M\n",
      "     0.0  0.0\n",
      "\n",
      "array_2 has been modified:\n",
      "country   be   fr   de\n",
      "         1.0  0.0  0.0\n"
     ]
    }
   ],
   "source": [
    "from larray import *\n",
    "\n",
    "array_1 = zeros('sex = F,M')\n",
    "array_2 = ones('country = be,fr,de')\n",
    "\n",
    "def my_function():\n",
    "    # assigning the whole array creates a new local array\n",
    "    array_1 = ones('sex = F,M')\n",
    "    # assigning a subset of an array does not create a local array\n",
    "    array_2['fr,de'] = 0\n",
    "\n",
    "print(\"array_1:\")\n",
    "print(array_1)\n",
    "print(\"\\narray_2:\")\n",
    "print(array_2)\n",
    "\n",
    "print(\"\\nlet's call 'my_function' and try to modify array_1 and array_2\\n\")\n",
    "my_function()\n",
    "\n",
    "print(\"array_1 has not been modified:\")\n",
    "print(array_1)\n",
    "print(\"\\narray_2 has been modified:\")\n",
    "print(array_2)"
   ]
  },
  {
   "cell_type": "markdown",
   "metadata": {
    "slideshow": {
     "slide_type": "slide"
    }
   },
   "source": [
    "Why?\n",
    "\n",
    "\n",
    "Assigning a new value to an object (x = 5, y = [0, 1, 2, 3]) creates a new object. \n",
    "\n",
    "Instead, modifying elements of a mutable object (y[1:3] = [0, 0]) does not create a new object but modifies the existing object.\n"
   ]
  },
  {
   "cell_type": "markdown",
   "metadata": {
    "slideshow": {
     "slide_type": "slide"
    }
   },
   "source": [
    "What if want to modify the whole content of an array? \n",
    "\n",
    "**Rule 6**: To change the whole content of an array without creating a new local one, add **[:]** next to the array:\n"
   ]
  },
  {
   "cell_type": "code",
   "execution_count": 7,
   "metadata": {
    "slideshow": {
     "slide_type": "-"
    }
   },
   "outputs": [
    {
     "name": "stdout",
     "output_type": "stream",
     "text": [
      "array_1:\n",
      "sex    F    M\n",
      "     0.0  0.0\n",
      "\n",
      "let's call 'my_function' and try to modify the whole content of array_1 using [:]\n",
      "\n",
      "array_1 has been modified:\n",
      "sex    F    M\n",
      "     1.0  1.0\n"
     ]
    }
   ],
   "source": [
    "from larray import *\n",
    "\n",
    "array_1 = zeros('sex = F,M')\n",
    "\n",
    "def my_function():\n",
    "    # trick: to change to whole content of an array, add [:] next to the array\n",
    "    array_1[:] = ones('sex = F,M')\n",
    "\n",
    "print(\"array_1:\")\n",
    "print(array_1)\n",
    "\n",
    "print(\"\\nlet's call 'my_function' and try to modify the whole content of array_1 using [:]\\n\")\n",
    "my_function()\n",
    "\n",
    "print(\"array_1 has been modified:\")\n",
    "print(array_1)"
   ]
  },
  {
   "cell_type": "markdown",
   "metadata": {
    "slideshow": {
     "slide_type": "slide"
    }
   },
   "source": [
    "What about input arguments?\n",
    "\n",
    "**Rule 7**: Modifying **elements** of a **mutable** input argument (list, dictionary, array, session, ...) modify also the content of the associated variable passed to the function:\n"
   ]
  },
  {
   "cell_type": "code",
   "execution_count": 8,
   "metadata": {
    "slideshow": {
     "slide_type": "-"
    }
   },
   "outputs": [
    {
     "name": "stdout",
     "output_type": "stream",
     "text": [
      "array_1:\n",
      "sex    F    M\n",
      "     0.0  0.0\n",
      "\n",
      "array_2:\n",
      "country   be   fr   de\n",
      "         1.0  1.0  1.0\n",
      "\n",
      "let's call 'my_function' and try to modify array_1 and array_2\n",
      "\n",
      "array_1 has not been modified:\n",
      "sex    F    M\n",
      "     0.0  0.0\n",
      "\n",
      "array_2 has been modified:\n",
      "country   be   fr   de\n",
      "         1.0  0.0  0.0\n"
     ]
    }
   ],
   "source": [
    "from larray import *\n",
    "\n",
    "array_1 = zeros('sex = F,M')\n",
    "array_2 = ones('country = be,fr,de')\n",
    "\n",
    "def my_function(arr_1, arr_2):\n",
    "    # assigning the whole array creates a new array\n",
    "    arr_1 = ones('sex = F,M')\n",
    "    # assigning a subset of an array does not create a new array\n",
    "    arr_2['fr,de'] = 0\n",
    "\n",
    "print(\"array_1:\")\n",
    "print(array_1)\n",
    "print(\"\\narray_2:\")\n",
    "print(array_2)\n",
    "\n",
    "print(\"\\nlet's call 'my_function' and try to modify array_1 and array_2\\n\")\n",
    "my_function(array_1, array_2)\n",
    "\n",
    "print(\"array_1 has not been modified:\")\n",
    "print(array_1)\n",
    "print(\"\\narray_2 has been modified:\")\n",
    "print(array_2)"
   ]
  },
  {
   "cell_type": "markdown",
   "metadata": {
    "slideshow": {
     "slide_type": "slide"
    }
   },
   "source": [
    "### What to remember?\n",
    "\n",
    "**For all objects**:\n",
    "\n",
    "1. Functions have access to global variables.\n",
    "2. Variable assignments (i.e. using operator =) in a function create or act on local variables.\n",
    "3. A local and a global variable with the same name can coexist. If a local variable has the same name as a global one, using the name will access the **local** variable (*variable shadowing*).\n",
    "4. Input arguments are local variables. Use the **return** statement If you want to keep back your modifications after the call to the function.\n",
    "\n",
    "**For mutable objects (list, dict, Axes, LArray, Session, ...)**:\n",
    "\n",
    "5. Modifying **elements** of a **mutable** variable does not create a new local variable (e.g. pop[10:99] = 0).\n",
    "6. To change the whole content of an array without creating a new local one, add **[:]** next to the array (e.g. pop[:] = 0).\n",
    "7. Modifying **elements** of a **mutable** input argument modify also the content of the variable passed to the function (e.g. pop[10:99] = 0).\n"
   ]
  },
  {
   "cell_type": "markdown",
   "metadata": {
    "slideshow": {
     "slide_type": "slide"
    }
   },
   "source": [
    "### Global Variables\n",
    "\n",
    "#### pro\n",
    "\n",
    "- **Accessibility**: global variables are accessible everywhere (assuming they are imported from the module in which they are declared)\n",
    "- **Typing**: No need to declare them as function arguments and to return them.\n",
    "- **(PyCharm)**: putting the cursor on them shows their declaration.\n",
    "\n",
    "#### cons\n",
    "\n",
    "- **Variables Shadowing**: global variables can be shadowed by unwanted local variables having the same name.\n",
    "- **Low Readability**: you need to read the whole the program to understand what it does.\n",
    "- **Low Predictability**: global variables can be responsible for unpredictable side-effects. The program does not crash but produces wrong results silently. \n",
    "- **Poor testing**: programs with global variables are hard to test (especially in case of *spaghetti code*). \n",
    "- **Multithreading**: global variables make it much harder or sometimes impossible to allow a program (or parts of it) to run on multiple processors/cores. \n"
   ]
  },
  {
   "cell_type": "markdown",
   "metadata": {
    "slideshow": {
     "slide_type": "slide"
    }
   },
   "source": [
    "### Local Variables\n",
    "\n",
    "#### pro\n",
    "\n",
    "- since there are local variables, no risk of shadowing.\n",
    "- **Divide and Conquer**: make functions indepedent blocks of code.\n",
    "- given the function name + input arguments + returned variables (should be described in docstring), you get all the information you need. Functions are like black-boxes with an interface.\n",
    "- from a function call, you know what is in and what is out.\n",
    "- **Multithreading**: you can more easily and safely run different scenarios at the same time on different CPU's\n",
    "\n",
    "#### cons\n",
    "\n",
    "- variables must be declared as function arguments and returned if modified.\n",
    "- variables must be passed to functions (if input) or stored (if output) at each function call.\n",
    "- **(PyCharm)**: inside functions, PyCharm lose access to their declaration and cannot display it anymore.\n"
   ]
  },
  {
   "cell_type": "markdown",
   "metadata": {
    "slideshow": {
     "slide_type": "slide"
    }
   },
   "source": [
    "**Conclusion**: \n",
    "\n",
    "Global variables may be dangerous. When it is possible, write functions as **independent** blocks of code and pass any external variables you need to work with as input arguments. Use return statement to return your modifications. \n",
    "However, it is usually OK to use global variables as *parameters* (read-only variables).\n",
    "\n",
    "When you have to deal with many variables (arrays), passing them all the time as function arguments may become cumbersome. \n",
    "Indeed, modifying **elements** of a *mutable* global variable does not create a local one. It is then possible to write a model based on \"global arrays\". Although this simplifies the writing of functions and increase the speed of model development, it impacts the readability and predictability of the code and may lead to tricky side-effects hard to detect. Global variables must be used carefully.\n"
   ]
  }
 ],
 "metadata": {
  "celltoolbar": "Slideshow",
  "kernelspec": {
   "display_name": "Python 3",
   "language": "python",
   "name": "python3"
  },
  "language_info": {
   "codemirror_mode": {
    "name": "ipython",
    "version": 3
   },
   "file_extension": ".py",
   "mimetype": "text/x-python",
   "name": "python",
   "nbconvert_exporter": "python",
   "pygments_lexer": "ipython3",
   "version": "3.6.4"
  }
 },
 "nbformat": 4,
 "nbformat_minor": 2
}
