{
 "cells": [
  {
   "cell_type": "markdown",
   "metadata": {
    "collapsed": true
   },
   "source": [
    "# Functions"
   ]
  },
  {
   "cell_type": "markdown",
   "metadata": {},
   "source": [
    "## Define a function in Python"
   ]
  },
  {
   "cell_type": "markdown",
   "metadata": {},
   "source": [
    "The keyword **def** introduces a function definition. It must be followed by the function name and the parenthesized list of formal parameters:"
   ]
  },
  {
   "cell_type": "code",
   "execution_count": 25,
   "metadata": {},
   "outputs": [
    {
     "name": "stdout",
     "output_type": "stream",
     "text": [
      "The sum of 5 and 3 is 8\n"
     ]
    }
   ],
   "source": [
    "# define a function that computes and print the sum of two numbers\n",
    "def print_sum(a, b):\n",
    "    print(\"The sum of {} and {} is {}\".format(a, b, a + b))\n",
    "\n",
    "a, b = 5, 3 \n",
    "print_sum(a, b)"
   ]
  },
  {
   "cell_type": "markdown",
   "metadata": {},
   "source": [
    "Now let's try to modify a parameter inside the function"
   ]
  },
  {
   "cell_type": "code",
   "execution_count": 49,
   "metadata": {},
   "outputs": [
    {
     "name": "stdout",
     "output_type": "stream",
     "text": [
      "the sum of 5 and 3 is  8 : CORRECT\n",
      "the sum of 5 and 3 is  5 : WRONG!\n"
     ]
    }
   ],
   "source": [
    "# define a function that computes and assign the result to the first parameter\n",
    "def add_wrong_way(a, b):\n",
    "    msg = \"the sum of {} and {} is \".format(a, b)\n",
    "    a = a + b\n",
    "    print(msg, a, \": CORRECT\")\n",
    "\n",
    "a, b = 5, 3\n",
    "msg = \"the sum of {} and {} is \".format(a, b)\n",
    "add_wrong_way(a, b)\n",
    "print(msg, a, \": WRONG!\")"
   ]
  },
  {
   "cell_type": "markdown",
   "metadata": {},
   "source": [
    "**WARNING**: All variable assignments in a function store the value in a local variable, i.e. that only exists inside the function."
   ]
  },
  {
   "cell_type": "code",
   "execution_count": 62,
   "metadata": {},
   "outputs": [
    {
     "name": "stdout",
     "output_type": "stream",
     "text": [
      "before calling function:             140011109788224 140011109788160\n",
      "inside function - before assignment: 140011109788224 140011109788160\n",
      "inside function - after assignment:  140011109788320 140011109788160\n",
      "after calling function:              140011109788224 140011109788160\n"
     ]
    }
   ],
   "source": [
    "def add_wrong_way(a, b):\n",
    "    print('inside function - before assignment:', id(a), id(b))\n",
    "    # during assignment, a new variable 'a' local to the function is created \n",
    "    a = a + b\n",
    "    print('inside function - after assignment: ', id(a), id(b))\n",
    "\n",
    "a, b = 5, 3\n",
    "print('before calling function:            ', id(a), id(b))\n",
    "\n",
    "add_wrong_way(a, b)\n",
    "\n",
    "print('after calling function:             ', id(a), id(b))"
   ]
  },
  {
   "cell_type": "markdown",
   "metadata": {},
   "source": [
    "Right way to do? Use the keyword **return** to return the modified value:"
   ]
  },
  {
   "cell_type": "code",
   "execution_count": 50,
   "metadata": {},
   "outputs": [
    {
     "name": "stdout",
     "output_type": "stream",
     "text": [
      "the sum of 5 and 3 is 8: CORRECT!\n"
     ]
    }
   ],
   "source": [
    "# define a function that computes and returns the sum of two numbers\n",
    "def add_right_way(a, b):\n",
    "    return a + b\n",
    "\n",
    "a, b = 5, 3\n",
    "res = add_right_way(a, b)\n",
    "print(\"the sum of {} and {} is {}: CORRECT!\".format(a, b, res))"
   ]
  },
  {
   "cell_type": "markdown",
   "metadata": {},
   "source": [
    "**Note**: it is allowed to return several values:"
   ]
  },
  {
   "cell_type": "code",
   "execution_count": 28,
   "metadata": {},
   "outputs": [
    {
     "name": "stdout",
     "output_type": "stream",
     "text": [
      "8 1\n"
     ]
    }
   ],
   "source": [
    "# define a function returning the quotient and the remainder of the division of two numbers\n",
    "# Note: this function already exists by default in Python\n",
    "def divmod(a, b):\n",
    "    return a // b, a % b\n",
    "\n",
    "quotient, remainder = divmod(25, 3)\n",
    "print(quotient, remainder)"
   ]
  },
  {
   "cell_type": "markdown",
   "metadata": {},
   "source": [
    "What about lists, dictionaries and class instances arguments? "
   ]
  },
  {
   "cell_type": "code",
   "execution_count": 53,
   "metadata": {},
   "outputs": [
    {
     "name": "stdout",
     "output_type": "stream",
     "text": [
      "[0, 1, 2, 3, 4]\n",
      "[0, 3, 2, 1, 4]\n"
     ]
    }
   ],
   "source": [
    "def swap(pos1, pos2, l):\n",
    "    l[pos2], l[pos1] = l[pos1], l[pos2]\n",
    "    \n",
    "l = [0, 1, 2, 3, 4]\n",
    "print(l)\n",
    "swap(1, 3, l)\n",
    "print(l)"
   ]
  },
  {
   "cell_type": "markdown",
   "metadata": {},
   "source": [
    "As long as you modify an element (part) of a `list`/`dict`/`class instance`, it's OK. If you try to reassign it completely, you'll get in trouble:"
   ]
  },
  {
   "cell_type": "code",
   "execution_count": 68,
   "metadata": {},
   "outputs": [
    {
     "name": "stdout",
     "output_type": "stream",
     "text": [
      "Does element 5 is at the end of list [0, 1, 2, 3, 4, 5]? YES\n",
      "Does element 5 is at the end of list [0, 1, 2, 3, 4]? NO\n"
     ]
    }
   ],
   "source": [
    "def append(elem, l):\n",
    "    l = l + [elem]\n",
    "    print(\"Does element {} is at the end of list {}? YES\".format(elem, l))\n",
    "    \n",
    "l = [0, 1, 2, 3, 4]\n",
    "append(5, l)\n",
    "print(\"Does element {} is at the end of list {}? NO\".format(5, l))"
   ]
  },
  {
   "cell_type": "markdown",
   "metadata": {},
   "source": [
    "Indeed:"
   ]
  },
  {
   "cell_type": "code",
   "execution_count": 69,
   "metadata": {},
   "outputs": [
    {
     "name": "stdout",
     "output_type": "stream",
     "text": [
      "before calling function:             140010903807560\n",
      "inside function - before assignment: 140010903807560\n",
      "inside function - after assignment:  140010903490696\n",
      "after calling function:              140010903807560\n"
     ]
    }
   ],
   "source": [
    "def append(elem, l):\n",
    "    print('inside function - before assignment:', id(l))\n",
    "    l = l + [elem]\n",
    "    # a new variable 'l' local to the function has been created\n",
    "    print('inside function - after assignment: ', id(l))\n",
    "    \n",
    "l = [0, 1, 2, 3, 4]\n",
    "print('before calling function:            ', id(l))\n",
    "append(5, l)\n",
    "\n",
    "print('after calling function:             ', id(l))"
   ]
  },
  {
   "cell_type": "markdown",
   "metadata": {},
   "source": [
    "## Default Argument Values"
   ]
  },
  {
   "cell_type": "markdown",
   "metadata": {
    "collapsed": true
   },
   "source": [
    "It is possible to set a value by default to some arguments of a function:"
   ]
  },
  {
   "cell_type": "code",
   "execution_count": 29,
   "metadata": {},
   "outputs": [
    {
     "name": "stdout",
     "output_type": "stream",
     "text": [
      "Wrong location. Move to Los Angeles.\n",
      "Wrong human. Find Connor Sarah\n",
      "kill\n"
     ]
    }
   ],
   "source": [
    "mission = {'action': 'kill', 'name':'Connor', 'firstname': 'Sarah', 'location': 'Los Angeles'}\n",
    "\n",
    "def action(name, firstname, location='Los Angeles'):\n",
    "    if location != mission['location']:\n",
    "        print('Wrong location. Move to {}.'.format(mission['location']))\n",
    "    elif name == 'Connor' and firstname == 'Sarah':\n",
    "        print(mission['action'])\n",
    "    else:\n",
    "        print(\"Wrong human. Find {} {}\".format(mission['name'], mission['firstname']))\n",
    "\n",
    "action('Snow', 'Jon', 'Winterfell')\n",
    "# no value given for argument location. By default, Los Angeles will be passed to the function \n",
    "action('Doe', 'John')\n",
    "action('Connor', 'Sarah')"
   ]
  },
  {
   "cell_type": "markdown",
   "metadata": {
    "collapsed": true
   },
   "source": [
    "**WARNING**: arguments with default values come always after "
   ]
  },
  {
   "cell_type": "code",
   "execution_count": 30,
   "metadata": {},
   "outputs": [
    {
     "ename": "SyntaxError",
     "evalue": "non-default argument follows default argument (<ipython-input-30-c98727ff5b83>, line 1)",
     "output_type": "error",
     "traceback": [
      "\u001b[0;36m  File \u001b[0;32m\"<ipython-input-30-c98727ff5b83>\"\u001b[0;36m, line \u001b[0;32m1\u001b[0m\n\u001b[0;31m    def action(location='Los Angeles', name, firstname):\u001b[0m\n\u001b[0m              ^\u001b[0m\n\u001b[0;31mSyntaxError\u001b[0m\u001b[0;31m:\u001b[0m non-default argument follows default argument\n"
     ]
    }
   ],
   "source": [
    "def action(location='Los Angeles', name, firstname):\n",
    "    if location != mission['location']:\n",
    "        print('Wrong location. Move to {}.'.format(mission['location']))\n",
    "    elif name == 'Connor' and firstname == 'Sarah':\n",
    "        print(mission['action'])\n",
    "    else:\n",
    "        print(\"find {} {}\".format(mission['name'], mission['firstname']))"
   ]
  },
  {
   "cell_type": "markdown",
   "metadata": {},
   "source": [
    "**WARNING**: The default value is evaluated only once. \n",
    "This makes a difference when the default value is an object such as a list, dictionary, or class instances:"
   ]
  },
  {
   "cell_type": "code",
   "execution_count": 31,
   "metadata": {},
   "outputs": [
    {
     "name": "stdout",
     "output_type": "stream",
     "text": [
      "Expected [1]. Got [1]\n",
      "Expected [2]. Got [1, 2]\n",
      "Expected [3]. Got [1, 2, 3]\n"
     ]
    }
   ],
   "source": [
    "# Wrong way\n",
    "def create_list_wrong_way(a, new_list=[]):\n",
    "    new_list.append(a)\n",
    "    return new_list\n",
    "\n",
    "print('Expected [1]. Got {}'.format(create_list_wrong_way(1)))\n",
    "print('Expected [2]. Got {}'.format(create_list_wrong_way(2)))\n",
    "print('Expected [3]. Got {}'.format(create_list_wrong_way(3)))"
   ]
  },
  {
   "cell_type": "markdown",
   "metadata": {},
   "source": [
    "In that case, prefer None as default value and build the list/dictionary/classe instance inside the function:"
   ]
  },
  {
   "cell_type": "code",
   "execution_count": 32,
   "metadata": {},
   "outputs": [
    {
     "name": "stdout",
     "output_type": "stream",
     "text": [
      "Expected [1]. Got [1]\n",
      "Expected [2]. Got [2]\n",
      "Expected [3]. Got [3]\n"
     ]
    }
   ],
   "source": [
    "# Right way\n",
    "def create_list_right_way(a, new_list=None):\n",
    "    if new_list is None:\n",
    "        new_list = []\n",
    "    new_list.append(a)\n",
    "    return new_list\n",
    "\n",
    "print('Expected [1]. Got {}'.format(create_list_right_way(1)))\n",
    "print('Expected [2]. Got {}'.format(create_list_right_way(2)))\n",
    "print('Expected [3]. Got {}'.format(create_list_right_way(3)))"
   ]
  },
  {
   "cell_type": "markdown",
   "metadata": {},
   "source": [
    "## Keyword Arguments"
   ]
  },
  {
   "cell_type": "markdown",
   "metadata": {},
   "source": [
    "Functions can also be called using keyword arguments of the form kwarg=value:"
   ]
  },
  {
   "cell_type": "code",
   "execution_count": 33,
   "metadata": {},
   "outputs": [
    {
     "name": "stdout",
     "output_type": "stream",
     "text": [
      "kill\n",
      "kill\n"
     ]
    }
   ],
   "source": [
    "# def action(name, firstname, location='Los Angeles'):\n",
    "# ...\n",
    "\n",
    "# when a function is called, values must be passed in the order of arguments as defined in the function\n",
    "action('Connor', 'Sarah')\n",
    "\n",
    "# but it is possible to specify the argument associated with the passed value and so to pass argument in any order\n",
    "action(firstname='Sarah', name='Connor')"
   ]
  },
  {
   "cell_type": "markdown",
   "metadata": {},
   "source": [
    "It is also possible to mix positional and keyword arguments"
   ]
  },
  {
   "cell_type": "code",
   "execution_count": 34,
   "metadata": {},
   "outputs": [
    {
     "name": "stdout",
     "output_type": "stream",
     "text": [
      "Wrong location. Move to Los Angeles.\n"
     ]
    }
   ],
   "source": [
    "action('Snow', location='Winterfell', firstname='Jon')     # 1 positional + 2 keyword args"
   ]
  },
  {
   "cell_type": "markdown",
   "metadata": {},
   "source": [
    "but positional argument must always be passed first "
   ]
  },
  {
   "cell_type": "code",
   "execution_count": 35,
   "metadata": {},
   "outputs": [
    {
     "ename": "SyntaxError",
     "evalue": "positional argument follows keyword argument (<ipython-input-35-20c9d3cbf149>, line 1)",
     "output_type": "error",
     "traceback": [
      "\u001b[0;36m  File \u001b[0;32m\"<ipython-input-35-20c9d3cbf149>\"\u001b[0;36m, line \u001b[0;32m1\u001b[0m\n\u001b[0;31m    action(location='Winterfell', firstname='Jon', 'Snow')     # 2 keyword + 1 positional args --> WRONG!\u001b[0m\n\u001b[0m                                                  ^\u001b[0m\n\u001b[0;31mSyntaxError\u001b[0m\u001b[0;31m:\u001b[0m positional argument follows keyword argument\n"
     ]
    }
   ],
   "source": [
    "action(location='Winterfell', firstname='Jon', 'Snow')     # 2 keyword + 1 positional args --> WRONG!"
   ]
  },
  {
   "cell_type": "markdown",
   "metadata": {},
   "source": [
    "## Arbitrary Argument Lists"
   ]
  },
  {
   "cell_type": "markdown",
   "metadata": {},
   "source": []
  },
  {
   "cell_type": "code",
   "execution_count": null,
   "metadata": {
    "collapsed": true
   },
   "outputs": [],
   "source": []
  },
  {
   "cell_type": "markdown",
   "metadata": {},
   "source": []
  },
  {
   "cell_type": "code",
   "execution_count": null,
   "metadata": {
    "collapsed": true
   },
   "outputs": [],
   "source": []
  },
  {
   "cell_type": "markdown",
   "metadata": {},
   "source": []
  },
  {
   "cell_type": "code",
   "execution_count": null,
   "metadata": {
    "collapsed": true
   },
   "outputs": [],
   "source": []
  },
  {
   "cell_type": "markdown",
   "metadata": {},
   "source": [
    "## More on local vs global"
   ]
  },
  {
   "cell_type": "markdown",
   "metadata": {},
   "source": [
    "Variables defined outside a function (=global) can be accessed in it but do not reassing them. This may lead to an  error:"
   ]
  },
  {
   "cell_type": "code",
   "execution_count": 71,
   "metadata": {},
   "outputs": [
    {
     "ename": "UnboundLocalError",
     "evalue": "local variable 'var' referenced before assignment",
     "output_type": "error",
     "traceback": [
      "\u001b[0;31m---------------------------------------------------------------------------\u001b[0m",
      "\u001b[0;31mUnboundLocalError\u001b[0m                         Traceback (most recent call last)",
      "\u001b[0;32m<ipython-input-71-bbe787cfd533>\u001b[0m in \u001b[0;36m<module>\u001b[0;34m()\u001b[0m\n\u001b[1;32m      7\u001b[0m     \u001b[0mvar\u001b[0m \u001b[0;34m=\u001b[0m \u001b[0;34m\"I'm a local variable.\"\u001b[0m\u001b[0;34m\u001b[0m\u001b[0m\n\u001b[1;32m      8\u001b[0m \u001b[0;34m\u001b[0m\u001b[0m\n\u001b[0;32m----> 9\u001b[0;31m \u001b[0mplay_with_global_vars\u001b[0m\u001b[0;34m(\u001b[0m\u001b[0;34m)\u001b[0m\u001b[0;34m\u001b[0m\u001b[0m\n\u001b[0m",
      "\u001b[0;32m<ipython-input-71-bbe787cfd533>\u001b[0m in \u001b[0;36mplay_with_global_vars\u001b[0;34m()\u001b[0m\n\u001b[1;32m      3\u001b[0m \u001b[0;32mdef\u001b[0m \u001b[0mplay_with_global_vars\u001b[0m\u001b[0;34m(\u001b[0m\u001b[0;34m)\u001b[0m\u001b[0;34m:\u001b[0m\u001b[0;34m\u001b[0m\u001b[0m\n\u001b[1;32m      4\u001b[0m     \u001b[0;31m# variables defined outside the function are accessible\u001b[0m\u001b[0;34m\u001b[0m\u001b[0;34m\u001b[0m\u001b[0m\n\u001b[0;32m----> 5\u001b[0;31m     \u001b[0mprint\u001b[0m\u001b[0;34m(\u001b[0m\u001b[0mvar\u001b[0m\u001b[0;34m)\u001b[0m\u001b[0;34m\u001b[0m\u001b[0m\n\u001b[0m\u001b[1;32m      6\u001b[0m     \u001b[0;31m# but if you try to reassign it, you actually create a new local variable with the same name\u001b[0m\u001b[0;34m\u001b[0m\u001b[0;34m\u001b[0m\u001b[0m\n\u001b[1;32m      7\u001b[0m     \u001b[0mvar\u001b[0m \u001b[0;34m=\u001b[0m \u001b[0;34m\"I'm a local variable.\"\u001b[0m\u001b[0;34m\u001b[0m\u001b[0m\n",
      "\u001b[0;31mUnboundLocalError\u001b[0m: local variable 'var' referenced before assignment"
     ]
    }
   ],
   "source": [
    "var = \"I'm a global variable\"\n",
    "\n",
    "def play_with_global_vars():\n",
    "    # variables defined outside the function are accessible\n",
    "    print(var)\n",
    "    # but if you try to reassign it, you actually create a new local variable with the same name\n",
    "    var = \"I'm a local variable\"\n",
    "\n",
    "play_with_global_vars()"
   ]
  },
  {
   "cell_type": "markdown",
   "metadata": {},
   "source": [
    "or worse, you may have to face unexpected behavior:"
   ]
  },
  {
   "cell_type": "code",
   "execution_count": 72,
   "metadata": {},
   "outputs": [
    {
     "name": "stdout",
     "output_type": "stream",
     "text": [
      "I'm a local variable.\n",
      "I'm a global variable.\n"
     ]
    }
   ],
   "source": [
    "var = \"I'm a global variable\"\n",
    "\n",
    "def play_with_global_vars():\n",
    "    # create a new local variable which shadows the global one\n",
    "    var = \"I'm a local variable\"\n",
    "    print(var)\n",
    "\n",
    "play_with_global_vars()\n",
    "# after the function exit, the local variable 'var' has been destroyed\n",
    "# and the content of the global variable 'var' is unchanged\n",
    "print(var)"
   ]
  },
  {
   "cell_type": "markdown",
   "metadata": {},
   "source": [
    "<aside class=\"warning\">\n",
    "**WARNING**: Remember that all variable assignments in a function store the value in a local variable, i.e. that only exists inside the function. Variables defined outside the function (=global) should be used as read-only variables and not be reassigned.\n",
    "</aside>"
   ]
  },
  {
   "cell_type": "markdown",
   "metadata": {},
   "source": [
    "For global variables of simple type like `int`, `float` or `string`, do not try to modify them inside functions but use **return** instead:"
   ]
  },
  {
   "cell_type": "code",
   "execution_count": 37,
   "metadata": {},
   "outputs": [
    {
     "name": "stdout",
     "output_type": "stream",
     "text": [
      "I'm a global variable and I've been modified\n"
     ]
    }
   ],
   "source": [
    "var = \"I'm a global variable\"\n",
    "\n",
    "def play_with_global_vars():\n",
    "    return var + \" and I've been modified\"\n",
    "\n",
    "var = play_with_global_vars()\n",
    "print(var)"
   ]
  },
  {
   "cell_type": "markdown",
   "metadata": {},
   "source": [
    "For complex types like `list`, `dict` or `class instances`, it is possible to modify an element (part) of them:  "
   ]
  },
  {
   "cell_type": "code",
   "execution_count": 74,
   "metadata": {},
   "outputs": [
    {
     "name": "stdout",
     "output_type": "stream",
     "text": [
      "[\"I'm\", 'a', 'global', 'variable']\n",
      "[\"I'm\", 'another', 'global', 'variable']\n",
      "========================================\n",
      "[\"I'm\", 'a', 'global', 'variable']\n",
      "[\"I'm\", 'new', 'global', 'variable']\n"
     ]
    }
   ],
   "source": [
    "list_var = \"I'm a global variable\".split()\n",
    "list_var2 = \"I'm another global variable\".split()\n",
    "\n",
    "print(list_var)\n",
    "print(list_var2)\n",
    "\n",
    "def play_with_global_vars():\n",
    "    # reassign the entire list --> WRONG!\n",
    "    list_var = \"I'm a local variable\".split()\n",
    "    # reassign an element of the list --> OK\n",
    "    list_var2[1] = \"new\"\n",
    "    \n",
    "play_with_global_vars()\n",
    "print(\"========================================\")\n",
    "print(list_var)\n",
    "print(list_var2)"
   ]
  },
  {
   "cell_type": "code",
   "execution_count": null,
   "metadata": {
    "collapsed": true
   },
   "outputs": [],
   "source": []
  }
 ],
 "metadata": {
  "kernelspec": {
   "display_name": "Python 3",
   "language": "python",
   "name": "python3"
  },
  "language_info": {
   "codemirror_mode": {
    "name": "ipython",
    "version": 3
   },
   "file_extension": ".py",
   "mimetype": "text/x-python",
   "name": "python",
   "nbconvert_exporter": "python",
   "pygments_lexer": "ipython3",
   "version": "3.6.1"
  }
 },
 "nbformat": 4,
 "nbformat_minor": 1
}
