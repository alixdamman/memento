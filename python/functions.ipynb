{
 "cells": [
  {
   "cell_type": "markdown",
   "metadata": {
    "collapsed": true
   },
   "source": [
    "# Functions"
   ]
  },
  {
   "cell_type": "markdown",
   "metadata": {},
   "source": [
    "## Define a function in Python"
   ]
  },
  {
   "cell_type": "markdown",
   "metadata": {},
   "source": [
    "The keyword **def** introduces a function definition. It must be followed by the function name and the parenthesized list of formal parameters."
   ]
  },
  {
   "cell_type": "code",
   "execution_count": null,
   "metadata": {},
   "outputs": [],
   "source": [
    "def print_sequence(start, end, step):\n",
    "    \"\"\"Print a sequence\"\"\"\n",
    "    x = start\n",
    "    while x < end:\n",
    "        print(x, end=' ')\n",
    "        x += step\n",
    "\n",
    "print_sequence(0, 10, 2)"
   ]
  },
  {
   "cell_type": "markdown",
   "metadata": {},
   "source": [
    "The keyword **return** is used to return a value"
   ]
  },
  {
   "cell_type": "code",
   "execution_count": null,
   "metadata": {},
   "outputs": [],
   "source": [
    "def get_sequence(start, end, step):\n",
    "    \"\"\"Return a sequence\"\"\"\n",
    "    seq, next_elem = [], start\n",
    "    while next_elem < end:\n",
    "        seq += [next_elem]\n",
    "        next_elem += step\n",
    "    return seq\n",
    "\n",
    "seq = get_sequence(0, 10, 2)\n",
    "print(seq)"
   ]
  },
  {
   "cell_type": "markdown",
   "metadata": {},
   "source": [
    "**Note**: it is allowed to return several values:"
   ]
  },
  {
   "cell_type": "code",
   "execution_count": null,
   "metadata": {},
   "outputs": [],
   "source": [
    "# Note: this function already exists by default in Python\n",
    "def divmod(a, b):\n",
    "    \"\"\"Return the quotient and the remainder of the division of two numbers\"\"\"\n",
    "    return a // b, a % b\n",
    "\n",
    "quotient, remainder = divmod(25, 3)\n",
    "print(quotient, remainder)"
   ]
  },
  {
   "cell_type": "markdown",
   "metadata": {},
   "source": [
    "## Functions namespace (local vs global variables)"
   ]
  },
  {
   "cell_type": "markdown",
   "metadata": {},
   "source": [
    "<div class=\"alert alert-block alert-warning\">**WARNING**: The *execution* of a function introduces a new symbol table used for the **local variables** of the function. \n",
    "More precisely, <font color=red>**all variable assignments (e.g. x = 5) in a function create or act on local variables**; whereas **variable references (e.g. y = x + 5) first look in the local symbol table, then in the local symbol tables of enclosing functions, then in the global symbol table, and finally in the table of built-in names**. Thus, **global variables cannot be directly assigned a value within a function although they may be referenced**</font>.</div>"
   ]
  },
  {
   "cell_type": "code",
   "execution_count": null,
   "metadata": {},
   "outputs": [],
   "source": [
    "step = 1   #global variable\n",
    "\n",
    "def get_sequence_global_step(start, end):\n",
    "    \"\"\"Return a sequence. Use global var step.\"\"\"\n",
    "    print(\"inside function  - step:\", step)\n",
    "    seq, next_elem = [], start\n",
    "    while next_elem < end:\n",
    "        seq += [next_elem]\n",
    "        next_elem += step  # access global variable (no assignement)\n",
    "    return seq\n",
    "\n",
    "seq = get_sequence_global_step(0, 5)\n",
    "print(\"sequence:\", seq)\n",
    "print(\"outside function - step:\", step)\n",
    "print(\"------------------------------\")\n",
    "\n",
    "\n",
    "def get_sequence_local_step(start, end):\n",
    "    \"\"\"Return a sequence. Define a local var step.\"\"\"\n",
    "    step = 2  # create and assign a new local variable (global var \"step\" is shadowed)\n",
    "    print(\"inside function  - step:\", step)\n",
    "    seq, next_elem = [], start\n",
    "    while next_elem < end:\n",
    "        seq += [next_elem]\n",
    "        next_elem += step\n",
    "    return seq\n",
    "\n",
    "seq = get_sequence_local_step(0, 10)\n",
    "print(\"sequence:\", seq)\n",
    "print(\"outside function - step:\", step)"
   ]
  },
  {
   "cell_type": "markdown",
   "metadata": {},
   "source": [
    "## Default Argument Values"
   ]
  },
  {
   "cell_type": "markdown",
   "metadata": {
    "collapsed": true
   },
   "source": [
    "It is possible to set a value by default to some arguments of a function:"
   ]
  },
  {
   "cell_type": "code",
   "execution_count": null,
   "metadata": {},
   "outputs": [],
   "source": [
    "def get_sequence(start, end, step=1):\n",
    "    \"\"\"Return a sequence\"\"\"\n",
    "    seq, next_elem = [], start\n",
    "    while next_elem < end:\n",
    "        seq += [next_elem]\n",
    "        next_elem += step\n",
    "    return seq\n",
    "\n",
    "# if no value provided for step, it will be 1 by default\n",
    "seq = get_sequence(0, 10)\n",
    "print(seq)\n",
    "# passing a value different from 1 for step argument\n",
    "seq = get_sequence(0, 10, 2)\n",
    "print(seq)"
   ]
  },
  {
   "cell_type": "markdown",
   "metadata": {
    "collapsed": true
   },
   "source": [
    "<div class=\"alert alert-block alert-warning\">**WARNING**: **arguments with default values come always after** all the others.</div> "
   ]
  },
  {
   "cell_type": "code",
   "execution_count": null,
   "metadata": {},
   "outputs": [],
   "source": [
    "def get_sequence(start=0, end, step):\n",
    "    \"\"\"Return a sequence\"\"\"\n",
    "    seq, next_elem = [], start\n",
    "    while next_elem < end:\n",
    "        seq += [next_elem]\n",
    "        next_elem += step\n",
    "    return seq\n",
    "\n",
    "seq = get_sequence(10, 2)\n",
    "print(seq)"
   ]
  },
  {
   "cell_type": "markdown",
   "metadata": {},
   "source": [
    "What about default value of composed type like list or dictionary?"
   ]
  },
  {
   "cell_type": "code",
   "execution_count": null,
   "metadata": {},
   "outputs": [],
   "source": [
    "# Wrong way\n",
    "def new_list_wrong_way(value, new_list=[]):\n",
    "    new_list.append(value)\n",
    "    return new_list\n",
    "\n",
    "print('Expected [1]. Got {}'.format(new_list_wrong_way(1)))\n",
    "print('Expected [2]. Got {}'.format(new_list_wrong_way(2)))\n",
    "print('Expected [3]. Got {}'.format(new_list_wrong_way(3)))"
   ]
  },
  {
   "cell_type": "markdown",
   "metadata": {},
   "source": [
    "<div class=\"alert alert-block alert-warning\">**WARNING**: **The default value is evaluated only once**. \n",
    "This leads to an unexpected behavior when the default value is an object of composed type such as a list or dictionary. **For arguments expecting list or dictionary or object of composed type as default value, use None instead and set default value inside the function.**</div>"
   ]
  },
  {
   "cell_type": "code",
   "execution_count": null,
   "metadata": {},
   "outputs": [],
   "source": [
    "# Right way\n",
    "def new_list_right_way(a, new_list=None):\n",
    "    if new_list is None:\n",
    "        new_list = []\n",
    "    new_list.append(a)\n",
    "    return new_list\n",
    "\n",
    "print('Expected [1]. Got {}'.format(new_list_right_way(1)))\n",
    "print('Expected [2]. Got {}'.format(new_list_right_way(2)))\n",
    "print('Expected [3]. Got {}'.format(new_list_right_way(3)))"
   ]
  },
  {
   "cell_type": "markdown",
   "metadata": {},
   "source": [
    "## Keyword Arguments"
   ]
  },
  {
   "cell_type": "markdown",
   "metadata": {},
   "source": [
    "Functions can also be called using keyword arguments of the form kwarg=value:"
   ]
  },
  {
   "cell_type": "code",
   "execution_count": null,
   "metadata": {},
   "outputs": [],
   "source": [
    "# def action(name, firstname, location='Los Angeles'):\n",
    "# ...\n",
    "\n",
    "# when a function is called, values must be passed in the order of arguments as defined in the function\n",
    "action('Connor', 'Sarah')\n",
    "\n",
    "# but it is possible to specify the argument associated with the passed value and so to pass argument in any order\n",
    "action(firstname='Sarah', name='Connor')"
   ]
  },
  {
   "cell_type": "markdown",
   "metadata": {},
   "source": [
    "It is also possible to mix positional and keyword arguments"
   ]
  },
  {
   "cell_type": "code",
   "execution_count": null,
   "metadata": {},
   "outputs": [],
   "source": [
    "action('Snow', location='Winterfell', firstname='Jon')     # 1 positional + 2 keyword args"
   ]
  },
  {
   "cell_type": "markdown",
   "metadata": {},
   "source": [
    "but positional argument must always be passed first "
   ]
  },
  {
   "cell_type": "code",
   "execution_count": null,
   "metadata": {},
   "outputs": [],
   "source": [
    "action(location='Winterfell', firstname='Jon', 'Snow')     # 2 keyword + 1 positional args --> WRONG!"
   ]
  },
  {
   "cell_type": "markdown",
   "metadata": {},
   "source": [
    "## Arbitrary Argument Lists"
   ]
  },
  {
   "cell_type": "markdown",
   "metadata": {},
   "source": []
  },
  {
   "cell_type": "code",
   "execution_count": null,
   "metadata": {
    "collapsed": true
   },
   "outputs": [],
   "source": []
  },
  {
   "cell_type": "markdown",
   "metadata": {},
   "source": []
  },
  {
   "cell_type": "code",
   "execution_count": null,
   "metadata": {
    "collapsed": true
   },
   "outputs": [],
   "source": []
  },
  {
   "cell_type": "markdown",
   "metadata": {},
   "source": []
  },
  {
   "cell_type": "code",
   "execution_count": null,
   "metadata": {
    "collapsed": true
   },
   "outputs": [],
   "source": []
  }
 ],
 "metadata": {
  "kernelspec": {
   "display_name": "Python 3",
   "language": "python",
   "name": "python3"
  },
  "language_info": {
   "codemirror_mode": {
    "name": "ipython",
    "version": 3
   },
   "file_extension": ".py",
   "mimetype": "text/x-python",
   "name": "python",
   "nbconvert_exporter": "python",
   "pygments_lexer": "ipython3",
   "version": "3.6.1"
  }
 },
 "nbformat": 4,
 "nbformat_minor": 1
}
