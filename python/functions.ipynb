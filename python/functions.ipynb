{
 "cells": [
  {
   "cell_type": "markdown",
   "metadata": {
    "collapsed": true,
    "slideshow": {
     "slide_type": "slide"
    }
   },
   "source": [
    "# Functions"
   ]
  },
  {
   "cell_type": "markdown",
   "metadata": {
    "slideshow": {
     "slide_type": "subslide"
    }
   },
   "source": [
    "- How to define a function in Python\n",
    "- Local vs global variables\n",
    "- Default Argument Values\n",
    "- Keyword Arguments\n",
    "- Arbitrary Argument Lists\n",
    "- Unpacking Argument Lists"
   ]
  },
  {
   "cell_type": "markdown",
   "metadata": {
    "slideshow": {
     "slide_type": "slide"
    }
   },
   "source": [
    "## How to define a function in Python"
   ]
  },
  {
   "cell_type": "markdown",
   "metadata": {
    "slideshow": {
     "slide_type": "slide"
    }
   },
   "source": [
    "The keyword **def** introduces a function definition. It must be followed by the function name and the parenthesized list of formal parameters:"
   ]
  },
  {
   "cell_type": "code",
   "execution_count": 1,
   "metadata": {
    "slideshow": {
     "slide_type": "-"
    }
   },
   "outputs": [
    {
     "name": "stdout",
     "output_type": "stream",
     "text": [
      "0 2 4 6 8 "
     ]
    }
   ],
   "source": [
    "def print_sequence(start, end, step):\n",
    "    \"\"\"Print a sequence\"\"\"\n",
    "    x = start\n",
    "    while x < end:\n",
    "        print(x, end=' ')\n",
    "        x += step\n",
    "\n",
    "print_sequence(0, 10, 2)"
   ]
  },
  {
   "cell_type": "markdown",
   "metadata": {
    "slideshow": {
     "slide_type": "slide"
    }
   },
   "source": [
    "The keyword **return** is used to return a value:"
   ]
  },
  {
   "cell_type": "code",
   "execution_count": 2,
   "metadata": {
    "slideshow": {
     "slide_type": "-"
    }
   },
   "outputs": [
    {
     "name": "stdout",
     "output_type": "stream",
     "text": [
      "[0, 2, 4, 6, 8]\n"
     ]
    }
   ],
   "source": [
    "def get_sequence(start, end, step):\n",
    "    \"\"\"Return a sequence\"\"\"\n",
    "    seq, next_elem = [], start\n",
    "    while next_elem < end:\n",
    "        seq += [next_elem]\n",
    "        next_elem += step\n",
    "    return seq\n",
    "\n",
    "seq = get_sequence(0, 10, 2)\n",
    "print(seq)"
   ]
  },
  {
   "cell_type": "markdown",
   "metadata": {
    "slideshow": {
     "slide_type": "slide"
    }
   },
   "source": [
    "**Note**: it is allowed to return several values:"
   ]
  },
  {
   "cell_type": "code",
   "execution_count": 3,
   "metadata": {
    "slideshow": {
     "slide_type": "-"
    }
   },
   "outputs": [
    {
     "name": "stdout",
     "output_type": "stream",
     "text": [
      "8 1\n"
     ]
    }
   ],
   "source": [
    "# Note: this function already exists in Python\n",
    "def divmod(a, b):\n",
    "    \"\"\"Return the quotient and the remainder of the division of two numbers\"\"\"\n",
    "    return a // b, a % b\n",
    "\n",
    "quotient, remainder = divmod(25, 3)\n",
    "print(quotient, remainder)"
   ]
  },
  {
   "cell_type": "markdown",
   "metadata": {
    "slideshow": {
     "slide_type": "slide"
    }
   },
   "source": [
    "## Local vs global variables"
   ]
  },
  {
   "cell_type": "markdown",
   "metadata": {
    "slideshow": {
     "slide_type": "slide"
    }
   },
   "source": [
    "### Simple types (int, float, boolean)"
   ]
  },
  {
   "cell_type": "markdown",
   "metadata": {
    "slideshow": {
     "slide_type": "fragment"
    }
   },
   "source": [
    "Let's define a function to increment the value of a variable and see what happens when we use it:"
   ]
  },
  {
   "cell_type": "code",
   "execution_count": 4,
   "metadata": {
    "slideshow": {
     "slide_type": "-"
    }
   },
   "outputs": [
    {
     "name": "stdout",
     "output_type": "stream",
     "text": [
      "at initialization:         0\n",
      "inside increment function: 1\n",
      "after calling increment:   0\n"
     ]
    }
   ],
   "source": [
    "i = 0\n",
    "print(\"at initialization:        \", i)\n",
    "\n",
    "def increment(i):\n",
    "    \"\"\"Increment the value of i\"\"\"\n",
    "    i += 1\n",
    "    print(\"inside increment function:\", i)\n",
    "\n",
    "increment(i)\n",
    "print(\"after calling increment:  \", i)"
   ]
  },
  {
   "cell_type": "markdown",
   "metadata": {
    "slideshow": {
     "slide_type": "slide"
    }
   },
   "source": [
    "### Python namespaces\n",
    "\n",
    "![python_namespaces.png](attachment:python_namespaces.png)"
   ]
  },
  {
   "cell_type": "markdown",
   "metadata": {
    "slideshow": {
     "slide_type": "slide"
    }
   },
   "source": [
    "All variable assignments (e.g. x = 5) in a function create or act on local variables:\n",
    "\n",
    "![python_increment_fct.png](attachment:python_increment_fct.png)\n",
    "\n",
    "Indeed, using the builtin function [id](https://docs.python.org/3.5/library/functions.html#id), we see:"
   ]
  },
  {
   "cell_type": "code",
   "execution_count": 5,
   "metadata": {
    "slideshow": {
     "slide_type": "-"
    }
   },
   "outputs": [
    {
     "name": "stdout",
     "output_type": "stream",
     "text": [
      "at initialization:              139943097608608\n",
      "before assignment in increment: 139943097608608\n",
      "after assignment in increment:  139943097608640\n",
      "after calling increment:        139943097608608\n"
     ]
    }
   ],
   "source": [
    "i = 0\n",
    "print(\"at initialization:             \", id(i))\n",
    "\n",
    "def increment(i):\n",
    "    \"\"\"Increment the value of i\"\"\"\n",
    "    print(\"before assignment in increment:\", id(i))\n",
    "    i += 1\n",
    "    print(\"after assignment in increment: \", id(i))\n",
    "\n",
    "increment(i)\n",
    "print(\"after calling increment:       \", id(i))"
   ]
  },
  {
   "cell_type": "code",
   "execution_count": 6,
   "metadata": {
    "slideshow": {
     "slide_type": "slide"
    }
   },
   "outputs": [
    {
     "name": "stdout",
     "output_type": "stream",
     "text": [
      "step at initialization:           1\n",
      "step inside change_step function: 2\n",
      "step after calling change_step:   1 \n",
      "\n",
      "i:        0\n",
      "i + step: 1\n"
     ]
    }
   ],
   "source": [
    "i = 0\n",
    "step = 1\n",
    "print(\"step at initialization:          \", step)\n",
    "\n",
    "def change_step(value):\n",
    "    \"\"\"change the step\"\"\"\n",
    "    step = value\n",
    "    print(\"step inside change_step function:\", step)\n",
    "\n",
    "def increment(i):\n",
    "    \"\"\"Increment the value of i\"\"\"\n",
    "    return i + step\n",
    "    \n",
    "change_step(2)\n",
    "print(\"step after calling change_step:  \", step, \"\\n\")\n",
    "\n",
    "print(\"i:       \", i)\n",
    "i = increment(i)\n",
    "print(\"i + step:\", i)"
   ]
  },
  {
   "cell_type": "markdown",
   "metadata": {
    "slideshow": {
     "slide_type": "slide"
    }
   },
   "source": [
    "<font color=red>**WARNING**</font>: \n",
    "\n",
    "The execution of a function introduces a new symbol table used for the local variables of the function:\n",
    "- <font color=red>all variable assignments (e.g. x = 5) in a function create or act on local variables</font>,\n",
    "- <font color=red>variable references (e.g. y = x + 5) first look in the local namespace (function), then in the global namespace (module)</font>.\n",
    "\n",
    "![python_increment_fct_2.png](attachment:python_increment_fct_2.png)"
   ]
  },
  {
   "cell_type": "code",
   "execution_count": 7,
   "metadata": {
    "slideshow": {
     "slide_type": "slide"
    }
   },
   "outputs": [
    {
     "name": "stdout",
     "output_type": "stream",
     "text": [
      "2\n"
     ]
    }
   ],
   "source": [
    "def increment(i, step):\n",
    "    \"\"\"Increment the value of i\"\"\"\n",
    "    return i + step\n",
    "\n",
    "i, step = 0, 2\n",
    "i = increment(i, step)\n",
    "print(i)"
   ]
  },
  {
   "cell_type": "markdown",
   "metadata": {
    "slideshow": {
     "slide_type": "slide"
    }
   },
   "source": [
    "### Sequence types ( list, tuple, set, dict, ...) + other composed objects"
   ]
  },
  {
   "cell_type": "markdown",
   "metadata": {
    "slideshow": {
     "slide_type": "fragment"
    }
   },
   "source": [
    "What about lists, dictionaries and composed objects arguments? "
   ]
  },
  {
   "cell_type": "code",
   "execution_count": 8,
   "metadata": {
    "slideshow": {
     "slide_type": "-"
    }
   },
   "outputs": [
    {
     "name": "stdout",
     "output_type": "stream",
     "text": [
      "[0, 1, 2, 3, 4]\n",
      "[0, 3, 2, 1, 4]\n"
     ]
    }
   ],
   "source": [
    "my_list = [0, 1, 2, 3, 4]\n",
    "print(my_list)\n",
    "\n",
    "def swap(pos1, pos2, a_list):\n",
    "    \"\"\"Swap two elements of a list\"\"\"\n",
    "    a_list[pos2], a_list[pos1] = a_list[pos1], a_list[pos2]\n",
    "\n",
    "swap(1, 3, my_list)\n",
    "print(my_list)"
   ]
  },
  {
   "cell_type": "markdown",
   "metadata": {
    "slideshow": {
     "slide_type": "fragment"
    }
   },
   "source": [
    "<font color=blue>**NOTE**</font>: \n",
    "As long as you modify only an element (part) of a list, dict or composed object, it's OK."
   ]
  },
  {
   "cell_type": "markdown",
   "metadata": {
    "slideshow": {
     "slide_type": "slide"
    }
   },
   "source": [
    "[image]\n",
    "\n",
    "Using function [id](https://docs.python.org/3.5/library/functions.html#id):"
   ]
  },
  {
   "cell_type": "code",
   "execution_count": 21,
   "metadata": {
    "slideshow": {
     "slide_type": "-"
    }
   },
   "outputs": [
    {
     "name": "stdout",
     "output_type": "stream",
     "text": [
      "at initialization:                139942860371720\n",
      "before swapping elements in swap: 139942860371720\n",
      "after swapping elements in swap:  139942860371720\n",
      "after call of swap function:      139942860371720\n"
     ]
    }
   ],
   "source": [
    "my_list = [0, 1, 2, 3, 4]\n",
    "print(\"at initialization:               \", id(my_list))\n",
    "\n",
    "def swap(pos1, pos2, a_list):\n",
    "    \"\"\"Swap two elements of a list\"\"\"\n",
    "    print(\"before swapping elements in swap:\", id(a_list))\n",
    "    a_list[pos2], a_list[pos1] = a_list[pos1], a_list[pos2]\n",
    "    print(\"after swapping elements in swap: \", id(a_list))\n",
    "\n",
    "swap(1, 3, my_list)\n",
    "print(\"after call of swap function:     \" , id(my_list))"
   ]
  },
  {
   "cell_type": "markdown",
   "metadata": {
    "slideshow": {
     "slide_type": "slide"
    }
   },
   "source": [
    "If you try to reassign the whole list, dict or composed object, you'll get in trouble:"
   ]
  },
  {
   "cell_type": "code",
   "execution_count": 9,
   "metadata": {
    "slideshow": {
     "slide_type": "-"
    }
   },
   "outputs": [
    {
     "name": "stdout",
     "output_type": "stream",
     "text": [
      "Extend list [0, 1, 2, 3, 4] with list [5, 6, 7]:\n",
      "inside function:     [0, 1, 2, 3, 4, 5, 6, 7]\n",
      "after function call: [0, 1, 2, 3, 4]\n"
     ]
    }
   ],
   "source": [
    "list_1 = [0, 1, 2, 3, 4]\n",
    "list_2 = [5, 6, 7]\n",
    "\n",
    "# Note: In the real world, you should use the method `extend` of list\n",
    "def extend(list_1, list_2):\n",
    "    \"\"\"Extend a list with another one\"\"\"\n",
    "    list_1 = list_1 + list_2\n",
    "    print(\"inside function:    \", list_1)\n",
    "    \n",
    "print(\"Extend list {} with list {}:\".format(list_1, list_2))\n",
    "\n",
    "extend(list_1, list_2)\n",
    "print(\"after function call:\", list_1)"
   ]
  },
  {
   "cell_type": "markdown",
   "metadata": {
    "slideshow": {
     "slide_type": "slide"
    }
   },
   "source": [
    "[image]\n",
    "\n",
    "Using function [id](https://docs.python.org/3.5/library/functions.html#id):"
   ]
  },
  {
   "cell_type": "code",
   "execution_count": 27,
   "metadata": {
    "slideshow": {
     "slide_type": "-"
    }
   },
   "outputs": [
    {
     "name": "stdout",
     "output_type": "stream",
     "text": [
      "before calling function:           139942859559560 139942962241096\n",
      "inside extend - before assignment: 139942859559560 139942962241096\n",
      "inside extend - after assignment:  139942859561288 139942962241096\n",
      "after calling function:            139942859559560 139942962241096\n"
     ]
    }
   ],
   "source": [
    "list_1 = [0, 1, 2, 3, 4]\n",
    "list_2 = [5, 6, 7]\n",
    "print('before calling function:          ', id(list_1), id(list_2))\n",
    "\n",
    "# In the real world, you should use the method `extend` of list\n",
    "def extend(list_1, list_2):\n",
    "    \"\"\"Extend a list with another one\"\"\"\n",
    "    print('inside extend - before assignment:', id(list_1), id(list_2))\n",
    "    # during assignment, a new local variable 'list_1' is created\n",
    "    list_1 = list_1 + list_2\n",
    "    print('inside extend - after assignment: ', id(list_1), id(list_2))\n",
    "\n",
    "extend(list_1, list_2)\n",
    "print('after calling function:           ', id(list_1), id(list_2))"
   ]
  },
  {
   "cell_type": "markdown",
   "metadata": {
    "slideshow": {
     "slide_type": "slide"
    }
   },
   "source": [
    "## Default Argument Values"
   ]
  },
  {
   "cell_type": "markdown",
   "metadata": {
    "collapsed": true,
    "slideshow": {
     "slide_type": "fragment"
    }
   },
   "source": [
    "It is possible to set a value by default to some arguments of a function:"
   ]
  },
  {
   "cell_type": "code",
   "execution_count": 28,
   "metadata": {
    "slideshow": {
     "slide_type": "-"
    }
   },
   "outputs": [
    {
     "name": "stdout",
     "output_type": "stream",
     "text": [
      "[0, 1, 2, 3, 4, 5, 6, 7, 8, 9]\n",
      "[0, 2, 4, 6, 8]\n"
     ]
    }
   ],
   "source": [
    "def get_sequence(start, end, step=1):\n",
    "    \"\"\"Return a sequence\"\"\"\n",
    "    seq, next_elem = [], start\n",
    "    while next_elem < end:\n",
    "        seq += [next_elem]\n",
    "        next_elem += step\n",
    "    return seq\n",
    "\n",
    "# if no value provided for step, it will be 1 by default\n",
    "seq = get_sequence(0, 10)\n",
    "print(seq)\n",
    "# passing a value different from 1 for step argument\n",
    "seq = get_sequence(0, 10, 2)\n",
    "print(seq)"
   ]
  },
  {
   "cell_type": "markdown",
   "metadata": {
    "collapsed": true,
    "slideshow": {
     "slide_type": "slide"
    }
   },
   "source": [
    "<div class=\"alert alert-block alert-warning\">\n",
    "<font color=red>WARNING</font>: <font color=red>arguments with default values come always after all the others.</font></div> "
   ]
  },
  {
   "cell_type": "code",
   "execution_count": 29,
   "metadata": {
    "slideshow": {
     "slide_type": "-"
    }
   },
   "outputs": [
    {
     "ename": "SyntaxError",
     "evalue": "non-default argument follows default argument (<ipython-input-29-5ab85da3ae92>, line 1)",
     "traceback": [
      "\u001b[0;36m  File \u001b[0;32m\"<ipython-input-29-5ab85da3ae92>\"\u001b[0;36m, line \u001b[0;32m1\u001b[0m\n\u001b[0;31m    def get_sequence(start=0, end, step):\u001b[0m\n\u001b[0m                    ^\u001b[0m\n\u001b[0;31mSyntaxError\u001b[0m\u001b[0;31m:\u001b[0m non-default argument follows default argument\n"
     ],
     "output_type": "error"
    }
   ],
   "source": [
    "def get_sequence(start=0, end, step):\n",
    "    \"\"\"Return a sequence\"\"\"\n",
    "    seq, next_elem = [], start\n",
    "    while next_elem < end:\n",
    "        seq += [next_elem]\n",
    "        next_elem += step\n",
    "    return seq\n",
    "\n",
    "seq = get_sequence(10, 2)\n",
    "print(seq)"
   ]
  },
  {
   "cell_type": "markdown",
   "metadata": {
    "slideshow": {
     "slide_type": "slide"
    }
   },
   "source": [
    "What about default value of composed type like list or dictionary?"
   ]
  },
  {
   "cell_type": "code",
   "execution_count": 30,
   "metadata": {
    "slideshow": {
     "slide_type": "-"
    }
   },
   "outputs": [
    {
     "name": "stdout",
     "output_type": "stream",
     "text": [
      "Expected [1]. Got [1]\n",
      "Expected [2]. Got [1, 2]\n",
      "Expected [3]. Got [1, 2, 3]\n"
     ]
    }
   ],
   "source": [
    "# Wrong way\n",
    "def new_list_wrong_way(value, new_list=[]):\n",
    "    new_list.append(value)\n",
    "    return new_list\n",
    "\n",
    "print('Expected [1]. Got {}'.format(new_list_wrong_way(1)))\n",
    "print('Expected [2]. Got {}'.format(new_list_wrong_way(2)))\n",
    "print('Expected [3]. Got {}'.format(new_list_wrong_way(3)))"
   ]
  },
  {
   "cell_type": "markdown",
   "metadata": {
    "slideshow": {
     "slide_type": "slide"
    }
   },
   "source": [
    "<div class=\"alert alert-block alert-warning\">\n",
    "<font color=red>WARNING</font>: <font color=red>The default value is evaluated only once</font>. \n",
    "This leads to an unexpected behavior when the default value is an object of composed type such as a list or dictionary. \n",
    "<font color=red>For arguments expecting list or dictionary or object of composed type as default value, use None instead and set default value inside the function</font>.</div>"
   ]
  },
  {
   "cell_type": "code",
   "execution_count": 31,
   "metadata": {
    "slideshow": {
     "slide_type": "-"
    }
   },
   "outputs": [
    {
     "name": "stdout",
     "output_type": "stream",
     "text": [
      "Expected [1]. Got [1]\n",
      "Expected [2]. Got [2]\n",
      "Expected [3]. Got [3]\n"
     ]
    }
   ],
   "source": [
    "# Right way\n",
    "def new_list_right_way(a, new_list=None):\n",
    "    if new_list is None:\n",
    "        new_list = []\n",
    "    new_list.append(a)\n",
    "    return new_list\n",
    "\n",
    "print('Expected [1]. Got {}'.format(new_list_right_way(1)))\n",
    "print('Expected [2]. Got {}'.format(new_list_right_way(2)))\n",
    "print('Expected [3]. Got {}'.format(new_list_right_way(3)))"
   ]
  },
  {
   "cell_type": "markdown",
   "metadata": {
    "slideshow": {
     "slide_type": "slide"
    }
   },
   "source": [
    "## Keyword Arguments"
   ]
  },
  {
   "cell_type": "markdown",
   "metadata": {
    "slideshow": {
     "slide_type": "fragment"
    }
   },
   "source": [
    "When a function is called, values must be passed in the order of arguments as in the function definition"
   ]
  },
  {
   "cell_type": "code",
   "execution_count": 32,
   "metadata": {
    "slideshow": {
     "slide_type": "-"
    }
   },
   "outputs": [
    {
     "name": "stdout",
     "output_type": "stream",
     "text": [
      "[0, 2, 4, 6, 8]\n"
     ]
    }
   ],
   "source": [
    "def get_sequence(start, end, step=1):\n",
    "    \"\"\"Return a sequence\"\"\"\n",
    "    seq, next_elem = [], start\n",
    "    while next_elem < end:\n",
    "        seq += [next_elem]\n",
    "        next_elem += step\n",
    "    return seq\n",
    "\n",
    "\n",
    "res = get_sequence(0, 10, 2)\n",
    "print(res)"
   ]
  },
  {
   "cell_type": "markdown",
   "metadata": {
    "slideshow": {
     "slide_type": "slide"
    }
   },
   "source": [
    "But functions can also be called using keyword arguments of the form kwarg=value. It is then possible to pass argument in any order."
   ]
  },
  {
   "cell_type": "code",
   "execution_count": 33,
   "metadata": {
    "slideshow": {
     "slide_type": "-"
    }
   },
   "outputs": [
    {
     "name": "stdout",
     "output_type": "stream",
     "text": [
      "[0, 2, 4, 6, 8]\n"
     ]
    }
   ],
   "source": [
    "res = get_sequence(end=10, step=2, start=0)\n",
    "print(res)"
   ]
  },
  {
   "cell_type": "markdown",
   "metadata": {
    "slideshow": {
     "slide_type": "slide"
    }
   },
   "source": [
    "It is even possible to mix positional and keyword arguments"
   ]
  },
  {
   "cell_type": "code",
   "execution_count": 34,
   "metadata": {
    "slideshow": {
     "slide_type": "-"
    }
   },
   "outputs": [
    {
     "name": "stdout",
     "output_type": "stream",
     "text": [
      "[0, 2, 4, 6, 8]\n"
     ]
    }
   ],
   "source": [
    "res = get_sequence(0, step=2, end=10)     # 1 positional + 2 keyword args\n",
    "print(res)"
   ]
  },
  {
   "cell_type": "markdown",
   "metadata": {
    "slideshow": {
     "slide_type": "slide"
    }
   },
   "source": [
    "<div class=\"alert alert-block alert-warning\">\n",
    "<font color=red>WARNING</font>: <font color=red>positional argument must always be passed first</font>.</div>"
   ]
  },
  {
   "cell_type": "code",
   "execution_count": 35,
   "metadata": {
    "slideshow": {
     "slide_type": "-"
    }
   },
   "outputs": [
    {
     "ename": "SyntaxError",
     "evalue": "positional argument follows keyword argument (<ipython-input-35-c79a3f2ddb6f>, line 1)",
     "traceback": [
      "\u001b[0;36m  File \u001b[0;32m\"<ipython-input-35-c79a3f2ddb6f>\"\u001b[0;36m, line \u001b[0;32m1\u001b[0m\n\u001b[0;31m    get_sequence(step=2, end=10, 0)     # 2 keyword + 1 positional args --> WRONG!\u001b[0m\n\u001b[0m                                ^\u001b[0m\n\u001b[0;31mSyntaxError\u001b[0m\u001b[0;31m:\u001b[0m positional argument follows keyword argument\n"
     ],
     "output_type": "error"
    }
   ],
   "source": [
    "get_sequence(step=2, end=10, 0)     # 2 keyword + 1 positional args --> WRONG!\n",
    "print(res)"
   ]
  },
  {
   "cell_type": "markdown",
   "metadata": {
    "slideshow": {
     "slide_type": "slide"
    }
   },
   "source": [
    "## Arbitrary Argument Lists"
   ]
  },
  {
   "cell_type": "markdown",
   "metadata": {
    "slideshow": {
     "slide_type": "fragment"
    }
   },
   "source": [
    "When a final formal parameter of the form **\\*\\*kwargs** is present, it receives a **dictionary containing** all **keyword arguments** except for those corresponding to a formal parameter. A formal parameter of the form **\\*args** receives a **tuple containing** the **positional arguments** beyond the formal parameter list. (**\\*args must occur before \\*\\*kwargs**) \n",
    "\n",
    "```python\n",
    "def join_sequence(*sequences, **kwargs):\n",
    "    \"\"\"join sequences\"\"\"\n",
    "    seq = []\n",
    "    # iterate over positional arguments\n",
    "    for s in sequences:\n",
    "        seq += s\n",
    "    # extract keyword arguments\n",
    "    reverse = kwargs.get('reverse', False)\n",
    "    if reverse:\n",
    "        return seq[::-1]\n",
    "    else:\n",
    "        return seq\n",
    "```"
   ]
  },
  {
   "cell_type": "code",
   "execution_count": 36,
   "metadata": {
    "slideshow": {
     "slide_type": "subslide"
    }
   },
   "outputs": [
    {
     "name": "stdout",
     "output_type": "stream",
     "text": [
      "let's join [0, 2, 4, 6, 8], [10, 13, 16, 19] and [20, 21, 22, 23, 24]:\n",
      "[0, 2, 4, 6, 8, 10, 13, 16, 19, 20, 21, 22, 23, 24]\n",
      "\n",
      "with reverse option:\n",
      "[24, 23, 22, 21, 20, 19, 16, 13, 10, 8, 6, 4, 2, 0]\n"
     ]
    }
   ],
   "source": [
    "def join_sequence(*sequences, **kwargs):\n",
    "    \"\"\"join sequences\"\"\"\n",
    "    seq = []\n",
    "    # iterate over positional arguments\n",
    "    for s in sequences:\n",
    "        seq += s\n",
    "    # extract keyword arguments\n",
    "    reverse = kwargs.get('reverse', False)\n",
    "    if reverse:\n",
    "        return seq[::-1]\n",
    "    else:\n",
    "        return seq\n",
    "\n",
    "\n",
    "seq1, seq2, seq3 = get_sequence(0, 10, 2), get_sequence(10, 20, 3), get_sequence(20, 25)\n",
    "print(\"let's join {}, {} and {}:\".format(seq1, seq2, seq3))\n",
    "\n",
    "res = join_sequence(seq1, seq2, seq3)\n",
    "print(res)\n",
    "\n",
    "print(\"\\nwith reverse option:\")\n",
    "res = join_sequence(seq1, seq2, seq3, reverse=True)\n",
    "print(res)"
   ]
  },
  {
   "cell_type": "markdown",
   "metadata": {
    "slideshow": {
     "slide_type": "slide"
    }
   },
   "source": [
    "## Unpacking Argument Lists"
   ]
  },
  {
   "cell_type": "markdown",
   "metadata": {
    "slideshow": {
     "slide_type": "fragment"
    }
   },
   "source": [
    "The reverse situation occurs when the arguments are in a lists, tuples or dictionarues but need to be passed to a function requiring separate positional arguments. In that case, arguments must be *unpacked*.\n",
    "\n",
    "```python\n",
    "def join_two_sequences(seq1, seq2, reverse=False):\n",
    "    \"\"\"join two sequences\"\"\"\n",
    "    if reverse:\n",
    "        return (seq1 + seq2)[::-1]\n",
    "    else:\n",
    "        return seq1 + seq2\n",
    "```"
   ]
  },
  {
   "cell_type": "code",
   "execution_count": 37,
   "metadata": {
    "slideshow": {
     "slide_type": "subslide"
    }
   },
   "outputs": [
    {
     "name": "stdout",
     "output_type": "stream",
     "text": [
      "unpack list\n",
      "join_two_sequences(*sequences): [0, 2, 4, 6, 8]\n",
      "\n",
      "unpack dict\n",
      "join_two_sequences(**sequences): [8, 6, 4, 2, 0]\n",
      "\n",
      "mixing list and dict unpacking\n",
      "join_sequence(*sequences, **reverse): [8, 6, 4, 2, 0]\n"
     ]
    }
   ],
   "source": [
    "def join_two_sequences(seq1, seq2, reverse=False):\n",
    "    \"\"\"join two sequences\"\"\"\n",
    "    if reverse:\n",
    "        return (seq1 + seq2)[::-1]\n",
    "    else:\n",
    "        return seq1 + seq2\n",
    "    \n",
    "print('unpack list')\n",
    "sequences = [[0, 2, 4], [6, 8]]\n",
    "res = join_two_sequences(*sequences)\n",
    "print('join_two_sequences(*sequences):', res)\n",
    "\n",
    "print('\\nunpack dict')\n",
    "sequences = {'seq1': [0, 2, 4], 'seq2': [6, 8], 'reverse': True}\n",
    "res = join_two_sequences(**sequences)\n",
    "print('join_two_sequences(**sequences):', res)\n",
    "\n",
    "print('\\nmixing list and dict unpacking')\n",
    "sequences, reverse = [[0, 2, 4], [6, 8]], {'reverse': True}\n",
    "res = join_sequence(*sequences, **reverse)\n",
    "print('join_sequence(*sequences, **reverse):', res)"
   ]
  },
  {
   "cell_type": "markdown",
   "metadata": {
    "slideshow": {
     "slide_type": "slide"
    }
   },
   "source": [
    "## More infos on defining functions?\n",
    "\n",
    "See the [official documentation of Python (3.5)](https://docs.python.org/3.5/tutorial/controlflow.html#defining-functions)"
   ]
  }
 ],
 "metadata": {
  "celltoolbar": "Slideshow",
  "kernelspec": {
   "display_name": "Python 3",
   "language": "python",
   "name": "python3"
  },
  "language_info": {
   "codemirror_mode": {
    "name": "ipython",
    "version": 3
   },
   "file_extension": ".py",
   "mimetype": "text/x-python",
   "name": "python",
   "nbconvert_exporter": "python",
   "pygments_lexer": "ipython3",
   "version": "3.6.3"
  }
 },
 "nbformat": 4,
 "nbformat_minor": 1
}
