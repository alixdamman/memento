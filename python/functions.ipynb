{
 "cells": [
  {
   "cell_type": "markdown",
   "metadata": {
    "collapsed": true
   },
   "source": [
    "# Functions"
   ]
  },
  {
   "cell_type": "markdown",
   "metadata": {},
   "source": [
    "## Define a function in Python"
   ]
  },
  {
   "cell_type": "markdown",
   "metadata": {},
   "source": [
    "The keyword **def** introduces a function definition. It must be followed by the function name and the parenthesized list of formal parameters:"
   ]
  },
  {
   "cell_type": "code",
   "execution_count": 25,
   "metadata": {},
   "outputs": [
    {
     "name": "stdout",
     "output_type": "stream",
     "text": [
      "The sum of 5 and 3 is 8\n"
     ]
    }
   ],
   "source": [
    "# define a function that computes and print the sum of two numbers\n",
    "def print_sum(a, b):\n",
    "    print(\"The sum of {} and {} is {}\".format(a, b, a + b))\n",
    "\n",
    "number1, number2 = 5, 3 \n",
    "print_sum(number1, number2)"
   ]
  },
  {
   "cell_type": "markdown",
   "metadata": {},
   "source": [
    "Now let's try to modify a parameter inside the function"
   ]
  },
  {
   "cell_type": "code",
   "execution_count": 26,
   "metadata": {},
   "outputs": [
    {
     "name": "stdout",
     "output_type": "stream",
     "text": [
      "the sum is 8\n",
      "the sum is 5. WRONG!\n"
     ]
    }
   ],
   "source": [
    "# define a function that computes and assign the result to the first parameter\n",
    "def add(a, b):\n",
    "    # variables a and b are actually local to the function\n",
    "    a = a + b\n",
    "    print(\"the sum is {}\".format(a))\n",
    "\n",
    "number1, number2 = 5, 3 \n",
    "add(number1, number2)\n",
    "print(\"the sum is {}. WRONG!\".format(number1))"
   ]
  },
  {
   "cell_type": "markdown",
   "metadata": {},
   "source": [
    "The actual parameters (arguments) to a function call are introduced in the local namespace of the function.\n",
    "The keyword **return** allows to return the modified value:"
   ]
  },
  {
   "cell_type": "code",
   "execution_count": 27,
   "metadata": {},
   "outputs": [
    {
     "name": "stdout",
     "output_type": "stream",
     "text": [
      "8\n"
     ]
    }
   ],
   "source": [
    "# define a function that computes and returns the sum of two numbers\n",
    "def add(a, b):\n",
    "    return a + b\n",
    "\n",
    "#call the function\n",
    "res = add(5, 3)\n",
    "print(res)"
   ]
  },
  {
   "cell_type": "markdown",
   "metadata": {},
   "source": [
    "It is allowed to return several values:"
   ]
  },
  {
   "cell_type": "code",
   "execution_count": 28,
   "metadata": {},
   "outputs": [
    {
     "name": "stdout",
     "output_type": "stream",
     "text": [
      "8 1\n"
     ]
    }
   ],
   "source": [
    "# define a function returning the quotient and the remainder of the division of two numbers\n",
    "# Note: this function already exists by default in Python\n",
    "def divmod(a, b):\n",
    "    return a // b, a % b\n",
    "\n",
    "quotient, remainder = divmod(25, 3)\n",
    "print(quotient, remainder)"
   ]
  },
  {
   "cell_type": "markdown",
   "metadata": {},
   "source": [
    "## Default Argument Values"
   ]
  },
  {
   "cell_type": "markdown",
   "metadata": {
    "collapsed": true
   },
   "source": [
    "It is possible to set a value by default to some arguments of a function:"
   ]
  },
  {
   "cell_type": "code",
   "execution_count": 29,
   "metadata": {},
   "outputs": [
    {
     "name": "stdout",
     "output_type": "stream",
     "text": [
      "Wrong location. Move to Los Angeles.\n",
      "Wrong human. Find Connor Sarah\n",
      "kill\n"
     ]
    }
   ],
   "source": [
    "mission = {'action': 'kill', 'name':'Connor', 'firstname': 'Sarah', 'location': 'Los Angeles'}\n",
    "\n",
    "def action(name, firstname, location='Los Angeles'):\n",
    "    if location != mission['location']:\n",
    "        print('Wrong location. Move to {}.'.format(mission['location']))\n",
    "    elif name == 'Connor' and firstname == 'Sarah':\n",
    "        print(mission['action'])\n",
    "    else:\n",
    "        print(\"Wrong human. Find {} {}\".format(mission['name'], mission['firstname']))\n",
    "\n",
    "action('Snow', 'Jon', 'Winterfell')\n",
    "# no value given for argument location. By default, Los Angeles will be passed to the function \n",
    "action('Doe', 'John')\n",
    "action('Connor', 'Sarah')"
   ]
  },
  {
   "cell_type": "markdown",
   "metadata": {
    "collapsed": true
   },
   "source": [
    "**WARNING**: arguments with default values come always after "
   ]
  },
  {
   "cell_type": "code",
   "execution_count": 30,
   "metadata": {},
   "outputs": [
    {
     "ename": "SyntaxError",
     "evalue": "non-default argument follows default argument (<ipython-input-30-c98727ff5b83>, line 1)",
     "traceback": [
      "\u001b[0;36m  File \u001b[0;32m\"<ipython-input-30-c98727ff5b83>\"\u001b[0;36m, line \u001b[0;32m1\u001b[0m\n\u001b[0;31m    def action(location='Los Angeles', name, firstname):\u001b[0m\n\u001b[0m              ^\u001b[0m\n\u001b[0;31mSyntaxError\u001b[0m\u001b[0;31m:\u001b[0m non-default argument follows default argument\n"
     ],
     "output_type": "error"
    }
   ],
   "source": [
    "def action(location='Los Angeles', name, firstname):\n",
    "    if location != mission['location']:\n",
    "        print('Wrong location. Move to {}.'.format(mission['location']))\n",
    "    elif name == 'Connor' and firstname == 'Sarah':\n",
    "        print(mission['action'])\n",
    "    else:\n",
    "        print(\"find {} {}\".format(mission['name'], mission['firstname']))"
   ]
  },
  {
   "cell_type": "markdown",
   "metadata": {},
   "source": [
    "**WARNING**: The default value is evaluated only once. \n",
    "This makes a difference when the default value is an object such as a list, dictionary, or instances of a classe:"
   ]
  },
  {
   "cell_type": "code",
   "execution_count": 31,
   "metadata": {},
   "outputs": [
    {
     "name": "stdout",
     "output_type": "stream",
     "text": [
      "Expected [1]. Got [1]\n",
      "Expected [2]. Got [1, 2]\n",
      "Expected [3]. Got [1, 2, 3]\n"
     ]
    }
   ],
   "source": [
    "# Wrong way\n",
    "def create_list_wrong_way(a, new_list=[]):\n",
    "    new_list.append(a)\n",
    "    return new_list\n",
    "\n",
    "print('Expected [1]. Got {}'.format(create_list_wrong_way(1)))\n",
    "print('Expected [2]. Got {}'.format(create_list_wrong_way(2)))\n",
    "print('Expected [3]. Got {}'.format(create_list_wrong_way(3)))"
   ]
  },
  {
   "cell_type": "markdown",
   "metadata": {},
   "source": [
    "In that case, prefer None as default value and build the list/dictionary/classe instance inside the function:"
   ]
  },
  {
   "cell_type": "code",
   "execution_count": 32,
   "metadata": {},
   "outputs": [
    {
     "name": "stdout",
     "output_type": "stream",
     "text": [
      "Expected [1]. Got [1]\n",
      "Expected [2]. Got [2]\n",
      "Expected [3]. Got [3]\n"
     ]
    }
   ],
   "source": [
    "# Right way\n",
    "def create_list_right_way(a, new_list=None):\n",
    "    if new_list is None:\n",
    "        new_list = []\n",
    "    new_list.append(a)\n",
    "    return new_list\n",
    "\n",
    "print('Expected [1]. Got {}'.format(create_list_right_way(1)))\n",
    "print('Expected [2]. Got {}'.format(create_list_right_way(2)))\n",
    "print('Expected [3]. Got {}'.format(create_list_right_way(3)))"
   ]
  },
  {
   "cell_type": "markdown",
   "metadata": {},
   "source": [
    "## Keyword Arguments"
   ]
  },
  {
   "cell_type": "markdown",
   "metadata": {},
   "source": [
    "Functions can also be called using keyword arguments of the form kwarg=value:"
   ]
  },
  {
   "cell_type": "code",
   "execution_count": 33,
   "metadata": {},
   "outputs": [
    {
     "name": "stdout",
     "output_type": "stream",
     "text": [
      "kill\n",
      "kill\n"
     ]
    }
   ],
   "source": [
    "# def action(name, firstname, location='Los Angeles'):\n",
    "# ...\n",
    "\n",
    "# when a function is called, values must be passed in the order of arguments as defined in the function\n",
    "action('Connor', 'Sarah')\n",
    "\n",
    "# but it is possible to specify the argument associated with the passed value and so to pass argument in any order\n",
    "action(firstname='Sarah', name='Connor')"
   ]
  },
  {
   "cell_type": "markdown",
   "metadata": {},
   "source": [
    "It is also possible to mix positional and keyword arguments"
   ]
  },
  {
   "cell_type": "code",
   "execution_count": 34,
   "metadata": {},
   "outputs": [
    {
     "name": "stdout",
     "output_type": "stream",
     "text": [
      "Wrong location. Move to Los Angeles.\n"
     ]
    }
   ],
   "source": [
    "action('Snow', location='Winterfell', firstname='Jon')     # 1 positional + 2 keyword args"
   ]
  },
  {
   "cell_type": "markdown",
   "metadata": {},
   "source": [
    "but positional argument must always be passed first "
   ]
  },
  {
   "cell_type": "code",
   "execution_count": 35,
   "metadata": {},
   "outputs": [
    {
     "ename": "SyntaxError",
     "evalue": "positional argument follows keyword argument (<ipython-input-35-20c9d3cbf149>, line 1)",
     "traceback": [
      "\u001b[0;36m  File \u001b[0;32m\"<ipython-input-35-20c9d3cbf149>\"\u001b[0;36m, line \u001b[0;32m1\u001b[0m\n\u001b[0;31m    action(location='Winterfell', firstname='Jon', 'Snow')     # 2 keyword + 1 positional args --> WRONG!\u001b[0m\n\u001b[0m                                                  ^\u001b[0m\n\u001b[0;31mSyntaxError\u001b[0m\u001b[0;31m:\u001b[0m positional argument follows keyword argument\n"
     ],
     "output_type": "error"
    }
   ],
   "source": [
    "action(location='Winterfell', firstname='Jon', 'Snow')     # 2 keyword + 1 positional args --> WRONG!"
   ]
  },
  {
   "cell_type": "markdown",
   "metadata": {},
   "source": [
    "## Arbitrary Argument Lists"
   ]
  },
  {
   "cell_type": "markdown",
   "metadata": {},
   "source": []
  },
  {
   "cell_type": "code",
   "execution_count": null,
   "metadata": {
    "collapsed": true
   },
   "outputs": [],
   "source": []
  },
  {
   "cell_type": "markdown",
   "metadata": {},
   "source": []
  },
  {
   "cell_type": "code",
   "execution_count": null,
   "metadata": {
    "collapsed": true
   },
   "outputs": [],
   "source": []
  },
  {
   "cell_type": "markdown",
   "metadata": {},
   "source": []
  },
  {
   "cell_type": "code",
   "execution_count": null,
   "metadata": {
    "collapsed": true
   },
   "outputs": [],
   "source": []
  },
  {
   "cell_type": "markdown",
   "metadata": {},
   "source": [
    "## Using variables defined outside the function"
   ]
  },
  {
   "cell_type": "markdown",
   "metadata": {},
   "source": [
    "<aside class=\"warning\">\n",
    "**WARNING**: All variable assignments in a function store the value in a local variable, i.e. that only exists inside the function. Variables defined outside the function (=global) can be accessed but cannot be reassigned.\n",
    "If you try to reassign a global variable, it is shadowed by a new local one with the same name. \n",
    "</aside>"
   ]
  },
  {
   "cell_type": "code",
   "execution_count": 36,
   "metadata": {},
   "outputs": [
    {
     "name": "stdout",
     "output_type": "stream",
     "text": [
      "I've been declared and assigned outside the function but you can see me.\n",
      "I'm a local variable.\n",
      "I'm a global variable.\n"
     ]
    }
   ],
   "source": [
    "var = \"I've been declared and assigned outside the function but you can see me.\"\n",
    "var2 = \"I'm a global variable.\"\n",
    "\n",
    "def play_with_vars_defined_outside():\n",
    "    # variables defined outside the function are accessible\n",
    "    print(var)\n",
    "    # but if you try to reassign it, you actually create a new local variable with the same name\n",
    "    var2 = \"I'm a local variable.\"\n",
    "    print(var2)\n",
    "\n",
    "play_with_vars_defined_outside()\n",
    "# after the function exit, the local variable var2 has been destroyed\n",
    "# and the content of the global variable var2 is unchanged\n",
    "print(var2)"
   ]
  },
  {
   "cell_type": "markdown",
   "metadata": {},
   "source": [
    "To avoid trouble, do not try to modify global variables inside functions and use **return** at the end of the function to return the modified value."
   ]
  },
  {
   "cell_type": "code",
   "execution_count": 37,
   "metadata": {},
   "outputs": [
    {
     "name": "stdout",
     "output_type": "stream",
     "text": [
      "I'm a global variable and I've been modified\n"
     ]
    }
   ],
   "source": [
    "var = \"I'm a global variable\"\n",
    "\n",
    "def play_with_vars_defined_outside():\n",
    "    return var + \" and I've been modified\"\n",
    "\n",
    "var = play_with_vars_defined_outside()\n",
    "print(var)"
   ]
  },
  {
   "cell_type": "markdown",
   "metadata": {},
   "source": [
    "For more complex types like lists, dictionaries or objects the situation is more complicated:  "
   ]
  },
  {
   "cell_type": "code",
   "execution_count": 38,
   "metadata": {},
   "outputs": [
    {
     "name": "stdout",
     "output_type": "stream",
     "text": [
      "[\"I'm\", 'a', 'global', 'variable']\n",
      "[\"I'm\", 'another', 'global', 'variable']\n",
      "========================================\n",
      "[\"I'm\", 'a', 'global', 'variable']\n",
      "[\"I'm\", 'new', 'global', 'variable']\n"
     ]
    }
   ],
   "source": [
    "list_var = \"I'm a global variable\".split()\n",
    "list_var2 = \"I'm another global variable\".split()\n",
    "\n",
    "print(list_var)\n",
    "print(list_var2)\n",
    "\n",
    "def play_with_vars_defined_outside():\n",
    "    # reassign the entire list create a new list\n",
    "    list_var = \"I'm a new list\".split()\n",
    "    # but reassign an element does not create a local list\n",
    "    list_var2[1] = \"new\"\n",
    "    \n",
    "play_with_vars_defined_outside()\n",
    "print(\"========================================\")\n",
    "print(list_var)\n",
    "print(list_var2)"
   ]
  },
  {
   "cell_type": "code",
   "execution_count": null,
   "metadata": {
    "collapsed": true
   },
   "outputs": [],
   "source": []
  }
 ],
 "metadata": {
  "kernelspec": {
   "display_name": "Python 3",
   "language": "python",
   "name": "python3"
  },
  "language_info": {
   "codemirror_mode": {
    "name": "ipython",
    "version": 3
   },
   "file_extension": ".py",
   "mimetype": "text/x-python",
   "name": "python",
   "nbconvert_exporter": "python",
   "pygments_lexer": "ipython3",
   "version": "3.6.1"
  }
 },
 "nbformat": 4,
 "nbformat_minor": 1
}
