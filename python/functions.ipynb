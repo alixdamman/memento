{
 "cells": [
  {
   "cell_type": "markdown",
   "metadata": {
    "collapsed": true
   },
   "source": [
    "# Functions"
   ]
  },
  {
   "cell_type": "markdown",
   "metadata": {},
   "source": [
    "## Define a function in Python"
   ]
  },
  {
   "cell_type": "markdown",
   "metadata": {},
   "source": [
    "The keyword **def** introduces a function definition. It must be followed by the function name and the parenthesized list of formal parameters."
   ]
  },
  {
   "cell_type": "code",
   "execution_count": null,
   "metadata": {},
   "outputs": [],
   "source": [
    "def print_sequence(start, end, step):\n",
    "    \"\"\"Print a sequence\"\"\"\n",
    "    x = start\n",
    "    while x < end:\n",
    "        print(x, end=' ')\n",
    "        x += step\n",
    "\n",
    "print_sequence(0, 10, 2)"
   ]
  },
  {
   "cell_type": "markdown",
   "metadata": {},
   "source": [
    "The keyword **return** is used to return a value"
   ]
  },
  {
   "cell_type": "code",
   "execution_count": null,
   "metadata": {},
   "outputs": [],
   "source": [
    "def get_sequence(start, end, step):\n",
    "    \"\"\"Return a sequence\"\"\"\n",
    "    seq, next_elem = [], start\n",
    "    while next_elem < end:\n",
    "        seq += [next_elem]\n",
    "        next_elem += step\n",
    "    return seq\n",
    "\n",
    "seq = get_sequence(0, 10, 2)\n",
    "print(seq)"
   ]
  },
  {
   "cell_type": "markdown",
   "metadata": {},
   "source": [
    "**Note**: it is allowed to return several values:"
   ]
  },
  {
   "cell_type": "code",
   "execution_count": null,
   "metadata": {},
   "outputs": [],
   "source": [
    "# Note: this function already exists by default in Python\n",
    "def divmod(a, b):\n",
    "    \"\"\"Return the quotient and the remainder of the division of two numbers\"\"\"\n",
    "    return a // b, a % b\n",
    "\n",
    "quotient, remainder = divmod(25, 3)\n",
    "print(quotient, remainder)"
   ]
  },
  {
   "cell_type": "markdown",
   "metadata": {},
   "source": [
    "## Functions namespace (local vs global variables)"
   ]
  },
  {
   "cell_type": "markdown",
   "metadata": {},
   "source": [
    "<div class=\"alert alert-block alert-warning\">**WARNING**: The *execution* of a function introduces a new symbol table used for the **local variables** of the function. \n",
    "More precisely, <font color=red>**all variable assignments (e.g. x = 5) in a function create or act on local variables**; whereas **variable references (e.g. y = x + 5) first look in the local symbol table, then in the local symbol tables of enclosing functions, then in the global symbol table, and finally in the table of built-in names**. Thus, **global variables cannot be directly assigned a value within a function although they may be referenced**</font>.</div>"
   ]
  },
  {
   "cell_type": "code",
   "execution_count": null,
   "metadata": {},
   "outputs": [],
   "source": [
    "step = 1   #global variable\n",
    "\n",
    "def get_sequence_global_step(start, end):\n",
    "    \"\"\"Return a sequence. Use global var step.\"\"\"\n",
    "    print(\"inside function  - step:\", step)\n",
    "    seq, next_elem = [], start\n",
    "    while next_elem < end:\n",
    "        seq += [next_elem]\n",
    "        next_elem += step  # access global variable (no assignement)\n",
    "    return seq\n",
    "\n",
    "seq = get_sequence_global_step(0, 5)\n",
    "print(\"sequence:\", seq)\n",
    "print(\"outside function - step:\", step)\n",
    "print(\"------------------------------\")\n",
    "\n",
    "\n",
    "def get_sequence_local_step(start, end):\n",
    "    \"\"\"Return a sequence. Define a local var step.\"\"\"\n",
    "    step = 2  # create and assign a new local variable (global var \"step\" is shadowed)\n",
    "    print(\"inside function  - step:\", step)\n",
    "    seq, next_elem = [], start\n",
    "    while next_elem < end:\n",
    "        seq += [next_elem]\n",
    "        next_elem += step\n",
    "    return seq\n",
    "\n",
    "seq = get_sequence_local_step(0, 10)\n",
    "print(\"sequence:\", seq)\n",
    "print(\"outside function - step:\", step)"
   ]
  },
  {
   "cell_type": "markdown",
   "metadata": {},
   "source": [
    "## Default Argument Values"
   ]
  },
  {
   "cell_type": "markdown",
   "metadata": {
    "collapsed": true
   },
   "source": [
    "It is possible to set a value by default to some arguments of a function:"
   ]
  },
  {
   "cell_type": "code",
   "execution_count": null,
   "metadata": {},
   "outputs": [],
   "source": [
    "def get_sequence(start, end, step=1):\n",
    "    \"\"\"Return a sequence\"\"\"\n",
    "    seq, next_elem = [], start\n",
    "    while next_elem < end:\n",
    "        seq += [next_elem]\n",
    "        next_elem += step\n",
    "    return seq\n",
    "\n",
    "# if no value provided for step, it will be 1 by default\n",
    "seq = get_sequence(0, 10)\n",
    "print(seq)\n",
    "# passing a value different from 1 for step argument\n",
    "seq = get_sequence(0, 10, 2)\n",
    "print(seq)"
   ]
  },
  {
   "cell_type": "markdown",
   "metadata": {
    "collapsed": true
   },
   "source": [
    "<div class=\"alert alert-block alert-warning\">**WARNING**: **arguments with default values come always after** all the others.</div> "
   ]
  },
  {
   "cell_type": "code",
   "execution_count": null,
   "metadata": {},
   "outputs": [],
   "source": [
    "def get_sequence(start=0, end, step):\n",
    "    \"\"\"Return a sequence\"\"\"\n",
    "    seq, next_elem = [], start\n",
    "    while next_elem < end:\n",
    "        seq += [next_elem]\n",
    "        next_elem += step\n",
    "    return seq\n",
    "\n",
    "seq = get_sequence(10, 2)\n",
    "print(seq)"
   ]
  },
  {
   "cell_type": "markdown",
   "metadata": {},
   "source": [
    "What about default value of composed type like list or dictionary?"
   ]
  },
  {
   "cell_type": "code",
   "execution_count": null,
   "metadata": {},
   "outputs": [],
   "source": [
    "# Wrong way\n",
    "def new_list_wrong_way(value, new_list=[]):\n",
    "    new_list.append(value)\n",
    "    return new_list\n",
    "\n",
    "print('Expected [1]. Got {}'.format(new_list_wrong_way(1)))\n",
    "print('Expected [2]. Got {}'.format(new_list_wrong_way(2)))\n",
    "print('Expected [3]. Got {}'.format(new_list_wrong_way(3)))"
   ]
  },
  {
   "cell_type": "markdown",
   "metadata": {},
   "source": [
    "<div class=\"alert alert-block alert-warning\">**WARNING**: **The default value is evaluated only once**. \n",
    "This leads to an unexpected behavior when the default value is an object of composed type such as a list or dictionary. **For arguments expecting list or dictionary or object of composed type as default value, use None instead and set default value inside the function.**</div>"
   ]
  },
  {
   "cell_type": "code",
   "execution_count": null,
   "metadata": {},
   "outputs": [],
   "source": [
    "# Right way\n",
    "def new_list_right_way(a, new_list=None):\n",
    "    if new_list is None:\n",
    "        new_list = []\n",
    "    new_list.append(a)\n",
    "    return new_list\n",
    "\n",
    "print('Expected [1]. Got {}'.format(new_list_right_way(1)))\n",
    "print('Expected [2]. Got {}'.format(new_list_right_way(2)))\n",
    "print('Expected [3]. Got {}'.format(new_list_right_way(3)))"
   ]
  },
  {
   "cell_type": "markdown",
   "metadata": {},
   "source": [
    "## Keyword Arguments"
   ]
  },
  {
   "cell_type": "markdown",
   "metadata": {},
   "source": [
    "When a function is called, values must be passed in the order of arguments as in the function definition"
   ]
  },
  {
   "cell_type": "code",
   "execution_count": null,
   "metadata": {},
   "outputs": [],
   "source": [
    "def get_sequence(start, end, step=1):\n",
    "    \"\"\"Return a sequence\"\"\"\n",
    "    seq, next_elem = [], start\n",
    "    while next_elem < end:\n",
    "        seq += [next_elem]\n",
    "        next_elem += step\n",
    "    return seq\n",
    "\n",
    "\n",
    "res = get_sequence(0, 10, 2)\n",
    "print(res)"
   ]
  },
  {
   "cell_type": "markdown",
   "metadata": {},
   "source": [
    "But functions can also be called using keyword arguments of the form kwarg=value. It is then possible to pass argument in any order."
   ]
  },
  {
   "cell_type": "code",
   "execution_count": null,
   "metadata": {},
   "outputs": [],
   "source": [
    "res = get_sequence(end=10, step=2, start=0)\n",
    "print(res)"
   ]
  },
  {
   "cell_type": "markdown",
   "metadata": {},
   "source": [
    "It is even possible to mix positional and keyword arguments"
   ]
  },
  {
   "cell_type": "code",
   "execution_count": null,
   "metadata": {},
   "outputs": [],
   "source": [
    "res = get_sequence(0, step=2, end=10)     # 1 positional + 2 keyword args\n",
    "print(res)"
   ]
  },
  {
   "cell_type": "markdown",
   "metadata": {},
   "source": [
    "<div class=\"alert alert-block alert-warning\">**WARNING**: **positional argument must always be passed first**.</div>"
   ]
  },
  {
   "cell_type": "code",
   "execution_count": null,
   "metadata": {},
   "outputs": [],
   "source": [
    "get_sequence(step=2, end=10, 0)     # 2 keyword + 1 positional args --> WRONG!\n",
    "print(res)"
   ]
  },
  {
   "cell_type": "markdown",
   "metadata": {},
   "source": [
    "## Arbitrary Argument Lists"
   ]
  },
  {
   "cell_type": "markdown",
   "metadata": {},
   "source": [
    "When a final formal parameter of the form **\\*\\*kwargs** is present, it receives a **dictionary containing** all **keyword arguments** except for those corresponding to a formal parameter. A formal parameter of the form **\\*args** receives a **tuple containing** the **positional arguments** beyond the formal parameter list. (**\\*args must occur before \\*\\*kwargs**.) "
   ]
  },
  {
   "cell_type": "code",
   "execution_count": null,
   "metadata": {},
   "outputs": [],
   "source": [
    "def join_sequence(*sequences, **kwargs):\n",
    "    \"\"\"join sequences\"\"\"\n",
    "    seq = []\n",
    "    # iterate over positional arguments\n",
    "    for s in sequences:\n",
    "        seq += s\n",
    "    # extract keyword arguments\n",
    "    reverse = kwargs.get('reverse', False)\n",
    "    if reverse:\n",
    "        return seq[::-1]\n",
    "    else:\n",
    "        return seq\n",
    "\n",
    "\n",
    "seq1, seq2, seq3 = get_sequence(0, 10, 2), get_sequence(10, 20, 3), get_sequence(20, 25)\n",
    "print(\"let's join {}, {} and {}:\".format(seq1, seq2, seq3))\n",
    "\n",
    "res = join_sequence(seq1, seq2, seq3)\n",
    "print(res)\n",
    "\n",
    "print(\"\\nwith reverse option:\")\n",
    "res = join_sequence(seq1, seq2, seq3, reverse=True)\n",
    "print(res)"
   ]
  },
  {
   "cell_type": "markdown",
   "metadata": {},
   "source": [
    "## Unpacking Argument Lists"
   ]
  },
  {
   "cell_type": "markdown",
   "metadata": {},
   "source": [
    "The reverse situation occurs when the arguments are in a lists, tuples or dictionarues but need to be passed to a function requiring separate positional arguments. In that case, arguments must be *unpacked*."
   ]
  },
  {
   "cell_type": "code",
   "execution_count": null,
   "metadata": {},
   "outputs": [],
   "source": [
    "def join_two_sequences(seq1, seq2, reverse=False):\n",
    "    \"\"\"join two sequences\"\"\"\n",
    "    if reverse:\n",
    "        return (seq1 + seq2)[::-1]\n",
    "    else:\n",
    "        return seq1 + seq2\n",
    "    \n",
    "print('unpack list')\n",
    "sequences = [[0, 2, 4], [6, 8]]\n",
    "res = join_two_sequences(*sequences)\n",
    "print('join_two_sequences(*sequences):', res)\n",
    "\n",
    "print('\\nunpack dict')\n",
    "sequences = {'seq1': [0, 2, 4], 'seq2': [6, 8], 'reverse': True}\n",
    "res = join_two_sequences(**sequences)\n",
    "print('join_two_sequences(**sequences):', res)\n",
    "\n",
    "print('\\nmixing list and dict unpacking')\n",
    "sequences, reverse = [[0, 2, 4], [6, 8]], {'reverse': True}\n",
    "res = join_sequence(*sequences, **reverse)\n",
    "print('join_sequence(*sequences, **reverse):', res)"
   ]
  },
  {
   "cell_type": "markdown",
   "metadata": {},
   "source": [
    "## More infos on defining functions?"
   ]
  },
  {
   "cell_type": "markdown",
   "metadata": {},
   "source": [
    "See the [official documentation of Python (3.5)](https://docs.python.org/3.5/tutorial/controlflow.html#defining-functions)"
   ]
  }
 ],
 "metadata": {
  "kernelspec": {
   "display_name": "Python 3",
   "language": "python",
   "name": "python3"
  },
  "language_info": {
   "codemirror_mode": {
    "name": "ipython",
    "version": 3
   },
   "file_extension": ".py",
   "mimetype": "text/x-python",
   "name": "python",
   "nbconvert_exporter": "python",
   "pygments_lexer": "ipython3",
   "version": "3.6.1"
  }
 },
 "nbformat": 4,
 "nbformat_minor": 1
}
