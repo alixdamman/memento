{
 "cells": [
  {
   "cell_type": "markdown",
   "metadata": {
    "collapsed": true,
    "slideshow": {
     "slide_type": "slide"
    }
   },
   "source": [
    "# Functions"
   ]
  },
  {
   "cell_type": "markdown",
   "metadata": {
    "slideshow": {
     "slide_type": "subslide"
    }
   },
   "source": [
    "- How to define a function in Python\n",
    "- Local vs global variables\n",
    "- Default Argument Values\n",
    "- Keyword Arguments\n",
    "- Arbitrary Argument Lists\n",
    "- Unpacking Argument Lists"
   ]
  },
  {
   "cell_type": "markdown",
   "metadata": {
    "slideshow": {
     "slide_type": "slide"
    }
   },
   "source": [
    "## How to define a function in Python"
   ]
  },
  {
   "cell_type": "markdown",
   "metadata": {
    "slideshow": {
     "slide_type": "slide"
    }
   },
   "source": [
    "The keyword **def** introduces a function definition. It must be followed by the function name and the parenthesized list of formal parameters."
   ]
  },
  {
   "cell_type": "code",
   "execution_count": 1,
   "metadata": {
    "slideshow": {
     "slide_type": "-"
    }
   },
   "outputs": [
    {
     "name": "stdout",
     "output_type": "stream",
     "text": [
      "0 2 4 6 8 "
     ]
    }
   ],
   "source": [
    "def print_sequence(start, end, step):\n",
    "    \"\"\"Print a sequence\"\"\"\n",
    "    x = start\n",
    "    while x < end:\n",
    "        print(x, end=' ')\n",
    "        x += step\n",
    "\n",
    "print_sequence(0, 10, 2)"
   ]
  },
  {
   "cell_type": "markdown",
   "metadata": {
    "slideshow": {
     "slide_type": "slide"
    }
   },
   "source": [
    "The keyword **return** is used to return a value"
   ]
  },
  {
   "cell_type": "code",
   "execution_count": 2,
   "metadata": {
    "slideshow": {
     "slide_type": "-"
    }
   },
   "outputs": [
    {
     "name": "stdout",
     "output_type": "stream",
     "text": [
      "[0, 2, 4, 6, 8]\n"
     ]
    }
   ],
   "source": [
    "def get_sequence(start, end, step):\n",
    "    \"\"\"Return a sequence\"\"\"\n",
    "    seq, next_elem = [], start\n",
    "    while next_elem < end:\n",
    "        seq += [next_elem]\n",
    "        next_elem += step\n",
    "    return seq\n",
    "\n",
    "seq = get_sequence(0, 10, 2)\n",
    "print(seq)"
   ]
  },
  {
   "cell_type": "markdown",
   "metadata": {
    "slideshow": {
     "slide_type": "slide"
    }
   },
   "source": [
    "**Note**: it is allowed to return several values:"
   ]
  },
  {
   "cell_type": "code",
   "execution_count": 3,
   "metadata": {
    "slideshow": {
     "slide_type": "-"
    }
   },
   "outputs": [
    {
     "name": "stdout",
     "output_type": "stream",
     "text": [
      "8 1\n"
     ]
    }
   ],
   "source": [
    "# Note: this function already exists by default in Python\n",
    "def divmod(a, b):\n",
    "    \"\"\"Return the quotient and the remainder of the division of two numbers\"\"\"\n",
    "    return a // b, a % b\n",
    "\n",
    "quotient, remainder = divmod(25, 3)\n",
    "print(quotient, remainder)"
   ]
  },
  {
   "cell_type": "markdown",
   "metadata": {
    "slideshow": {
     "slide_type": "slide"
    }
   },
   "source": [
    "## Local vs global variables"
   ]
  },
  {
   "cell_type": "markdown",
   "metadata": {
    "slideshow": {
     "slide_type": "slide"
    }
   },
   "source": [
    "### Simple types (int, float, boolean)"
   ]
  },
  {
   "cell_type": "markdown",
   "metadata": {
    "slideshow": {
     "slide_type": "fragment"
    }
   },
   "source": [
    "Let's assign a new value to a parameter inside the function et see what happens:"
   ]
  },
  {
   "cell_type": "code",
   "execution_count": 4,
   "metadata": {
    "slideshow": {
     "slide_type": "-"
    }
   },
   "outputs": [
    {
     "name": "stdout",
     "output_type": "stream",
     "text": [
      "the sum of 5 and 3 is:\n",
      "inside function:     8\n",
      "after function call: 5\n"
     ]
    }
   ],
   "source": [
    "def add_wrong_way(a, b):\n",
    "    \"\"\"Add b to a\"\"\"\n",
    "    a = a + b\n",
    "    print(\"inside function:    \", a)\n",
    "\n",
    "a, b = 5, 3\n",
    "print(\"the sum of {} and {} is:\".format(a, b))\n",
    "\n",
    "add_wrong_way(a, b)\n",
    "print(\"after function call:\", a)"
   ]
  },
  {
   "cell_type": "markdown",
   "metadata": {
    "slideshow": {
     "slide_type": "slide"
    }
   },
   "source": [
    "Let's take a second look using the builtin function [id](https://docs.python.org/3.5/library/functions.html#id). This function returns the *identity* of an object. This is an integer which is guaranteed to be unique and constant for this object during its lifetime."
   ]
  },
  {
   "cell_type": "code",
   "execution_count": 5,
   "metadata": {
    "slideshow": {
     "slide_type": "-"
    }
   },
   "outputs": [
    {
     "name": "stdout",
     "output_type": "stream",
     "text": [
      "before calling function:             139873252358720 139873252358656\n",
      "inside function - before assignment: 139873252358720 139873252358656\n",
      "inside function - after assignment:  139873252358816 139873252358656\n",
      "after calling function:              139873252358720 139873252358656\n"
     ]
    }
   ],
   "source": [
    "def add_wrong_way(a, b):\n",
    "    print('inside function - before assignment:', id(a), id(b))\n",
    "    # during assignment, a new local variable 'a' is created \n",
    "    a = a + b\n",
    "    print('inside function - after assignment: ', id(a), id(b))\n",
    "\n",
    "a, b = 5, 3\n",
    "print('before calling function:            ', id(a), id(b))\n",
    "\n",
    "add_wrong_way(a, b)\n",
    "print('after calling function:             ', id(a), id(b))"
   ]
  },
  {
   "cell_type": "markdown",
   "metadata": {
    "slideshow": {
     "slide_type": "subslide"
    }
   },
   "source": [
    "image"
   ]
  },
  {
   "cell_type": "markdown",
   "metadata": {
    "slideshow": {
     "slide_type": "slide"
    }
   },
   "source": [
    "<div class=\"alert alert-block alert-warning\">\n",
    "<font color=red>WARNING</font>: The execution of a function introduces a new symbol table used for the local variables of the function. \n",
    "More precisely, <font color=red>all variable assignments (e.g. x = 5) in a function create or act on local variables ; whereas variable references (e.g. y = x + 5) first look in the local symbol table, then in the local symbol tables of enclosing functions, then in the global symbol table, and finally in the table of built-in names. Thus, global variables cannot be directly assigned a value within a function although they may be referenced</font>.</div>"
   ]
  },
  {
   "cell_type": "markdown",
   "metadata": {
    "slideshow": {
     "slide_type": "slide"
    }
   },
   "source": [
    "Right way to do? Use the keyword **return** to return the modified value:"
   ]
  },
  {
   "cell_type": "code",
   "execution_count": 6,
   "metadata": {
    "slideshow": {
     "slide_type": "-"
    }
   },
   "outputs": [
    {
     "name": "stdout",
     "output_type": "stream",
     "text": [
      "the sum of 5 and 3 is 8\n"
     ]
    }
   ],
   "source": [
    "def add_right_way(a, b):\n",
    "    return a + b\n",
    "\n",
    "a, b = 5, 3\n",
    "res = add_right_way(a, b)\n",
    "\n",
    "print(\"the sum of {} and {} is {}\".format(a, b, res))"
   ]
  },
  {
   "cell_type": "markdown",
   "metadata": {
    "slideshow": {
     "slide_type": "slide"
    }
   },
   "source": [
    "### Sequence types ( list, tuple, set, dict, ...) + composed objects"
   ]
  },
  {
   "cell_type": "markdown",
   "metadata": {
    "slideshow": {
     "slide_type": "fragment"
    }
   },
   "source": [
    "What about lists, dictionaries and composed objects arguments? "
   ]
  },
  {
   "cell_type": "code",
   "execution_count": 7,
   "metadata": {
    "slideshow": {
     "slide_type": "-"
    }
   },
   "outputs": [
    {
     "name": "stdout",
     "output_type": "stream",
     "text": [
      "[0, 1, 2, 3, 4]\n",
      "[0, 3, 2, 1, 4]\n"
     ]
    }
   ],
   "source": [
    "def swap(pos1, pos2, a_list):\n",
    "    \"\"\"Swap two elements of a list\"\"\"\n",
    "    a_list[pos2], a_list[pos1] = a_list[pos1], a_list[pos2]\n",
    "    \n",
    "my_list = [0, 1, 2, 3, 4]\n",
    "print(my_list)\n",
    "\n",
    "swap(1, 3, my_list)\n",
    "print(my_list)"
   ]
  },
  {
   "cell_type": "markdown",
   "metadata": {
    "slideshow": {
     "slide_type": "fragment"
    }
   },
   "source": [
    "<div class=\"alert alert-block alert-info\">\n",
    "<font color=blue>NOTE</font>: As long as you modify only an element (part) of a list, tuple, dict or composed object, it's OK.</div> "
   ]
  },
  {
   "cell_type": "markdown",
   "metadata": {
    "slideshow": {
     "slide_type": "slide"
    }
   },
   "source": [
    "If you try to reassign it completely, you'll get in trouble"
   ]
  },
  {
   "cell_type": "code",
   "execution_count": 8,
   "metadata": {
    "slideshow": {
     "slide_type": "-"
    }
   },
   "outputs": [
    {
     "name": "stdout",
     "output_type": "stream",
     "text": [
      "Extend list [0, 1, 2, 3, 4] with list [5, 6, 7]:\n",
      "inside function:     [0, 1, 2, 3, 4, 5, 6, 7]\n",
      "after function call: [0, 1, 2, 3, 4]\n"
     ]
    }
   ],
   "source": [
    "# In the real world, you should use the method `extend` of list\n",
    "def extend(list_1, list_2):\n",
    "    \"\"\"Extend a list with another one\"\"\"\n",
    "    list_1 = list_1 + list_2\n",
    "    print(\"inside function:    \", list_1)\n",
    "    \n",
    "list_1 = [0, 1, 2, 3, 4]\n",
    "list_2 = [5, 6, 7]\n",
    "print(\"Extend list {} with list {}:\".format(list_1, list_2))\n",
    "\n",
    "extend(list_1, list_2)\n",
    "print(\"after function call:\", list_1)"
   ]
  },
  {
   "cell_type": "markdown",
   "metadata": {
    "slideshow": {
     "slide_type": "slide"
    }
   },
   "source": [
    "Using function [id](https://docs.python.org/3.5/library/functions.html#id), we see:"
   ]
  },
  {
   "cell_type": "code",
   "execution_count": 9,
   "metadata": {
    "slideshow": {
     "slide_type": "-"
    }
   },
   "outputs": [
    {
     "name": "stdout",
     "output_type": "stream",
     "text": [
      "before calling function:             139873005854664 139873005851656\n",
      "inside function - before assignment: 139873005854664 139873005851656\n",
      "inside function - after assignment:  139873005994248 139873005851656\n",
      "after calling function:              139873005854664 139873005851656\n"
     ]
    }
   ],
   "source": [
    "# In the real world, you should use the method `extend` of list\n",
    "def extend(list_1, list_2):\n",
    "    \"\"\"Extend a list with another one\"\"\"\n",
    "    print('inside function - before assignment:', id(list_1), id(list_2))\n",
    "    # during assignment, a new local variable 'list_1' is created\n",
    "    list_1 = list_1 + list_2\n",
    "    print('inside function - after assignment: ', id(list_1), id(list_2))\n",
    "    \n",
    "list_1 = [0, 1, 2, 3, 4]\n",
    "list_2 = [5, 6, 7]\n",
    "print('before calling function:            ', id(list_1), id(list_2))\n",
    "\n",
    "extend(list_1, list_2)\n",
    "print('after calling function:             ', id(list_1), id(list_2))"
   ]
  },
  {
   "cell_type": "markdown",
   "metadata": {
    "slideshow": {
     "slide_type": "subslide"
    }
   },
   "source": [
    "image"
   ]
  },
  {
   "cell_type": "markdown",
   "metadata": {
    "slideshow": {
     "slide_type": "slide"
    }
   },
   "source": [
    "### Global variables"
   ]
  },
  {
   "cell_type": "markdown",
   "metadata": {
    "slideshow": {
     "slide_type": "slide"
    }
   },
   "source": [
    "Let's define a variable before a function definition and try to modify it inside that function:"
   ]
  },
  {
   "cell_type": "code",
   "execution_count": 10,
   "metadata": {
    "slideshow": {
     "slide_type": "-"
    }
   },
   "outputs": [
    {
     "name": "stdout",
     "output_type": "stream",
     "text": [
      "after initialization: I'm a global variable\n",
      "inside function:      I'm dangerous\n",
      "after function call:  I'm a global variable\n"
     ]
    }
   ],
   "source": [
    "var = \"I'm a global variable\"\n",
    "print(\"after initialization:\", var)\n",
    "\n",
    "def play_with_global_vars():\n",
    "    var = \"I'm dangerous\"\n",
    "    print(\"inside function:     \", var)\n",
    "\n",
    "play_with_global_vars()\n",
    "print(\"after function call: \", var)"
   ]
  },
  {
   "cell_type": "markdown",
   "metadata": {
    "slideshow": {
     "slide_type": "slide"
    }
   },
   "source": [
    "Now, let's try to access global variable before to reassign it:\n",
    "\n",
    "```python\n",
    "var = \"I'm a global variable\"\n",
    "\n",
    "def play_with_global_vars():\n",
    "    print(var)\n",
    "    var = \"I'm dangerous\"\n",
    "\n",
    "play_with_global_vars()\n",
    "print(var)\n",
    "```"
   ]
  },
  {
   "cell_type": "code",
   "execution_count": 11,
   "metadata": {
    "slideshow": {
     "slide_type": "subslide"
    }
   },
   "outputs": [
    {
     "ename": "UnboundLocalError",
     "evalue": "local variable 'var' referenced before assignment",
     "output_type": "error",
     "traceback": [
      "\u001b[0;31m---------------------------------------------------------------------------\u001b[0m",
      "\u001b[0;31mUnboundLocalError\u001b[0m                         Traceback (most recent call last)",
      "\u001b[0;32m<ipython-input-11-fc116ca52b31>\u001b[0m in \u001b[0;36m<module>\u001b[0;34m()\u001b[0m\n\u001b[1;32m      5\u001b[0m     \u001b[0mvar\u001b[0m \u001b[0;34m=\u001b[0m \u001b[0;34m\"I'm dangerous\"\u001b[0m\u001b[0;34m\u001b[0m\u001b[0m\n\u001b[1;32m      6\u001b[0m \u001b[0;34m\u001b[0m\u001b[0m\n\u001b[0;32m----> 7\u001b[0;31m \u001b[0mplay_with_global_vars\u001b[0m\u001b[0;34m(\u001b[0m\u001b[0;34m)\u001b[0m\u001b[0;34m\u001b[0m\u001b[0m\n\u001b[0m\u001b[1;32m      8\u001b[0m \u001b[0mprint\u001b[0m\u001b[0;34m(\u001b[0m\u001b[0mvar\u001b[0m\u001b[0;34m)\u001b[0m\u001b[0;34m\u001b[0m\u001b[0m\n",
      "\u001b[0;32m<ipython-input-11-fc116ca52b31>\u001b[0m in \u001b[0;36mplay_with_global_vars\u001b[0;34m()\u001b[0m\n\u001b[1;32m      2\u001b[0m \u001b[0;34m\u001b[0m\u001b[0m\n\u001b[1;32m      3\u001b[0m \u001b[0;32mdef\u001b[0m \u001b[0mplay_with_global_vars\u001b[0m\u001b[0;34m(\u001b[0m\u001b[0;34m)\u001b[0m\u001b[0;34m:\u001b[0m\u001b[0;34m\u001b[0m\u001b[0m\n\u001b[0;32m----> 4\u001b[0;31m     \u001b[0mprint\u001b[0m\u001b[0;34m(\u001b[0m\u001b[0mvar\u001b[0m\u001b[0;34m)\u001b[0m\u001b[0;34m\u001b[0m\u001b[0m\n\u001b[0m\u001b[1;32m      5\u001b[0m     \u001b[0mvar\u001b[0m \u001b[0;34m=\u001b[0m \u001b[0;34m\"I'm dangerous\"\u001b[0m\u001b[0;34m\u001b[0m\u001b[0m\n\u001b[1;32m      6\u001b[0m \u001b[0;34m\u001b[0m\u001b[0m\n",
      "\u001b[0;31mUnboundLocalError\u001b[0m: local variable 'var' referenced before assignment"
     ]
    }
   ],
   "source": [
    "var = \"I'm a global variable\"\n",
    "\n",
    "def play_with_global_vars():\n",
    "    print(var)\n",
    "    var = \"I'm dangerous\"\n",
    "\n",
    "play_with_global_vars()\n",
    "print(var)"
   ]
  },
  {
   "cell_type": "markdown",
   "metadata": {
    "slideshow": {
     "slide_type": "slide"
    }
   },
   "source": [
    "<div class=\"alert alert-block alert-warning\">\n",
    "<font color=red>WARNING</font>: <font color=red>A function can have access to variables defined outside BUT trying to assign them a new value create local variables</font>. This may lead to an unexpected behavior.</div>"
   ]
  },
  {
   "cell_type": "markdown",
   "metadata": {
    "slideshow": {
     "slide_type": "slide"
    }
   },
   "source": [
    "With more explanations:"
   ]
  },
  {
   "cell_type": "code",
   "execution_count": 12,
   "metadata": {
    "slideshow": {
     "slide_type": "-"
    }
   },
   "outputs": [
    {
     "name": "stdout",
     "output_type": "stream",
     "text": [
      "after initialization:                139873005702648\n",
      "before calling function:             139873005702648\n",
      "inside function - after assignment:  139873005326704\n",
      "after calling function:              139873005702648\n"
     ]
    }
   ],
   "source": [
    "var = \"I'm a global variable\"\n",
    "print('after initialization:               ', id(var))\n",
    "\n",
    "def play_with_global_vars():\n",
    "    # during assignment, a new local variable 'var' is created\n",
    "    var = \"I'm dangerous\"\n",
    "    print('inside function - after assignment: ', id(var))\n",
    "\n",
    "print('before calling function:            ', id(var))\n",
    "\n",
    "play_with_global_vars()\n",
    "\n",
    "print('after calling function:             ', id(var))"
   ]
  },
  {
   "cell_type": "markdown",
   "metadata": {
    "slideshow": {
     "slide_type": "subslide"
    }
   },
   "source": [
    "image"
   ]
  },
  {
   "cell_type": "markdown",
   "metadata": {
    "slideshow": {
     "slide_type": "fragment"
    }
   },
   "source": [
    "<div class=\"alert alert-block alert-info\">\n",
    "<font color=blue>NOTE</font>: For complex types like list, tuple, dict or composed objects, it is possible to modify an element (part) of them.</div> "
   ]
  },
  {
   "cell_type": "code",
   "execution_count": 24,
   "metadata": {
    "slideshow": {
     "slide_type": "slide"
    }
   },
   "outputs": [
    {
     "name": "stdout",
     "output_type": "stream",
     "text": [
      "[\"I'm\", 'a', 'global', 'variable']\n",
      "[\"I'm\", 'another', 'global', 'variable']\n",
      "========================================\n",
      "[\"I'm\", 'a', 'global', 'variable']\n",
      "[\"I'm\", 'new', 'global', 'variable']\n"
     ]
    }
   ],
   "source": [
    "list_var = \"I'm a global variable\".split()\n",
    "list_var2 = \"I'm another global variable\".split()\n",
    "\n",
    "print(list_var)\n",
    "print(list_var2)\n",
    "\n",
    "def play_with_global_vars():\n",
    "    # reassign the entire list --> WRONG!\n",
    "    list_var = \"I'm a local variable\".split()\n",
    "    # reassign an element of the list --> OK\n",
    "    list_var2[1] = \"new\"\n",
    "    \n",
    "play_with_global_vars()\n",
    "print(\"========================================\")\n",
    "print(list_var)\n",
    "print(list_var2)"
   ]
  },
  {
   "cell_type": "markdown",
   "metadata": {
    "slideshow": {
     "slide_type": "slide"
    }
   },
   "source": [
    "## Default Argument Values"
   ]
  },
  {
   "cell_type": "markdown",
   "metadata": {
    "collapsed": true,
    "slideshow": {
     "slide_type": "fragment"
    }
   },
   "source": [
    "It is possible to set a value by default to some arguments of a function:"
   ]
  },
  {
   "cell_type": "code",
   "execution_count": 13,
   "metadata": {
    "slideshow": {
     "slide_type": "-"
    }
   },
   "outputs": [
    {
     "name": "stdout",
     "output_type": "stream",
     "text": [
      "[0, 1, 2, 3, 4, 5, 6, 7, 8, 9]\n",
      "[0, 2, 4, 6, 8]\n"
     ]
    }
   ],
   "source": [
    "def get_sequence(start, end, step=1):\n",
    "    \"\"\"Return a sequence\"\"\"\n",
    "    seq, next_elem = [], start\n",
    "    while next_elem < end:\n",
    "        seq += [next_elem]\n",
    "        next_elem += step\n",
    "    return seq\n",
    "\n",
    "# if no value provided for step, it will be 1 by default\n",
    "seq = get_sequence(0, 10)\n",
    "print(seq)\n",
    "# passing a value different from 1 for step argument\n",
    "seq = get_sequence(0, 10, 2)\n",
    "print(seq)"
   ]
  },
  {
   "cell_type": "markdown",
   "metadata": {
    "collapsed": true,
    "slideshow": {
     "slide_type": "slide"
    }
   },
   "source": [
    "<div class=\"alert alert-block alert-warning\">\n",
    "<font color=red>WARNING</font>: <font color=red>arguments with default values come always after all the others.</font></div> "
   ]
  },
  {
   "cell_type": "code",
   "execution_count": 14,
   "metadata": {
    "slideshow": {
     "slide_type": "-"
    }
   },
   "outputs": [
    {
     "ename": "SyntaxError",
     "evalue": "non-default argument follows default argument (<ipython-input-14-5ab85da3ae92>, line 1)",
     "output_type": "error",
     "traceback": [
      "\u001b[0;36m  File \u001b[0;32m\"<ipython-input-14-5ab85da3ae92>\"\u001b[0;36m, line \u001b[0;32m1\u001b[0m\n\u001b[0;31m    def get_sequence(start=0, end, step):\u001b[0m\n\u001b[0m                    ^\u001b[0m\n\u001b[0;31mSyntaxError\u001b[0m\u001b[0;31m:\u001b[0m non-default argument follows default argument\n"
     ]
    }
   ],
   "source": [
    "def get_sequence(start=0, end, step):\n",
    "    \"\"\"Return a sequence\"\"\"\n",
    "    seq, next_elem = [], start\n",
    "    while next_elem < end:\n",
    "        seq += [next_elem]\n",
    "        next_elem += step\n",
    "    return seq\n",
    "\n",
    "seq = get_sequence(10, 2)\n",
    "print(seq)"
   ]
  },
  {
   "cell_type": "markdown",
   "metadata": {
    "slideshow": {
     "slide_type": "slide"
    }
   },
   "source": [
    "What about default value of composed type like list or dictionary?"
   ]
  },
  {
   "cell_type": "code",
   "execution_count": 15,
   "metadata": {
    "slideshow": {
     "slide_type": "-"
    }
   },
   "outputs": [
    {
     "name": "stdout",
     "output_type": "stream",
     "text": [
      "Expected [1]. Got [1]\n",
      "Expected [2]. Got [1, 2]\n",
      "Expected [3]. Got [1, 2, 3]\n"
     ]
    }
   ],
   "source": [
    "# Wrong way\n",
    "def new_list_wrong_way(value, new_list=[]):\n",
    "    new_list.append(value)\n",
    "    return new_list\n",
    "\n",
    "print('Expected [1]. Got {}'.format(new_list_wrong_way(1)))\n",
    "print('Expected [2]. Got {}'.format(new_list_wrong_way(2)))\n",
    "print('Expected [3]. Got {}'.format(new_list_wrong_way(3)))"
   ]
  },
  {
   "cell_type": "markdown",
   "metadata": {
    "slideshow": {
     "slide_type": "slide"
    }
   },
   "source": [
    "<div class=\"alert alert-block alert-warning\">\n",
    "<font color=red>WARNING</font>: <font color=red>The default value is evaluated only once</font>. \n",
    "This leads to an unexpected behavior when the default value is an object of composed type such as a list or dictionary. \n",
    "<font color=red>For arguments expecting list or dictionary or object of composed type as default value, use None instead and set default value inside the function</font>.</div>"
   ]
  },
  {
   "cell_type": "code",
   "execution_count": 16,
   "metadata": {
    "slideshow": {
     "slide_type": "-"
    }
   },
   "outputs": [
    {
     "name": "stdout",
     "output_type": "stream",
     "text": [
      "Expected [1]. Got [1]\n",
      "Expected [2]. Got [2]\n",
      "Expected [3]. Got [3]\n"
     ]
    }
   ],
   "source": [
    "# Right way\n",
    "def new_list_right_way(a, new_list=None):\n",
    "    if new_list is None:\n",
    "        new_list = []\n",
    "    new_list.append(a)\n",
    "    return new_list\n",
    "\n",
    "print('Expected [1]. Got {}'.format(new_list_right_way(1)))\n",
    "print('Expected [2]. Got {}'.format(new_list_right_way(2)))\n",
    "print('Expected [3]. Got {}'.format(new_list_right_way(3)))"
   ]
  },
  {
   "cell_type": "markdown",
   "metadata": {
    "slideshow": {
     "slide_type": "slide"
    }
   },
   "source": [
    "## Keyword Arguments"
   ]
  },
  {
   "cell_type": "markdown",
   "metadata": {
    "slideshow": {
     "slide_type": "fragment"
    }
   },
   "source": [
    "When a function is called, values must be passed in the order of arguments as in the function definition"
   ]
  },
  {
   "cell_type": "code",
   "execution_count": 17,
   "metadata": {
    "slideshow": {
     "slide_type": "-"
    }
   },
   "outputs": [
    {
     "name": "stdout",
     "output_type": "stream",
     "text": [
      "[0, 2, 4, 6, 8]\n"
     ]
    }
   ],
   "source": [
    "def get_sequence(start, end, step=1):\n",
    "    \"\"\"Return a sequence\"\"\"\n",
    "    seq, next_elem = [], start\n",
    "    while next_elem < end:\n",
    "        seq += [next_elem]\n",
    "        next_elem += step\n",
    "    return seq\n",
    "\n",
    "\n",
    "res = get_sequence(0, 10, 2)\n",
    "print(res)"
   ]
  },
  {
   "cell_type": "markdown",
   "metadata": {
    "slideshow": {
     "slide_type": "slide"
    }
   },
   "source": [
    "But functions can also be called using keyword arguments of the form kwarg=value. It is then possible to pass argument in any order."
   ]
  },
  {
   "cell_type": "code",
   "execution_count": 18,
   "metadata": {
    "slideshow": {
     "slide_type": "-"
    }
   },
   "outputs": [
    {
     "name": "stdout",
     "output_type": "stream",
     "text": [
      "[0, 2, 4, 6, 8]\n"
     ]
    }
   ],
   "source": [
    "res = get_sequence(end=10, step=2, start=0)\n",
    "print(res)"
   ]
  },
  {
   "cell_type": "markdown",
   "metadata": {
    "slideshow": {
     "slide_type": "slide"
    }
   },
   "source": [
    "It is even possible to mix positional and keyword arguments"
   ]
  },
  {
   "cell_type": "code",
   "execution_count": 19,
   "metadata": {
    "slideshow": {
     "slide_type": "-"
    }
   },
   "outputs": [
    {
     "name": "stdout",
     "output_type": "stream",
     "text": [
      "[0, 2, 4, 6, 8]\n"
     ]
    }
   ],
   "source": [
    "res = get_sequence(0, step=2, end=10)     # 1 positional + 2 keyword args\n",
    "print(res)"
   ]
  },
  {
   "cell_type": "markdown",
   "metadata": {
    "slideshow": {
     "slide_type": "slide"
    }
   },
   "source": [
    "<div class=\"alert alert-block alert-warning\">\n",
    "<font color=red>WARNING</font>: <font color=red>positional argument must always be passed first</font>.</div>"
   ]
  },
  {
   "cell_type": "code",
   "execution_count": 20,
   "metadata": {
    "slideshow": {
     "slide_type": "-"
    }
   },
   "outputs": [
    {
     "ename": "SyntaxError",
     "evalue": "positional argument follows keyword argument (<ipython-input-20-c79a3f2ddb6f>, line 1)",
     "output_type": "error",
     "traceback": [
      "\u001b[0;36m  File \u001b[0;32m\"<ipython-input-20-c79a3f2ddb6f>\"\u001b[0;36m, line \u001b[0;32m1\u001b[0m\n\u001b[0;31m    get_sequence(step=2, end=10, 0)     # 2 keyword + 1 positional args --> WRONG!\u001b[0m\n\u001b[0m                                ^\u001b[0m\n\u001b[0;31mSyntaxError\u001b[0m\u001b[0;31m:\u001b[0m positional argument follows keyword argument\n"
     ]
    }
   ],
   "source": [
    "get_sequence(step=2, end=10, 0)     # 2 keyword + 1 positional args --> WRONG!\n",
    "print(res)"
   ]
  },
  {
   "cell_type": "markdown",
   "metadata": {
    "slideshow": {
     "slide_type": "slide"
    }
   },
   "source": [
    "## Arbitrary Argument Lists"
   ]
  },
  {
   "cell_type": "markdown",
   "metadata": {
    "slideshow": {
     "slide_type": "fragment"
    }
   },
   "source": [
    "When a final formal parameter of the form **\\*\\*kwargs** is present, it receives a **dictionary containing** all **keyword arguments** except for those corresponding to a formal parameter. A formal parameter of the form **\\*args** receives a **tuple containing** the **positional arguments** beyond the formal parameter list. (**\\*args must occur before \\*\\*kwargs**) \n",
    "\n",
    "```python\n",
    "def join_sequence(*sequences, **kwargs):\n",
    "    \"\"\"join sequences\"\"\"\n",
    "    seq = []\n",
    "    # iterate over positional arguments\n",
    "    for s in sequences:\n",
    "        seq += s\n",
    "    # extract keyword arguments\n",
    "    reverse = kwargs.get('reverse', False)\n",
    "    if reverse:\n",
    "        return seq[::-1]\n",
    "    else:\n",
    "        return seq\n",
    "```"
   ]
  },
  {
   "cell_type": "code",
   "execution_count": 21,
   "metadata": {
    "slideshow": {
     "slide_type": "subslide"
    }
   },
   "outputs": [
    {
     "name": "stdout",
     "output_type": "stream",
     "text": [
      "let's join [0, 2, 4, 6, 8], [10, 13, 16, 19] and [20, 21, 22, 23, 24]:\n",
      "[0, 2, 4, 6, 8, 10, 13, 16, 19, 20, 21, 22, 23, 24]\n",
      "\n",
      "with reverse option:\n",
      "[24, 23, 22, 21, 20, 19, 16, 13, 10, 8, 6, 4, 2, 0]\n"
     ]
    }
   ],
   "source": [
    "def join_sequence(*sequences, **kwargs):\n",
    "    \"\"\"join sequences\"\"\"\n",
    "    seq = []\n",
    "    # iterate over positional arguments\n",
    "    for s in sequences:\n",
    "        seq += s\n",
    "    # extract keyword arguments\n",
    "    reverse = kwargs.get('reverse', False)\n",
    "    if reverse:\n",
    "        return seq[::-1]\n",
    "    else:\n",
    "        return seq\n",
    "\n",
    "\n",
    "seq1, seq2, seq3 = get_sequence(0, 10, 2), get_sequence(10, 20, 3), get_sequence(20, 25)\n",
    "print(\"let's join {}, {} and {}:\".format(seq1, seq2, seq3))\n",
    "\n",
    "res = join_sequence(seq1, seq2, seq3)\n",
    "print(res)\n",
    "\n",
    "print(\"\\nwith reverse option:\")\n",
    "res = join_sequence(seq1, seq2, seq3, reverse=True)\n",
    "print(res)"
   ]
  },
  {
   "cell_type": "markdown",
   "metadata": {
    "slideshow": {
     "slide_type": "slide"
    }
   },
   "source": [
    "## Unpacking Argument Lists"
   ]
  },
  {
   "cell_type": "markdown",
   "metadata": {
    "slideshow": {
     "slide_type": "fragment"
    }
   },
   "source": [
    "The reverse situation occurs when the arguments are in a lists, tuples or dictionarues but need to be passed to a function requiring separate positional arguments. In that case, arguments must be *unpacked*.\n",
    "\n",
    "```python\n",
    "def join_two_sequences(seq1, seq2, reverse=False):\n",
    "    \"\"\"join two sequences\"\"\"\n",
    "    if reverse:\n",
    "        return (seq1 + seq2)[::-1]\n",
    "    else:\n",
    "        return seq1 + seq2\n",
    "```"
   ]
  },
  {
   "cell_type": "code",
   "execution_count": 23,
   "metadata": {
    "slideshow": {
     "slide_type": "subslide"
    }
   },
   "outputs": [
    {
     "name": "stdout",
     "output_type": "stream",
     "text": [
      "unpack list\n",
      "join_two_sequences(*sequences): [0, 2, 4, 6, 8]\n",
      "\n",
      "unpack dict\n",
      "join_two_sequences(**sequences): [8, 6, 4, 2, 0]\n",
      "\n",
      "mixing list and dict unpacking\n",
      "join_sequence(*sequences, **reverse): [8, 6, 4, 2, 0]\n"
     ]
    }
   ],
   "source": [
    "def join_two_sequences(seq1, seq2, reverse=False):\n",
    "    \"\"\"join two sequences\"\"\"\n",
    "    if reverse:\n",
    "        return (seq1 + seq2)[::-1]\n",
    "    else:\n",
    "        return seq1 + seq2\n",
    "    \n",
    "print('unpack list')\n",
    "sequences = [[0, 2, 4], [6, 8]]\n",
    "res = join_two_sequences(*sequences)\n",
    "print('join_two_sequences(*sequences):', res)\n",
    "\n",
    "print('\\nunpack dict')\n",
    "sequences = {'seq1': [0, 2, 4], 'seq2': [6, 8], 'reverse': True}\n",
    "res = join_two_sequences(**sequences)\n",
    "print('join_two_sequences(**sequences):', res)\n",
    "\n",
    "print('\\nmixing list and dict unpacking')\n",
    "sequences, reverse = [[0, 2, 4], [6, 8]], {'reverse': True}\n",
    "res = join_sequence(*sequences, **reverse)\n",
    "print('join_sequence(*sequences, **reverse):', res)"
   ]
  },
  {
   "cell_type": "markdown",
   "metadata": {
    "slideshow": {
     "slide_type": "slide"
    }
   },
   "source": [
    "## More infos on defining functions?\n",
    "\n",
    "See the [official documentation of Python (3.5)](https://docs.python.org/3.5/tutorial/controlflow.html#defining-functions)"
   ]
  }
 ],
 "metadata": {
  "celltoolbar": "Slideshow",
  "kernelspec": {
   "display_name": "Python 3",
   "language": "python",
   "name": "python3"
  },
  "language_info": {
   "codemirror_mode": {
    "name": "ipython",
    "version": 3
   },
   "file_extension": ".py",
   "mimetype": "text/x-python",
   "name": "python",
   "nbconvert_exporter": "python",
   "pygments_lexer": "ipython3",
   "version": "3.6.1"
  }
 },
 "nbformat": 4,
 "nbformat_minor": 1
}
