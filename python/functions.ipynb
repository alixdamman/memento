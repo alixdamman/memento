{
 "cells": [
  {
   "cell_type": "markdown",
   "metadata": {
    "collapsed": true
   },
   "source": [
    "# Functions"
   ]
  },
  {
   "cell_type": "markdown",
   "metadata": {},
   "source": [
    "The keyword def introduces a function definition. It must be followed by the function name and the parenthesized list of formal parameters:"
   ]
  },
  {
   "cell_type": "code",
   "execution_count": 1,
   "metadata": {},
   "outputs": [
    {
     "name": "stdout",
     "output_type": "stream",
     "text": [
      "print something\n"
     ]
    }
   ],
   "source": [
    "# define a function that does nothing except printing something\n",
    "def print_something():\n",
    "    \"\"\"Put the documentation of the function here\"\"\"\n",
    "    print(\"print something\")\n",
    "\n",
    "#call the function\n",
    "print_something()"
   ]
  },
  {
   "cell_type": "code",
   "execution_count": null,
   "metadata": {
    "collapsed": true
   },
   "outputs": [],
   "source": []
  },
  {
   "cell_type": "code",
   "execution_count": null,
   "metadata": {
    "collapsed": true
   },
   "outputs": [],
   "source": []
  },
  {
   "cell_type": "markdown",
   "metadata": {},
   "source": [
    "## Using variables defined outside the function"
   ]
  },
  {
   "cell_type": "markdown",
   "metadata": {},
   "source": [
    "<aside class=\"warning\">\n",
    "**WARNING**: All variable assignments in a function store the value in a local variable, i.e. that only exists inside the function. Variables defined outside the function (=global) can be accessed but cannot be reassigned.\n",
    "If you try to reassign a global variable, it is shadowed by a new local one with the same name. \n",
    "</aside>"
   ]
  },
  {
   "cell_type": "code",
   "execution_count": 18,
   "metadata": {},
   "outputs": [
    {
     "name": "stdout",
     "output_type": "stream",
     "text": [
      "I've been declared and assigned outside the function but you can see me.\n",
      "I'm a local variable.\n",
      "I'm a global variable.\n"
     ]
    }
   ],
   "source": [
    "var = \"I've been declared and assigned outside the function but you can see me.\"\n",
    "var2 = \"I'm a global variable.\"\n",
    "\n",
    "def play_with_vars_defined_outside():\n",
    "    # variables defined outside the function are accessible\n",
    "    print(var)\n",
    "    # but if you try to reassign it, you actually create a new local variable with the same name\n",
    "    var2 = \"I'm a local variable.\"\n",
    "    print(var2)\n",
    "\n",
    "play_with_vars_defined_outside()\n",
    "# after the function exit, the local variable var2 has been destroyed\n",
    "# and the content of the global variable var2 is unchanged\n",
    "print(var2)"
   ]
  },
  {
   "cell_type": "markdown",
   "metadata": {},
   "source": [
    "To avoid trouble, do not try to modify global variables inside functions and use **return** at the end of the function to return the modified value."
   ]
  },
  {
   "cell_type": "code",
   "execution_count": 19,
   "metadata": {},
   "outputs": [
    {
     "name": "stdout",
     "output_type": "stream",
     "text": [
      "I'm a global variable and I've been modified\n"
     ]
    }
   ],
   "source": [
    "var = \"I'm a global variable\"\n",
    "\n",
    "def play_with_vars_defined_outside():\n",
    "    return var + \" and I've been modified\"\n",
    "\n",
    "var = play_with_vars_defined_outside()\n",
    "print(var)"
   ]
  },
  {
   "cell_type": "markdown",
   "metadata": {},
   "source": [
    "For more complex types like lists, dictionaries or objects the situation is more complicated:  "
   ]
  },
  {
   "cell_type": "code",
   "execution_count": 24,
   "metadata": {},
   "outputs": [
    {
     "name": "stdout",
     "output_type": "stream",
     "text": [
      "[\"I'm\", 'a', 'global', 'variable']\n",
      "[\"I'm\", 'another', 'global', 'variable']\n",
      "========================================\n",
      "[\"I'm\", 'a', 'global', 'variable']\n",
      "[\"I'm\", 'new', 'global', 'variable']\n"
     ]
    }
   ],
   "source": [
    "list_var = \"I'm a global variable\".split()\n",
    "list_var2 = \"I'm another global variable\".split()\n",
    "\n",
    "print(list_var)\n",
    "print(list_var2)\n",
    "\n",
    "def play_with_vars_defined_outside():\n",
    "    # reassign the entire list create a new list\n",
    "    list_var = \"I'm a new list\".split()\n",
    "    # but reassign an element does not create a local list\n",
    "    list_var2[1] = \"new\"\n",
    "    \n",
    "play_with_vars_defined_outside()\n",
    "print(\"========================================\")\n",
    "print(list_var)\n",
    "print(list_var2)"
   ]
  },
  {
   "cell_type": "code",
   "execution_count": null,
   "metadata": {
    "collapsed": true
   },
   "outputs": [],
   "source": []
  }
 ],
 "metadata": {
  "kernelspec": {
   "display_name": "Python 3",
   "language": "python",
   "name": "python3"
  },
  "language_info": {
   "codemirror_mode": {
    "name": "ipython",
    "version": 3
   },
   "file_extension": ".py",
   "mimetype": "text/x-python",
   "name": "python",
   "nbconvert_exporter": "python",
   "pygments_lexer": "ipython3",
   "version": "3.6.1"
  }
 },
 "nbformat": 4,
 "nbformat_minor": 1
}
